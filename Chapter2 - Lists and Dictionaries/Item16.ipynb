{
 "cells": [
  {
   "cell_type": "markdown",
   "source": [
    "# Item 16: Prefer `get` over `in` and `KeyError` to Handle Missing Dictionary Keys"
   ],
   "metadata": {}
  },
  {
   "cell_type": "markdown",
   "source": [
    "The contents of dictionaries are dynamic, and thus it's entirely possible-even likely-that when we try to access or delete a key, it won't already be present."
   ],
   "metadata": {}
  },
  {
   "cell_type": "code",
   "execution_count": 2,
   "source": [
    "counters = {\n",
    "    'pumpernickel': 2,\n",
    "    'sourdough': 1\n",
    "}"
   ],
   "outputs": [],
   "metadata": {}
  },
  {
   "cell_type": "markdown",
   "source": [
    "To increment the counter, we need to see oif the key exists, insert the key with a default counter value of 0 if it's missing, and the increment the counter's value. This requires accessing the key two times and assigning it once. "
   ],
   "metadata": {}
  },
  {
   "cell_type": "code",
   "execution_count": 3,
   "source": [
    "# Here we use an if statement to accomplish this which returns True if the key exists\n",
    "key = 'wheat'\n",
    "\n",
    "if key in counters:\n",
    "    count = counters[key]\n",
    "else:\n",
    "    count = 0\n",
    "\n",
    "counters[key] = count + 1"
   ],
   "outputs": [],
   "metadata": {}
  },
  {
   "cell_type": "code",
   "execution_count": 4,
   "source": [
    "# Here we accomplish the same behavior as the code above, but this time by relyinh on how dictionaries raise a\n",
    "# KeyError exception whe we try to get the value for a key that doesn't exist. This approach is more efficient\n",
    "# because it requires only one access and one assignment\n",
    "try:\n",
    "    count = counters[key]\n",
    "except KeyError:\n",
    "    count = 0\n",
    "\n",
    "counters[key] = count + 1"
   ],
   "outputs": [],
   "metadata": {}
  },
  {
   "cell_type": "markdown",
   "source": [
    "This flow of fetching a key that exists or returning a default value is so common that the `dict` built-in type provides the `get` method to accomplish this task. The second parameter to `get` is the default value to return in case that the key-the first parameter-isn't present. "
   ],
   "metadata": {}
  },
  {
   "cell_type": "code",
   "execution_count": 7,
   "source": [
    "# The approach mentioned above also requires only one access and one assignment, but it's much shorter than the\n",
    "# KeyError example. This approach is the shortest and clearest option.\n",
    "count = counters.get(key, 0)\n",
    "counters[key] = count + 1"
   ],
   "outputs": [],
   "metadata": {}
  },
  {
   "cell_type": "code",
   "execution_count": 8,
   "source": [
    "# We can shorten the in and KeyError approaches, but these alternatives will suffer from requiring code\n",
    "# duplication for the assignments, which makes them less readable and worth avoiding\n",
    "if key not in counters:\n",
    "    counters[key] = 0\n",
    "counters[key] += 1\n",
    "\n",
    "if key in counters:\n",
    "    counters[key] += 1\n",
    "else:\n",
    "    counters[key] = 1\n",
    "\n",
    "# -----------------\n",
    "try:\n",
    "    counters[key] += 1\n",
    "except KeyError:\n",
    "    counters[key] = 1\n"
   ],
   "outputs": [],
   "metadata": {}
  },
  {
   "cell_type": "code",
   "execution_count": 15,
   "source": [
    "# What if the values of the dictionary are a more complex type, like a list?\n",
    "# Relying on the in expression requires two accesses if the key is present, or one access and one assignment\n",
    "# if the key is missing\n",
    "votes = {\n",
    "    'baguette': ['Bob', 'Alice'],\n",
    "    'ciabtta': ['Coco', 'Deb']\n",
    "}\n",
    "\n",
    "key = 'brioche'\n",
    "who = 'Elmer'\n",
    "\n",
    "if key in votes:\n",
    "    names = votes[key]\n",
    "else:\n",
    "    votes[key] = names = []\n",
    "\n",
    "names.append(who)\n",
    "print(votes)"
   ],
   "outputs": [
    {
     "output_type": "stream",
     "name": "stdout",
     "text": [
      "{'baguette': ['Bob', 'Alice'], 'ciabtta': ['Coco', 'Deb'], 'brioche': ['Elmer']}\n"
     ]
    }
   ],
   "metadata": {}
  },
  {
   "cell_type": "code",
   "execution_count": 16,
   "source": [
    "# We can also rely on the KeyError exception being raised when the dictionary value is a list. This approach\n",
    "# requires one key access if the key is present, or one key accessa and one assignment if it's missing, which\n",
    "# makes it more efficient than the in condition\n",
    "try: \n",
    "    names = votes[key]\n",
    "except KeyError:\n",
    "    votes[key] = names = []\n",
    "\n",
    "names.append(who)"
   ],
   "outputs": [],
   "metadata": {}
  },
  {
   "cell_type": "code",
   "execution_count": 17,
   "source": [
    "# We can also use the get method to fetch list values when the key is present, or do one fetch and one assignment\n",
    "# if the key isn't present\n",
    "names = votes.get(key)\n",
    "if names:\n",
    "    votes[key] = names = []"
   ],
   "outputs": [],
   "metadata": {}
  },
  {
   "cell_type": "code",
   "execution_count": 18,
   "source": [
    "if names := votes.get(key):\n",
    "    votes[key] = names = []"
   ],
   "outputs": [],
   "metadata": {}
  },
  {
   "cell_type": "markdown",
   "source": [
    "The `dict` type also provides the `setdefault` method to help shorten this pattern even further. `setdefault` tries to fetch the value of a key in the dictionary. If the key isn't present, the method assigns that key to the default value provided. And then the method returns the value for that key"
   ],
   "metadata": {}
  },
  {
   "cell_type": "code",
   "execution_count": 19,
   "source": [
    "# This works as expected, and it is shorter than using get with an assignment expression but it is not as\n",
    "# readable\n",
    "names = votes.setdefault(key, [])\n",
    "names.append(who)"
   ],
   "outputs": [],
   "metadata": {}
  },
  {
   "cell_type": "code",
   "execution_count": 22,
   "source": [
    "# Important: the default value passed to setdefault is assigned directly into the dictionary when the key is\n",
    "# missing instead of being copied\n",
    "data = {}\n",
    "key = 'foo'\n",
    "value = []\n",
    "data.setdefault(key, value)\n",
    "print('Before: ', data)\n",
    "value.append('hello')\n",
    "print('After: ', data)"
   ],
   "outputs": [
    {
     "output_type": "stream",
     "name": "stdout",
     "text": [
      "Before:  {'foo': []}\n",
      "After:  {'foo': ['hello']}\n"
     ]
    }
   ],
   "metadata": {}
  },
  {
   "cell_type": "markdown",
   "source": [
    "The above gotcha means that we need to make sure that we're always constructing a new default value for each key we access with `setdefault`. This leads to significant performance overhead in this example because we have to allocate a `list` instance for each call. If we resuse an object for the default value-which we might try to do to increase efficiency or readability-we might introduce strange behavior and bugs into our code."
   ],
   "metadata": {}
  },
  {
   "cell_type": "code",
   "execution_count": 23,
   "source": [
    "# Lets implement setdefault to our earlier example\n",
    "count = counters.setdefault(key, 0)\n",
    "counters[key] = count + 1"
   ],
   "outputs": [],
   "metadata": {}
  },
  {
   "cell_type": "code",
   "execution_count": null,
   "source": [],
   "outputs": [],
   "metadata": {}
  }
 ],
 "metadata": {
  "orig_nbformat": 4,
  "language_info": {
   "name": "python",
   "version": "3.9.4",
   "mimetype": "text/x-python",
   "codemirror_mode": {
    "name": "ipython",
    "version": 3
   },
   "pygments_lexer": "ipython3",
   "nbconvert_exporter": "python",
   "file_extension": ".py"
  },
  "kernelspec": {
   "name": "python3",
   "display_name": "Python 3.9.4 64-bit"
  },
  "interpreter": {
   "hash": "aee8b7b246df8f9039afb4144a1f6fd8d2ca17a180786b69acc140d282b71a49"
  }
 },
 "nbformat": 4,
 "nbformat_minor": 2
}