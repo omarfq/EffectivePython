{
 "cells": [
  {
   "cell_type": "markdown",
   "source": [
    "# Item 17: Prefer `defaultdict` Over `setdefault` to Handle Missing Items in Internal State"
   ],
   "metadata": {}
  },
  {
   "cell_type": "code",
   "execution_count": 2,
   "source": [
    "# For some usescases, the setdefault method appears to be the shortest option when dealing with missing\n",
    "# dictionary keys. In this example, we can add new cities to the sets, whether the country name is already\n",
    "# present in the dictionary or not.\n",
    "visits = {\n",
    "    'Mexico': {'Tulum', 'Puerto Vallarta'},\n",
    "    'Japan': {'Hakone'}\n",
    "}\n",
    "\n",
    "visits.setdefault('France', set()).add('Arles') # Short\n",
    "\n",
    "if (japan := visits.get('Japan')) is None: # Long\n",
    "    visits['Japan'] = japan = set()\n",
    "japan.add('Kyoto')\n",
    "print(visits)"
   ],
   "outputs": [
    {
     "output_type": "stream",
     "name": "stdout",
     "text": [
      "{'Mexico': {'Puerto Vallarta', 'Tulum'}, 'Japan': {'Hakone', 'Kyoto'}, 'France': {'Arles'}}\n"
     ]
    }
   ],
   "metadata": {}
  },
  {
   "cell_type": "markdown",
   "source": [
    "What about the situation where we *do* control creation of the dictionary being accessed? This is generally the case when we're using a dictionary instanc to keep track of the internal state of a class."
   ],
   "metadata": {}
  },
  {
   "cell_type": "code",
   "execution_count": 5,
   "source": [
    "# Here we wrap the code above in a class with helper methods to access the dynamic inner state stored in a \n",
    "# dictionary\n",
    "class Visits:\n",
    "    def __init__(self) -> None:\n",
    "        self.data = {}\n",
    "\n",
    "    def add(self, country, city):\n",
    "        city_set = self.data.setdefault(country, set())\n",
    "        city_set.add(city)"
   ],
   "outputs": [],
   "metadata": {}
  },
  {
   "cell_type": "code",
   "execution_count": 8,
   "source": [
    "# The class above hides the complexity of calling setdefault correctly, and it provides a nicer interface for the\n",
    "# programmer\n",
    "visits = Visits()\n",
    "visits.add('Russia', 'Yekaterinburg')\n",
    "visits.add('Tanzania', 'Zanibar')\n",
    "print(visits.data)\n"
   ],
   "outputs": [
    {
     "output_type": "stream",
     "name": "stdout",
     "text": [
      "{'Russia': {'Yekaterinburg'}, 'Tanzania': {'Zanibar'}}\n"
     ]
    }
   ],
   "metadata": {}
  },
  {
   "cell_type": "markdown",
   "source": [
    "`Visits.add` is still not ideal because the `setdefault` method is still confusingly named and we have to construct a new `set` instance on every call, thus increasing inefficiency.\n",
    "\n",
    "Luckily, the `defaultdict` class from the `collectios` built-in module simplifies this common use case by automatically storing a default value when a key doesn't exist. All we have to do is provide a function that will return the default value to use each time a key is missing."
   ],
   "metadata": {}
  },
  {
   "cell_type": "code",
   "execution_count": 9,
   "source": [
    "# Here we rewrite the Visits class to use defaultdict\n",
    "from collections import defaultdict\n",
    "\n",
    "class Visits:\n",
    "    def __init__(self) -> None:\n",
    "        self.data = defaultdict(set)\n",
    "\n",
    "    def add(self, country, city):\n",
    "        self.data[country].add(city)\n",
    "\n",
    "visits = Visits()\n",
    "visits.add('England', 'Bath')\n",
    "visits.add('England', 'London')\n",
    "print(visits.data)"
   ],
   "outputs": [
    {
     "output_type": "stream",
     "name": "stdout",
     "text": [
      "defaultdict(<class 'set'>, {'England': {'London', 'Bath'}})\n"
     ]
    }
   ],
   "metadata": {}
  },
  {
   "cell_type": "code",
   "execution_count": null,
   "source": [],
   "outputs": [],
   "metadata": {}
  }
 ],
 "metadata": {
  "orig_nbformat": 4,
  "language_info": {
   "name": "python",
   "version": "3.9.4",
   "mimetype": "text/x-python",
   "codemirror_mode": {
    "name": "ipython",
    "version": 3
   },
   "pygments_lexer": "ipython3",
   "nbconvert_exporter": "python",
   "file_extension": ".py"
  },
  "kernelspec": {
   "name": "python3",
   "display_name": "Python 3.9.4 64-bit"
  },
  "interpreter": {
   "hash": "aee8b7b246df8f9039afb4144a1f6fd8d2ca17a180786b69acc140d282b71a49"
  }
 },
 "nbformat": 4,
 "nbformat_minor": 2
}