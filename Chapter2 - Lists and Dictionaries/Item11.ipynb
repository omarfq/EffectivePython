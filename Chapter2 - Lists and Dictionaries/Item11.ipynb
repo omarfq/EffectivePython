{
 "cells": [
  {
   "cell_type": "markdown",
   "source": [
    "# Item 11: Know How to Slice Sequences"
   ],
   "metadata": {}
  },
  {
   "cell_type": "markdown",
   "source": [
    "The basic form of the slicing syntax is `somelist[start:end]`, where start is inclusive and end is exclusive"
   ],
   "metadata": {}
  },
  {
   "cell_type": "code",
   "execution_count": 20,
   "source": [
    "a = ['a', 'b', 'c', 'd', 'e', 'f', 'g', 'h']\n",
    "print('Middle two: ', a[3:5])\n",
    "print('All but ends', a[1:7])"
   ],
   "outputs": [
    {
     "output_type": "stream",
     "name": "stdout",
     "text": [
      "Middle two:  ['d', 'e']\n",
      "All but ends ['b', 'c', 'd', 'e', 'f', 'g']\n"
     ]
    }
   ],
   "metadata": {}
  },
  {
   "cell_type": "code",
   "execution_count": 2,
   "source": [
    "# When slicing from the start of of a list, leave out the zero index to reduce visual noise\n",
    "assert a[:5] == a[0:5]"
   ],
   "outputs": [],
   "metadata": {}
  },
  {
   "cell_type": "code",
   "execution_count": 4,
   "source": [
    "# When slicing to the end of the list, leave out the final index because its redundant\n",
    "assert a[5:] == a[5:len(a)]"
   ],
   "outputs": [],
   "metadata": {}
  },
  {
   "cell_type": "code",
   "execution_count": 8,
   "source": [
    "# Using negative numbers for slicing is helpful for doing offsets relative to the end of a list\n",
    "a[:]     # ['a', 'b', 'c', 'd', 'e', 'f', 'g', 'h']\n",
    "a[:5]    # ['a', 'b', 'c', 'd', 'e']\n",
    "a[:-1]   # ['a', 'b', 'c', 'd', 'e', 'f', 'g']\n",
    "a[4:]    #                     ['e', 'f', 'g', 'h']\n",
    "a[-3:]   #                          ['f', 'g', 'h']\n",
    "a[2:5]   #           ['c', 'd', 'e', 'f', 'g']\n",
    "a[-3:-1] #                          ['f', 'g']"
   ],
   "outputs": [
    {
     "output_type": "execute_result",
     "data": {
      "text/plain": [
       "['f', 'g']"
      ]
     },
     "metadata": {},
     "execution_count": 8
    }
   ],
   "metadata": {}
  },
  {
   "cell_type": "code",
   "execution_count": 9,
   "source": [
    "# Slicing deals properly with start and end indexes that are beyond the boundaries of a list by silently omitting\n",
    "# missing items. This behavior makes it easy for your code to establish a maximum length to consider for an input\n",
    "# sequence\n",
    "first_twenty_items = a[:20]\n",
    "last_twenty_items = a[-20:]"
   ],
   "outputs": [],
   "metadata": {}
  },
  {
   "cell_type": "code",
   "execution_count": 10,
   "source": [
    "# In contrast, accessing the same indez directly causes an exception\n",
    "a[20]"
   ],
   "outputs": [
    {
     "output_type": "error",
     "ename": "IndexError",
     "evalue": "list index out of range",
     "traceback": [
      "\u001b[0;31m---------------------------------------------------------------------------\u001b[0m",
      "\u001b[0;31mIndexError\u001b[0m                                Traceback (most recent call last)",
      "\u001b[0;32m<ipython-input-10-110334d04947>\u001b[0m in \u001b[0;36m<module>\u001b[0;34m\u001b[0m\n\u001b[1;32m      1\u001b[0m \u001b[0;31m# In contrast, accessing the same indez directly causes an exception\u001b[0m\u001b[0;34m\u001b[0m\u001b[0;34m\u001b[0m\u001b[0;34m\u001b[0m\u001b[0m\n\u001b[0;32m----> 2\u001b[0;31m \u001b[0ma\u001b[0m\u001b[0;34m[\u001b[0m\u001b[0;36m20\u001b[0m\u001b[0;34m]\u001b[0m\u001b[0;34m\u001b[0m\u001b[0;34m\u001b[0m\u001b[0m\n\u001b[0m",
      "\u001b[0;31mIndexError\u001b[0m: list index out of range"
     ]
    }
   ],
   "metadata": {}
  },
  {
   "cell_type": "code",
   "execution_count": 11,
   "source": [
    "# The result of slicing a list is a whole new list. References to the objects from the original list are\n",
    "# maintained. Modifying the result of slicing won't affect the original list\n",
    "b = a[3:]\n",
    "print('Before: ', b)\n",
    "b[1] = 99\n",
    "print('After: ', b)\n",
    "print('No change: ', a)"
   ],
   "outputs": [
    {
     "output_type": "stream",
     "name": "stdout",
     "text": [
      "Before:  ['d', 'e', 'f', 'g', 'h']\n",
      "After:  ['d', 99, 'f', 'g', 'h']\n",
      "No change:  ['a', 'b', 'c', 'd', 'e', 'f', 'g', 'h']\n"
     ]
    }
   ],
   "metadata": {}
  },
  {
   "cell_type": "code",
   "execution_count": 17,
   "source": [
    "# When used in assignments, slices replace the specified range in the original list. The values before and after\n",
    "# the assigned slice will be preserved. In this example, the list shrinks because the replacement list is shorter\n",
    "# than the specified slice\n",
    "print('Before: ', a)\n",
    "a[2:7] = [99, 22, 14]\n",
    "print('After: ', a)"
   ],
   "outputs": [
    {
     "output_type": "stream",
     "name": "stdout",
     "text": [
      "Before:  [101, 102, 103]\n",
      "After:  [101, 102, 99, 22, 14]\n"
     ]
    }
   ],
   "metadata": {}
  },
  {
   "cell_type": "code",
   "execution_count": 18,
   "source": [
    "# And here the list grows because the assigned list is longer than the specific slice\n",
    "b = a[:]\n",
    "assert b == a and b is not a"
   ],
   "outputs": [],
   "metadata": {}
  },
  {
   "cell_type": "code",
   "execution_count": 21,
   "source": [
    "# If we assign to a slice with no start or end indexes, we replace the entire contents of the list with a copy\n",
    "# of what's referenced (instead of allocating a new list)\n",
    "b = a\n",
    "print('Before a: ', a)\n",
    "print('Before b:', b)\n",
    "a[:] = [101, 102, 103]\n",
    "assert a is b         # Still the same list object\n",
    "print('After a: ', a) # Now has different contents\n",
    "print('After b: ', b) # Same list, so same contents as a"
   ],
   "outputs": [
    {
     "output_type": "stream",
     "name": "stdout",
     "text": [
      "Before a:  ['a', 'b', 'c', 'd', 'e', 'f', 'g', 'h']\n",
      "Before b: ['a', 'b', 'c', 'd', 'e', 'f', 'g', 'h']\n",
      "After a:  [101, 102, 103]\n",
      "After b:  [101, 102, 103]\n"
     ]
    }
   ],
   "metadata": {}
  }
 ],
 "metadata": {
  "orig_nbformat": 4,
  "language_info": {
   "name": "python",
   "version": "3.9.4",
   "mimetype": "text/x-python",
   "codemirror_mode": {
    "name": "ipython",
    "version": 3
   },
   "pygments_lexer": "ipython3",
   "nbconvert_exporter": "python",
   "file_extension": ".py"
  },
  "kernelspec": {
   "name": "python3",
   "display_name": "Python 3.9.4 64-bit"
  },
  "interpreter": {
   "hash": "aee8b7b246df8f9039afb4144a1f6fd8d2ca17a180786b69acc140d282b71a49"
  }
 },
 "nbformat": 4,
 "nbformat_minor": 2
}