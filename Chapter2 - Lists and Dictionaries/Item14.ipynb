{
 "cells": [
  {
   "cell_type": "markdown",
   "source": [
    "# Item 14: Sort by Complex Criteria Using the `key` Parameter"
   ],
   "metadata": {}
  },
  {
   "cell_type": "code",
   "execution_count": 1,
   "source": [
    "# Python's list built-in type provides a sort() method for ordering items in a list. By default, it orders the\n",
    "# items in ascendin order\n",
    "numbers = [93, 86, 11, 68, 70]\n",
    "numbers.sort()\n",
    "print(numbers)"
   ],
   "outputs": [
    {
     "output_type": "stream",
     "name": "stdout",
     "text": [
      "[11, 68, 70, 86, 93]\n"
     ]
    }
   ],
   "metadata": {}
  },
  {
   "cell_type": "code",
   "execution_count": 3,
   "source": [
    "# What does sort() do with objects?\n",
    "class Tool:\n",
    "    def __init__(self, name, weight):\n",
    "        self.name = name\n",
    "        self.weight = weight\n",
    "\n",
    "    def __repr__(self):\n",
    "        return f'Tool({self.name!r}, {self.weight})'\n",
    "\n",
    "tools = [\n",
    "    Tool('level', 3.5),\n",
    "    Tool('hammer', 1.25),\n",
    "    Tool('screwdriver', 0.5),\n",
    "    Tool('chisel', 0.25)\n",
    "]\n",
    "\n",
    "# Sorting objects of this type doesn't work because sort() tries to cal comparison special methods that aren't\n",
    "# defined in the class\n",
    "tools.sort()"
   ],
   "outputs": [
    {
     "output_type": "error",
     "ename": "TypeError",
     "evalue": "'<' not supported between instances of 'Tool' and 'Tool'",
     "traceback": [
      "\u001b[0;31m---------------------------------------------------------------------------\u001b[0m",
      "\u001b[0;31mTypeError\u001b[0m                                 Traceback (most recent call last)",
      "\u001b[0;32m<ipython-input-3-c8d5f0446741>\u001b[0m in \u001b[0;36m<module>\u001b[0;34m\u001b[0m\n\u001b[1;32m     17\u001b[0m \u001b[0;31m# Sorting objects of this type doesn't work because sort() tries to cal comparison special methods that aren't\u001b[0m\u001b[0;34m\u001b[0m\u001b[0;34m\u001b[0m\u001b[0;34m\u001b[0m\u001b[0m\n\u001b[1;32m     18\u001b[0m \u001b[0;31m# defined in the class\u001b[0m\u001b[0;34m\u001b[0m\u001b[0;34m\u001b[0m\u001b[0;34m\u001b[0m\u001b[0m\n\u001b[0;32m---> 19\u001b[0;31m \u001b[0mtools\u001b[0m\u001b[0;34m.\u001b[0m\u001b[0msort\u001b[0m\u001b[0;34m(\u001b[0m\u001b[0;34m)\u001b[0m\u001b[0;34m\u001b[0m\u001b[0;34m\u001b[0m\u001b[0m\n\u001b[0m",
      "\u001b[0;31mTypeError\u001b[0m: '<' not supported between instances of 'Tool' and 'Tool'"
     ]
    }
   ],
   "metadata": {}
  },
  {
   "cell_type": "markdown",
   "source": [
    "Often there's an attribute on the object that we'd like to use for sorting. To support this use case, the `sort` method accepts a `key` parameter that's expected to be a function. The `key` function is passed a single argument, which is an item from the list that is being sorted. The return value of the `key` function should be a comparable value to use in place of an item for sorting purposes."
   ],
   "metadata": {}
  },
  {
   "cell_type": "code",
   "execution_count": 4,
   "source": [
    "# Here the function allows us to sort the list of Tools objects alphabetically by their names\n",
    "print('Unsorted: ', repr(tools))\n",
    "tools.sort(key=lambda x: x.name)\n",
    "print('\\nSorted: ', tools)"
   ],
   "outputs": [
    {
     "output_type": "stream",
     "name": "stdout",
     "text": [
      "Unsorted:  [Tool('level', 3.5), Tool('hammer', 1.25), Tool('screwdriver', 0.5), Tool('chisel', 0.25)]\n",
      "\n",
      "Sorted:  [Tool('chisel', 0.25), Tool('hammer', 1.25), Tool('level', 3.5), Tool('screwdriver', 0.5)]\n"
     ]
    }
   ],
   "metadata": {}
  },
  {
   "cell_type": "code",
   "execution_count": 5,
   "source": [
    "# Here we sort by the weight parameter\n",
    "tools.sort(key=lambda x: x.weight)\n",
    "print('By weight:', tools)"
   ],
   "outputs": [
    {
     "output_type": "stream",
     "name": "stdout",
     "text": [
      "By weight: [Tool('chisel', 0.25), Tool('screwdriver', 0.5), Tool('hammer', 1.25), Tool('level', 3.5)]\n"
     ]
    }
   ],
   "metadata": {}
  },
  {
   "cell_type": "code",
   "execution_count": 6,
   "source": [
    "# When dealing with strings, we can even the key function to do transformations on the values before sorting\n",
    "# Here we apply the lower() method to each item to ensure that they're alphabetically ordered (since in the \n",
    "# natural lexical ordering of strings, capital letters come before lowercase letters)\n",
    "places = ['home', 'work', 'New York', 'Paris']\n",
    "places.sort()\n",
    "print('Case sensitive: ', places)\n",
    "places.sort(key=lambda x: x.lower())\n",
    "print('Case insensitive: ', places)"
   ],
   "outputs": [
    {
     "output_type": "stream",
     "name": "stdout",
     "text": [
      "Case sensitive:  ['New York', 'Paris', 'home', 'work']\n",
      "Case insensitive:  ['home', 'New York', 'Paris', 'work']\n"
     ]
    }
   ],
   "metadata": {}
  },
  {
   "cell_type": "code",
   "execution_count": 7,
   "source": [
    "# Sometimes we may want to use multiple criteria for sorting\n",
    "# Say that we have a list of power tools and I want to sort them first by weight and then by name. How can we\n",
    "# accomplish this?\n",
    "power_tools = [\n",
    "    Tool('drill', 4),\n",
    "    Tool('circular saw', 5),\n",
    "    Tool('jackhammer', 40),\n",
    "    Tool('sander', 4)\n",
    "] "
   ],
   "outputs": [],
   "metadata": {}
  },
  {
   "cell_type": "code",
   "execution_count": 10,
   "source": [
    "# The simplest solution in Python to this question is to use tuples. Tuples are comparable by default and have\n",
    "# a natural ordering\n",
    "saw = (5, 'circular saw')\n",
    "jackhammer = (40, 'jackhammer')\n",
    "assert not (jackhammer < saw) # Matches expectations"
   ],
   "outputs": [],
   "metadata": {}
  },
  {
   "cell_type": "code",
   "execution_count": 11,
   "source": [
    "# If the first position in the tuples being compared are equal, then the tuple comparison will move on to the \n",
    "# second position, and so on\n",
    "drill = (4, 'drill')\n",
    "sander = (4, 'sander')\n",
    "assert drill[0] == sander[0] # Same weight\n",
    "assert drill[1] < sander[1] # Alphabetically less\n",
    "assert drill < sander # Thus, drill comes first"
   ],
   "outputs": [],
   "metadata": {}
  },
  {
   "cell_type": "code",
   "execution_count": 14,
   "source": [
    "# We can take advantage of this tuple comparison behavior in order to sort the list of power tools first by\n",
    "# weight and then by name\n",
    "power_tools.sort(key=lambda x: (x.weight, x.name))\n",
    "print(power_tools)"
   ],
   "outputs": [
    {
     "output_type": "stream",
     "name": "stdout",
     "text": [
      "[Tool('drill', 4), Tool('sander', 4), Tool('circular saw', 5), Tool('jackhammer', 40)]\n"
     ]
    }
   ],
   "metadata": {}
  },
  {
   "cell_type": "code",
   "execution_count": 15,
   "source": [
    "# One limitation that we have with the key function returning a tuple is that the direction of sorting for all\n",
    "# criteria must be the same (either all in ascending or all in descending order)\n",
    "power_tools.sort(key=lambda x: (x.weight, x.name), reverse=True)\n",
    "print(power_tools) # Makes all criteria descending"
   ],
   "outputs": [
    {
     "output_type": "stream",
     "name": "stdout",
     "text": [
      "[Tool('jackhammer', 40), Tool('circular saw', 5), Tool('sander', 4), Tool('drill', 4)]\n"
     ]
    }
   ],
   "metadata": {}
  },
  {
   "cell_type": "code",
   "execution_count": 16,
   "source": [
    "# For numerical values its possible to mix sorting directions by using the unary operator in the key function\n",
    "# This negates one of the values in the returned tuple, effectively reversing its sort order while leaving the \n",
    "# others intact\n",
    "power_tools.sort(key=lambda x: (-x.weight, x.name))\n",
    "print(power_tools)"
   ],
   "outputs": [
    {
     "output_type": "stream",
     "name": "stdout",
     "text": [
      "[Tool('jackhammer', 40), Tool('circular saw', 5), Tool('drill', 4), Tool('sander', 4)]\n"
     ]
    }
   ],
   "metadata": {}
  },
  {
   "cell_type": "code",
   "execution_count": 17,
   "source": [
    "# Unary operator is not available for all types tho\n",
    "power_tools.sort(key=lambda x: (x.weight, -x.name))\n",
    "print(power_tools)"
   ],
   "outputs": [
    {
     "output_type": "error",
     "ename": "TypeError",
     "evalue": "bad operand type for unary -: 'str'",
     "traceback": [
      "\u001b[0;31m---------------------------------------------------------------------------\u001b[0m",
      "\u001b[0;31mTypeError\u001b[0m                                 Traceback (most recent call last)",
      "\u001b[0;32m<ipython-input-17-16d5c518d63c>\u001b[0m in \u001b[0;36m<module>\u001b[0;34m\u001b[0m\n\u001b[1;32m      1\u001b[0m \u001b[0;31m# Unary operator is not available for all types tho\u001b[0m\u001b[0;34m\u001b[0m\u001b[0;34m\u001b[0m\u001b[0;34m\u001b[0m\u001b[0m\n\u001b[0;32m----> 2\u001b[0;31m \u001b[0mpower_tools\u001b[0m\u001b[0;34m.\u001b[0m\u001b[0msort\u001b[0m\u001b[0;34m(\u001b[0m\u001b[0mkey\u001b[0m\u001b[0;34m=\u001b[0m\u001b[0;32mlambda\u001b[0m \u001b[0mx\u001b[0m\u001b[0;34m:\u001b[0m \u001b[0;34m(\u001b[0m\u001b[0mx\u001b[0m\u001b[0;34m.\u001b[0m\u001b[0mweight\u001b[0m\u001b[0;34m,\u001b[0m \u001b[0;34m-\u001b[0m\u001b[0mx\u001b[0m\u001b[0;34m.\u001b[0m\u001b[0mname\u001b[0m\u001b[0;34m)\u001b[0m\u001b[0;34m)\u001b[0m\u001b[0;34m\u001b[0m\u001b[0;34m\u001b[0m\u001b[0m\n\u001b[0m\u001b[1;32m      3\u001b[0m \u001b[0mprint\u001b[0m\u001b[0;34m(\u001b[0m\u001b[0mpower_tools\u001b[0m\u001b[0;34m)\u001b[0m\u001b[0;34m\u001b[0m\u001b[0;34m\u001b[0m\u001b[0m\n",
      "\u001b[0;32m<ipython-input-17-16d5c518d63c>\u001b[0m in \u001b[0;36m<lambda>\u001b[0;34m(x)\u001b[0m\n\u001b[1;32m      1\u001b[0m \u001b[0;31m# Unary operator is not available for all types tho\u001b[0m\u001b[0;34m\u001b[0m\u001b[0;34m\u001b[0m\u001b[0;34m\u001b[0m\u001b[0m\n\u001b[0;32m----> 2\u001b[0;31m \u001b[0mpower_tools\u001b[0m\u001b[0;34m.\u001b[0m\u001b[0msort\u001b[0m\u001b[0;34m(\u001b[0m\u001b[0mkey\u001b[0m\u001b[0;34m=\u001b[0m\u001b[0;32mlambda\u001b[0m \u001b[0mx\u001b[0m\u001b[0;34m:\u001b[0m \u001b[0;34m(\u001b[0m\u001b[0mx\u001b[0m\u001b[0;34m.\u001b[0m\u001b[0mweight\u001b[0m\u001b[0;34m,\u001b[0m \u001b[0;34m-\u001b[0m\u001b[0mx\u001b[0m\u001b[0;34m.\u001b[0m\u001b[0mname\u001b[0m\u001b[0;34m)\u001b[0m\u001b[0;34m)\u001b[0m\u001b[0;34m\u001b[0m\u001b[0;34m\u001b[0m\u001b[0m\n\u001b[0m\u001b[1;32m      3\u001b[0m \u001b[0mprint\u001b[0m\u001b[0;34m(\u001b[0m\u001b[0mpower_tools\u001b[0m\u001b[0;34m)\u001b[0m\u001b[0;34m\u001b[0m\u001b[0;34m\u001b[0m\u001b[0m\n",
      "\u001b[0;31mTypeError\u001b[0m: bad operand type for unary -: 'str'"
     ]
    }
   ],
   "metadata": {}
  },
  {
   "cell_type": "markdown",
   "source": [
    "## The `sort` method of the `list` type will preserve the order of the input list when the key function returns values that are equal to each other"
   ],
   "metadata": {}
  },
  {
   "cell_type": "code",
   "execution_count": 18,
   "source": [
    "power_tools.sort(key=lambda x: x.name) # Name ascending\n",
    "power_tools.sort(key=lambda x: x.weight, reverse=True) # Weight descending\n",
    "print(power_tools)"
   ],
   "outputs": [
    {
     "output_type": "stream",
     "name": "stdout",
     "text": [
      "[Tool('jackhammer', 40), Tool('circular saw', 5), Tool('drill', 4), Tool('sander', 4)]\n"
     ]
    }
   ],
   "metadata": {}
  },
  {
   "cell_type": "code",
   "execution_count": 20,
   "source": [
    "# To understand why the code above works\n",
    "# First call to sort puts the names in alphabetical order\n",
    "power_tools.sort(key=lambda x: x.name) # Name ascending\n",
    "print(power_tools)"
   ],
   "outputs": [
    {
     "output_type": "stream",
     "name": "stdout",
     "text": [
      "[Tool('circular saw', 5), Tool('drill', 4), Tool('jackhammer', 40), Tool('sander', 4)]\n"
     ]
    }
   ],
   "metadata": {}
  },
  {
   "cell_type": "code",
   "execution_count": 21,
   "source": [
    "# When the second sort call by weight descending is made, it sees that both 'sander' and 'drill' have a weight\n",
    "# of 4. This causes the sort method toput boht items into the final result list in the same order that they \n",
    "# appeared in the original list, thus preserving their relative ordering by name ascending\n",
    "power_tools.sort(key=lambda x: x.weight, reverse=True) # Weight descending\n",
    "print(power_tools)"
   ],
   "outputs": [
    {
     "output_type": "stream",
     "name": "stdout",
     "text": [
      "[Tool('jackhammer', 40), Tool('circular saw', 5), Tool('drill', 4), Tool('sander', 4)]\n"
     ]
    }
   ],
   "metadata": {}
  },
  {
   "cell_type": "code",
   "execution_count": null,
   "source": [],
   "outputs": [],
   "metadata": {}
  }
 ],
 "metadata": {
  "orig_nbformat": 4,
  "language_info": {
   "name": "python",
   "version": "3.9.4",
   "mimetype": "text/x-python",
   "codemirror_mode": {
    "name": "ipython",
    "version": 3
   },
   "pygments_lexer": "ipython3",
   "nbconvert_exporter": "python",
   "file_extension": ".py"
  },
  "kernelspec": {
   "name": "python3",
   "display_name": "Python 3.9.4 64-bit"
  },
  "interpreter": {
   "hash": "aee8b7b246df8f9039afb4144a1f6fd8d2ca17a180786b69acc140d282b71a49"
  }
 },
 "nbformat": 4,
 "nbformat_minor": 2
}