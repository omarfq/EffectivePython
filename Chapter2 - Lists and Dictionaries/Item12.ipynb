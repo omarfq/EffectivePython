{
 "cells": [
  {
   "cell_type": "markdown",
   "source": [
    "# Item 12: Avoid Striding and Slicing in a Single Expression"
   ],
   "metadata": {}
  },
  {
   "cell_type": "markdown",
   "source": [
    "Python has special syntax for the stride of a slice in the form `somlist[start:end:stride]`. This lets us take evert nth item when slicing a sequence"
   ],
   "metadata": {}
  },
  {
   "cell_type": "code",
   "execution_count": 1,
   "source": [
    "# For example, the stride makes it easy to grouo by even and odd indexes in a listL=\n",
    "x = ['red', 'orange', 'yellow', 'green', 'blue', 'purple']\n",
    "odds = x[::2]\n",
    "evens = x[1::2]\n",
    "print(odds)\n",
    "print(evens)"
   ],
   "outputs": [
    {
     "output_type": "stream",
     "name": "stdout",
     "text": [
      "['red', 'yellow', 'blue']\n",
      "['orange', 'green', 'purple']\n"
     ]
    }
   ],
   "metadata": {}
  },
  {
   "cell_type": "code",
   "execution_count": 3,
   "source": [
    "# Striding often causes unexpected behaviorn that can introduce bugs. For example, a common Python trick for\n",
    "# reversing a byte string i to slice the string with a stride of -1\n",
    "x = b'mongoose'\n",
    "y = x[::-1]\n",
    "print(y)"
   ],
   "outputs": [
    {
     "output_type": "stream",
     "name": "stdout",
     "text": [
      "b'esoognom'\n"
     ]
    }
   ],
   "metadata": {}
  },
  {
   "cell_type": "code",
   "execution_count": 5,
   "source": [
    "# This also works with Unicode strings\n",
    "x = 'Hello'\n",
    "y = x[::-1]\n",
    "print(y)"
   ],
   "outputs": [
    {
     "output_type": "stream",
     "name": "stdout",
     "text": [
      "olleH\n"
     ]
    }
   ],
   "metadata": {}
  },
  {
   "cell_type": "code",
   "execution_count": 7,
   "source": [
    "# But it will break when Unicode data is encoded as a UTF-8 byte string\n",
    "w = 'hello'\n",
    "x = w.encode('utf-8')\n",
    "y = x[::-1]\n",
    "z = y.decode('utf-8')\n",
    "# (For some reason it doesnt break )"
   ],
   "outputs": [],
   "metadata": {}
  },
  {
   "cell_type": "code",
   "execution_count": 9,
   "source": [
    "# Are negative strides useful?\n",
    "# Here, ::2 means \"Select every second item starting at the beginning.\"\n",
    "# ::-2 means \"Select every second item starting at the end and moving backward\"\n",
    "x = ['a', 'b', 'c', 'd', 'e', 'f', 'g', 'h']\n",
    "x[::2]      # ['a', 'c', 'e', 'g']\n",
    "x[::-2]     # ['h', 'f', 'd', 'b']\n",
    "x[2::2]     # ['c', 'e', 'g']\n",
    "x[-2::-2]   # ['g', 'e', 'c', 'a']\n",
    "x[-2:2:-2]  # ['g', 'e']\n",
    "x[2:2:-2]   # []"
   ],
   "outputs": [
    {
     "output_type": "execute_result",
     "data": {
      "text/plain": [
       "[]"
      ]
     },
     "metadata": {},
     "execution_count": 9
    }
   ],
   "metadata": {}
  },
  {
   "cell_type": "code",
   "execution_count": 10,
   "source": [
    "# To prevent problems and confusion, avoid using stride along with start and end indexes\n",
    "# If you must use a stride, prefer making it a positive value and omit start and end indexes. \n",
    "# If you must use a stride with start or end indexes, consider using one assignment for striding and another\n",
    "# for slicing\n",
    "y = x[::2]  # ['a', 'c', 'e', 'g']\n",
    "z = y[1:-1] # ['c', 'e']"
   ],
   "outputs": [],
   "metadata": {}
  },
  {
   "cell_type": "code",
   "execution_count": null,
   "source": [],
   "outputs": [],
   "metadata": {}
  }
 ],
 "metadata": {
  "orig_nbformat": 4,
  "language_info": {
   "name": "python",
   "version": "3.9.4",
   "mimetype": "text/x-python",
   "codemirror_mode": {
    "name": "ipython",
    "version": 3
   },
   "pygments_lexer": "ipython3",
   "nbconvert_exporter": "python",
   "file_extension": ".py"
  },
  "kernelspec": {
   "name": "python3",
   "display_name": "Python 3.9.4 64-bit"
  },
  "interpreter": {
   "hash": "aee8b7b246df8f9039afb4144a1f6fd8d2ca17a180786b69acc140d282b71a49"
  }
 },
 "nbformat": 4,
 "nbformat_minor": 2
}