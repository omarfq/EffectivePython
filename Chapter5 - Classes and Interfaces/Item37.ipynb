{
 "cells": [
  {
   "cell_type": "markdown",
   "source": [
    "# Item 37: Compose Classes Instead of Nesting Many Levels of Built-in Types"
   ],
   "metadata": {}
  },
  {
   "cell_type": "markdown",
   "source": [
    "Python's dictionary type is very useful for when maintaining dynamic internal state over the lifetime of an object."
   ],
   "metadata": {}
  },
  {
   "cell_type": "code",
   "execution_count": 1,
   "source": [
    "# Say we want to record the grades of a set of students whose names aren't known in advance. We can define a \n",
    "# class to store the names in a dictionary instead of using a predefined attribute for each student\n",
    "class SimpleGradebook:\n",
    "    def __init__(self):\n",
    "        self._grades = {}\n",
    "\n",
    "    def add_student(self, name):\n",
    "        self._grades[name] = []\n",
    "\n",
    "    def report_grade(self, name, score):\n",
    "        self._grades[name].append(score)\n",
    "\n",
    "    def average_grade(self, name):\n",
    "        grades = self._grades[name]\n",
    "        return sum(grades) / len(grades)"
   ],
   "outputs": [],
   "metadata": {}
  },
  {
   "cell_type": "code",
   "execution_count": 2,
   "source": [
    "# Using the class is simple\n",
    "book = SimpleGradebook()\n",
    "book.add_student('Isaac Newton')\n",
    "book.report_grade('Isaac Newton', 90)\n",
    "book.report_grade('Isaac Newton', 95)\n",
    "book.report_grade('Isaac Newton', 85)\n",
    "\n",
    "print(book.average_grade('Isaac Newton'))"
   ],
   "outputs": [
    {
     "output_type": "stream",
     "name": "stdout",
     "text": [
      "90.0\n"
     ]
    }
   ],
   "metadata": {}
  },
  {
   "cell_type": "markdown",
   "source": [
    "Dictionaries and their related built-in types are so easy to use that there's a danger of overextending them to write brittle code.\n",
    "\n",
    "Say, for example, we wanto to extend the `SimpleGradebook` class to keep a list of grades by subject, not just overall. We can do this by changing the `_grades` dictionary to map student names (its keys) to yet another dictionary (its values). The innermost dictionary will map subjects (its keys) to a `list` of grades (its values). "
   ],
   "metadata": {}
  },
  {
   "cell_type": "code",
   "execution_count": 5,
   "source": [
    "# Here, we do this by using a defaultdict instance for the inner dictionary to handle missing subjects\n",
    "from collections import defaultdict\n",
    "\n",
    "class BySubjectGradebook():\n",
    "    def __init__(self):\n",
    "        self._grades = {} # Outer dict\n",
    "\n",
    "    def add_student(self, name):\n",
    "        self._grades[name] = defaultdict(list) # Inner dict\n",
    "    \n",
    "    # Because of this change, the report_grade and average_grade \n",
    "    # methods gain a bit of complexity, but they are till manageable\n",
    "\n",
    "    def report_grade(self, name, subject, grade):\n",
    "        by_subject = self._grades[name]\n",
    "        grade_list = by_subject[subject]\n",
    "        grade_list.append(grade)\n",
    "\n",
    "    def average_grade(self, name):\n",
    "        by_suject = self._grades[name]\n",
    "        total, count = 0, 0\n",
    "        for grades in by_suject.values():\n",
    "            total += sum(grades)\n",
    "            count += len(grades)\n",
    "        return total / count"
   ],
   "outputs": [],
   "metadata": {}
  },
  {
   "cell_type": "code",
   "execution_count": 6,
   "source": [
    "# Using the above class remains simple enough\n",
    "book = BySubjectGradebook()\n",
    "book.add_student('Albert Einstein')\n",
    "book.report_grade('Albert Einstein', 'Math', 75)\n",
    "book.report_grade('Albert Einstein', 'Math', 65)\n",
    "book.report_grade('Albert Einstein', 'Gym', 90)\n",
    "book.report_grade('Albert Einstein', 'Gym', 95)\n",
    "print(book.average_grade('Albert Einstein'))"
   ],
   "outputs": [
    {
     "output_type": "stream",
     "name": "stdout",
     "text": [
      "81.25\n"
     ]
    }
   ],
   "metadata": {}
  },
  {
   "cell_type": "code",
   "execution_count": 7,
   "source": [
    "# Now lets say that we want to track the weight of each score toward the overall grade in the class so that\n",
    "# midterms and final exams are more important than quizes. We can implement this by using a tuple in the \n",
    "# values list\n",
    "class WeightedGradeBook():\n",
    "    def __init__(self):\n",
    "        self._grades = {} # Outer dict\n",
    "\n",
    "    def add_student(self, name):\n",
    "        self._grades[name] = defaultdict(list) # Inner dict\n",
    "\n",
    "    def report_grade(self, name, subject, score, weight):\n",
    "        by_subject = self._grades[name]\n",
    "        grade_list = by_subject[subject]\n",
    "        grade_list.append((score, weight))\n",
    "\n",
    "    # Although the changes to the report_grade method were simple, the averag_grade method\n",
    "    # now has a loop within a loop making it difficult to read\n",
    "\n",
    "    def average_grade(self, name):\n",
    "        by_suject = self._grades[name]\n",
    "\n",
    "        score_sum, score_count = 0, 0\n",
    "        for subject, scores in by_suject.items():\n",
    "            subject_avg, total_weight = 0, 0\n",
    "            for score, weight in scores:\n",
    "                subject_avg += score * weight\n",
    "                total_weight += weight\n",
    "            \n",
    "            score_sum += subject_avg / total_weight\n",
    "            score_count += 1\n",
    "        \n",
    "        return score_sum / score_count"
   ],
   "outputs": [],
   "metadata": {}
  },
  {
   "cell_type": "code",
   "execution_count": 8,
   "source": [
    "# Using the class is now more difficult (we're not able to tell what numbers correspond to what in the \n",
    "# positional aruguments of the function)\n",
    "book = WeightedGradeBook()\n",
    "book.add_student('Albert Einstein')\n",
    "book.report_grade('Albert Einstein', 'Math', 75, 0.05)\n",
    "book.report_grade('Albert Einstein', 'Math', 65, 0.15)\n",
    "book.report_grade('Albert Einstein', 'Math', 70, 0.80)\n",
    "book.report_grade('Albert Einstein', 'Gym', 100, 0.40)\n",
    "book.report_grade('Albert Einstein', 'Gym', 85, 0.60)\n",
    "print(book.average_grade('Albert Einstein'))"
   ],
   "outputs": [
    {
     "output_type": "stream",
     "name": "stdout",
     "text": [
      "80.25\n"
     ]
    }
   ],
   "metadata": {}
  },
  {
   "cell_type": "markdown",
   "source": [
    "Whenever we encounter complexity like this, it's time to make the leap from built-in types to a hierarchy of classes.\n",
    "\n",
    "Its important to note that Python's built-in types make it easy to keep adding layer after layer to the internal bookkeeping. We should avoid doing this for more than one level; using dictionaries that contain other dictionaries makes our code hard to read and sets us up for maintenance nightmare.\n",
    "\n",
    "As soon as we realiz that our bookkeeping is getting our of hand, the author suggests to break it all out into classes. We can then provide well-defined interfaces that better encapsulate our data. This approach also enables us to create a layer of abstraction between our interfaces and our concrete implementations."
   ],
   "metadata": {}
  },
  {
   "cell_type": "markdown",
   "source": [
    "## Refactoring Classes"
   ],
   "metadata": {}
  },
  {
   "cell_type": "markdown",
   "source": [
    "We can start our refactoring process by moving to classes at the bottom of the dependency tree: as single grade. A class seems to heavyweight for such simple info. We can instead use a `tuple` of `(score, weight)` to track grades in a `list`:"
   ],
   "metadata": {}
  },
  {
   "cell_type": "code",
   "execution_count": 9,
   "source": [
    "grades = []\n",
    "grades.append((95, 0.45))\n",
    "grades.append((85, 0.55))\n",
    "total = sum(score * weight for score, weight in grades)\n",
    "total_weight = sum(weight for _, weight in grades)\n",
    "average_grade = total / total_weight"
   ],
   "outputs": [],
   "metadata": {}
  },
  {
   "cell_type": "markdown",
   "source": [
    "The problem with the code above is that `tuple` instances are positional."
   ],
   "metadata": {}
  },
  {
   "cell_type": "code",
   "execution_count": 10,
   "source": [
    "# Say we want to associate more info with a particular grade, we would need to rewrite every usage of the\n",
    "# two-tuple to be aware that there are now three items present instead of two, which means we have to use the _\n",
    "# further to ignore certain indexes\n",
    "grades = []\n",
    "grades.append((95, 0.45, 'Great job!'))\n",
    "grades.append((85, 0.55, 'Better next time'))\n",
    "total = sum(score * weight for score, weight, _ in grades)\n",
    "total_weight = sum(weight for _, weight, _ in grades)\n",
    "average_grade = total / total_weight"
   ],
   "outputs": [],
   "metadata": {}
  },
  {
   "cell_type": "markdown",
   "source": [
    "This pattern of extending tuples longer and longer is similar to deepening layers of dictionaries. As soon as we find ourselves going deeper than a two-tuple, it's time to consider another approach.\n",
    "\n",
    "In this case, the `namedtuple` in the `collections` module does exactly what we need: it lets us define tiny, immutable data classes:"
   ],
   "metadata": {}
  },
  {
   "cell_type": "code",
   "execution_count": 23,
   "source": [
    "from collections import namedtuple\n",
    "\n",
    "Grade = namedtuple('Grade', ('score', 'weight'))"
   ],
   "outputs": [],
   "metadata": {}
  },
  {
   "cell_type": "markdown",
   "source": [
    "These classes can be constructed with positional or keyword arguments. The fields are accessible with named attributes. Having named attributes makes it easy to move from a `namedtuple` to a class later if the requirements change again."
   ],
   "metadata": {}
  },
  {
   "cell_type": "markdown",
   "source": [
    "## Limitations of `namedtuple`\n",
    "- We can't specify default argument values for `namedtuple` classes.\n",
    "- The attribute values of `namedtuple` instances are still accessible using numerical indexes and iteration."
   ],
   "metadata": {}
  },
  {
   "cell_type": "code",
   "execution_count": 24,
   "source": [
    "# Next, we can write a class to represent a single subject that contains a set of grades\n",
    "class Subject:\n",
    "    def __init__(self):\n",
    "        self._grades = []\n",
    "\n",
    "    def report_grade(self, score, weight):\n",
    "        self._grades.append(Grade(score, weight))\n",
    "\n",
    "    def average_grade(self):\n",
    "        total, total_weight = 0, 0\n",
    "        for grade in self._grades:\n",
    "            total += grade.score * grade.weight\n",
    "            total_weight += grade.weight\n",
    "        return total / total_weight"
   ],
   "outputs": [],
   "metadata": {}
  },
  {
   "cell_type": "code",
   "execution_count": 25,
   "source": [
    "# Next, we write a class to represent a set of subjects that are being studied by a single student\n",
    "class Student:\n",
    "    def __init__(self):\n",
    "        self._subjects = defaultdict(Subject)\n",
    "\n",
    "    def get_subject(self, name):\n",
    "        return self._subjects[name]\n",
    "    \n",
    "    def average_grade(self):\n",
    "        total, count = 0, 0\n",
    "        for subject in self._subjects.values():\n",
    "            total += subject.average_grade()\n",
    "            count += 1\n",
    "        return total / count"
   ],
   "outputs": [],
   "metadata": {}
  },
  {
   "cell_type": "code",
   "execution_count": 26,
   "source": [
    "# Finally, we'd write a container for all students, keyed dynamically by their names\n",
    "class Gradebook:\n",
    "    def __init__(self):\n",
    "        self._students = defaultdict(Student)\n",
    "\n",
    "    def get_student(self, name):\n",
    "        return self._students[name]"
   ],
   "outputs": [],
   "metadata": {}
  },
  {
   "cell_type": "markdown",
   "source": [
    "Although these classes contain more lines of code than the previous ones, they are much clearer and easier to read."
   ],
   "metadata": {}
  },
  {
   "cell_type": "code",
   "execution_count": 28,
   "source": [
    "# Usage of these clases is also more clear and extensible\n",
    "book = Gradebook()\n",
    "albert = book.get_student('Albert Einstein')\n",
    "math = albert.get_subject('Math')\n",
    "math.report_grade(75, 0.05)\n",
    "math.report_grade(65, 0.15)\n",
    "math.report_grade(70, 0.80)\n",
    "gym = albert.get_subject('Gym')\n",
    "gym.report_grade(100, 0.40)\n",
    "gym.report_grade(85, 0.60)\n",
    "print(albert.average_grade())"
   ],
   "outputs": [
    {
     "output_type": "stream",
     "name": "stdout",
     "text": [
      "80.25\n"
     ]
    }
   ],
   "metadata": {}
  },
  {
   "cell_type": "code",
   "execution_count": null,
   "source": [],
   "outputs": [],
   "metadata": {}
  }
 ],
 "metadata": {
  "orig_nbformat": 4,
  "language_info": {
   "name": "python",
   "version": "3.9.4",
   "mimetype": "text/x-python",
   "codemirror_mode": {
    "name": "ipython",
    "version": 3
   },
   "pygments_lexer": "ipython3",
   "nbconvert_exporter": "python",
   "file_extension": ".py"
  },
  "kernelspec": {
   "name": "python3",
   "display_name": "Python 3.9.4 64-bit"
  },
  "interpreter": {
   "hash": "aee8b7b246df8f9039afb4144a1f6fd8d2ca17a180786b69acc140d282b71a49"
  }
 },
 "nbformat": 4,
 "nbformat_minor": 2
}