{
 "cells": [
  {
   "cell_type": "markdown",
   "source": [
    "# Item 41: Consider Composing Functionality With Mix-in Classes"
   ],
   "metadata": {}
  },
  {
   "cell_type": "markdown",
   "source": [
    "We know that having multiple inheritance is something we should avoid altogether. But, in the case where we need the convinience and encapsulation that comes with multiple inheritance, but want to avoid potential headaches, consider writing a *mix-in* instead. A mix-in is a class that defines only a small set of addtional methods for its child classes to provide. Mix-in classes don't define their own instance attributes nor require their `__init__` constructor to be called.\n",
    "\n",
    "Writing mix-ins is easy because Python makes it trivial to inspect the current state of any object, regardless of its type. Dynamic inspection means we can write generic functionality just once, in a mix-in, and it can then be applied to any other classes. Mix-ins can be composed and layered to minimize repetitive code and maximize reuse."
   ],
   "metadata": {}
  },
  {
   "cell_type": "code",
   "execution_count": 1,
   "source": [
    "# Here, we define a mix-in that has the ability to convert a Python object from its in memory\n",
    "# representation to a dictionary that's ready for serialization\n",
    "class ToDictMixin:\n",
    "    def to_dict(self):\n",
    "        return self._traverse_dict(self.__dict__)"
   ],
   "outputs": [],
   "metadata": {}
  },
  {
   "cell_type": "code",
   "execution_count": null,
   "source": [],
   "outputs": [],
   "metadata": {}
  }
 ],
 "metadata": {
  "orig_nbformat": 4,
  "language_info": {
   "name": "python",
   "version": "3.9.4",
   "mimetype": "text/x-python",
   "codemirror_mode": {
    "name": "ipython",
    "version": 3
   },
   "pygments_lexer": "ipython3",
   "nbconvert_exporter": "python",
   "file_extension": ".py"
  },
  "kernelspec": {
   "name": "python3",
   "display_name": "Python 3.9.4 64-bit"
  },
  "interpreter": {
   "hash": "aee8b7b246df8f9039afb4144a1f6fd8d2ca17a180786b69acc140d282b71a49"
  }
 },
 "nbformat": 4,
 "nbformat_minor": 2
}