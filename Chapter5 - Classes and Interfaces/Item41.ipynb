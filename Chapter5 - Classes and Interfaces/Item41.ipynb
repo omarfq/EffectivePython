{
 "cells": [
  {
   "cell_type": "markdown",
   "source": [
    "# Item 41: Consider Composing Functionality With Mix-in Classes"
   ],
   "metadata": {}
  },
  {
   "cell_type": "markdown",
   "source": [
    "We know that having multiple inheritance is something we should avoid altogether. But, in the case where we need the convinience and encapsulation that comes with multiple inheritance, but want to avoid potential headaches, consider writing a *mix-in* instead. A mix-in is a class that defines only a small set of addtional methods for its child classes to provide. Mix-in classes don't define their own instance attributes nor require their `__init__` constructor to be called.\n",
    "\n",
    "Writing mix-ins is easy because Python makes it trivial to inspect the current state of any object, regardless of its type. Dynamic inspection means we can write generic functionality just once, in a mix-in, and it can then be applied to any other classes. Mix-ins can be composed and layered to minimize repetitive code and maximize reuse."
   ],
   "metadata": {}
  },
  {
   "cell_type": "code",
   "execution_count": 7,
   "source": [
    "# Here, we define a mix-in that has the ability to convert a Python object from its in memory\n",
    "# representation to a dictionary that's ready for serialization\n",
    "class ToDictMixin:\n",
    "    def to_dict(self):\n",
    "        return self._traverse_dict(self.__dict__)\n",
    "    \n",
    "    def _traverse_dict(self, instance_dict):\n",
    "        output = {}\n",
    "        for key, value in instance_dict.items():\n",
    "            output[key] = self._traverse(key, value)\n",
    "        return output\n",
    "\n",
    "    def _traverse(self, key, value):\n",
    "        if isinstance(value, ToDictMixin):\n",
    "            return value.to_dict()\n",
    "        elif isinstance(value, dict):\n",
    "            return self._traverse_dict(value)\n",
    "        elif isinstance(value, list):\n",
    "            return [self._traverse(key, i) for i in value]\n",
    "        elif hasattr(value, '__dict__'):\n",
    "            return self._traverse_dict(value.__dict__)\n",
    "        else:\n",
    "            return value"
   ],
   "outputs": [],
   "metadata": {}
  },
  {
   "cell_type": "code",
   "execution_count": 8,
   "source": [
    "# Here, we define an example class that uses the mix-in ti make a dictionary representation of a binary\n",
    "# tree\n",
    "class BinaryTree(ToDictMixin):\n",
    "    def __init__(self, value, left=None, right=None):\n",
    "        self.value = value\n",
    "        self.left = left\n",
    "        self.right = right"
   ],
   "outputs": [],
   "metadata": {}
  },
  {
   "cell_type": "code",
   "execution_count": 9,
   "source": [
    "# Translating a large number of related Python objects into a dictionary becomes easy\n",
    "tree = BinaryTree(10, \n",
    "        left=BinaryTree(7, right=BinaryTree(9)),\n",
    "        right=BinaryTree(13, left=BinaryTree(11)))\n",
    "print(tree.to_dict())"
   ],
   "outputs": [
    {
     "output_type": "stream",
     "name": "stdout",
     "text": [
      "{'value': 10, 'left': {'value': 7, 'left': None, 'right': {'value': 9, 'left': None, 'right': None}}, 'right': {'value': 13, 'left': {'value': 11, 'left': None, 'right': None}, 'right': None}}\n"
     ]
    }
   ],
   "metadata": {}
  },
  {
   "cell_type": "markdown",
   "source": [
    "The best part about mix-ins is tha we can make their generic functionality pluggable so behaviors can be overriden when required."
   ],
   "metadata": {}
  },
  {
   "cell_type": "code",
   "execution_count": 11,
   "source": [
    "# For example, here we define a subclass of BinaryTree that holds a reference to its parent. This cirular\n",
    "# reference would cause the default implementation of ToDictMixin.to_dict to loop forever\n",
    "class BinaryTreeWithParent(BinaryTree):\n",
    "    def __init__(self, value, left=None, \n",
    "                right=None, parent=None):\n",
    "        super().__init__(value, left=left, right=right)\n",
    "        self.parent = parent\n",
    "    \n",
    "    # The solution in the previous code is to override the `BinaryTreeWithParent._traverse` method to only \n",
    "    # process values that matter, preventing cycles encountered by the mix-ins.\n",
    "    # Here, the traverse override inserts the parent's numerical value and otherwise defers to the mix-ins\n",
    "    # default implementation by using the super built-in function\n",
    "    def _traverse(self, key, value):\n",
    "        if (isinstance(value, BinaryTreeWithParent) and key == 'parent'):\n",
    "            return value.value  # Prevent cycles\n",
    "        else:\n",
    "            return super()._traverse(key, value)\n"
   ],
   "outputs": [],
   "metadata": {}
  },
  {
   "cell_type": "code",
   "execution_count": 12,
   "source": [
    "# Calling BinaryTreeWithParent.to_dict works without issue because the circular referencing properties\n",
    "# aren't followed\n",
    "root = BinaryTreeWithParent(10)\n",
    "root.left = BinaryTreeWithParent(7, parent=root)\n",
    "root.left.right = BinaryTreeWithParent(9, parent=root.left)\n",
    "print(root.to_dict())"
   ],
   "outputs": [
    {
     "output_type": "stream",
     "name": "stdout",
     "text": [
      "{'value': 10, 'left': {'value': 7, 'left': None, 'right': {'value': 9, 'left': None, 'right': None, 'parent': 7}, 'parent': 10}, 'right': None, 'parent': None}\n"
     ]
    }
   ],
   "metadata": {}
  },
  {
   "cell_type": "code",
   "execution_count": 13,
   "source": [
    "# By defining BinaryTreeWithParent._traverse, we've also enabled any class that has an attribute of type\n",
    "# BinaryTreeWithParent to automatically work with the ToDictMixin\n",
    "class NamedSubTree(ToDictMixin):\n",
    "    def __init__(self, name, tree_with_parent):\n",
    "        self.name = name\n",
    "        self.tree_with_parent = tree_with_parent\n",
    "\n",
    "my_tree = NamedSubTree('foobar', root.left.right)\n",
    "print(my_tree.to_dict()) # No infinite loop"
   ],
   "outputs": [
    {
     "output_type": "stream",
     "name": "stdout",
     "text": [
      "{'name': 'foobar', 'tree_with_parent': {'value': 9, 'left': None, 'right': None, 'parent': 7}}\n"
     ]
    }
   ],
   "metadata": {}
  },
  {
   "cell_type": "markdown",
   "source": [
    "Mix-ins can also be composed together."
   ],
   "metadata": {}
  },
  {
   "cell_type": "code",
   "execution_count": 14,
   "source": [
    "# Say for example that we want a mix-in that provides JSON serialization for any class. We can do this\n",
    "# by assuming that a class provides a to_dict method (which may o may not be provided by the ToDictMixin \n",
    "# class)\n",
    "import json\n",
    "\n",
    "class JsonMixin:\n",
    "    @classmethod\n",
    "    def from_json(cls, data):\n",
    "        kwargs = json.loads(data)\n",
    "        return cls(**kwargs)\n",
    "    \n",
    "    def to_json(self):\n",
    "        return json.dumps(self.to_dict())"
   ],
   "outputs": [],
   "metadata": {}
  },
  {
   "cell_type": "markdown",
   "source": [
    "Note how the `JsonMixin` class defines defines both instance methods and class methods. Mix-ins let you add either kind of behavior to subclasses. In the example above, the only requirements of a `JsonMixin` subclass providing a `to_dict` method and taking keyword arguments for the `__init__` method."
   ],
   "metadata": {}
  },
  {
   "cell_type": "code",
   "execution_count": 15,
   "source": [
    "# The above mix-in makes it simple to create hierarchies of utility classes that can be serialized to and\n",
    "# from JSON with little boilerplate. Here, we have a hierarchy of data classes representing parts of a \n",
    "# dataceneter topology\n",
    "class DatacenterRack(ToDictMixin, JsonMixin):\n",
    "    def __init__(self, switch=None, machines=None):\n",
    "        self.switch = Switch(**switch)\n",
    "        self.machines = [Machine(**kwargs) for kwargs in machines]\n",
    "\n",
    "class Switch(ToDictMixin, JsonMixin):\n",
    "    def __init__(self, ports=None, speed=None):\n",
    "        self.ports = ports\n",
    "        self.speed = speed\n",
    "\n",
    "class Machine(ToDictMixin, JsonMixin):\n",
    "    def __init__(self, cores=None, ram=None, disk=None):\n",
    "        self.cores = cores\n",
    "        self.ram = ram\n",
    "        self.disk = disk"
   ],
   "outputs": [],
   "metadata": {}
  },
  {
   "cell_type": "code",
   "execution_count": 17,
   "source": [
    "# Serializing these classes to and from JSON is simple\n",
    "serialized = \"\"\"{\n",
    "    \"switch\": {\"ports\": 5, \"speed\": 1e9},\n",
    "    \"machines\": [\n",
    "        {\"cores\": 8, \"ram\": 32e9, \"disk\": 5e12},\n",
    "        {\"cores\": 4, \"ram\": 16e9, \"disk\": 1e12},\n",
    "        {\"cores\": 2, \"ram\": 4e9, \"disk\": 500e9}\n",
    "    ]\n",
    "}\"\"\"\n",
    "\n",
    "deserialized = DatacenterRack.from_json(serialized)\n",
    "roundtrip = deserialized.to_json()\n",
    "assert json.loads(serialized) == json.loads(roundtrip)"
   ],
   "outputs": [],
   "metadata": {}
  }
 ],
 "metadata": {
  "orig_nbformat": 4,
  "language_info": {
   "name": "python",
   "version": "3.9.4",
   "mimetype": "text/x-python",
   "codemirror_mode": {
    "name": "ipython",
    "version": 3
   },
   "pygments_lexer": "ipython3",
   "nbconvert_exporter": "python",
   "file_extension": ".py"
  },
  "kernelspec": {
   "name": "python3",
   "display_name": "Python 3.9.4 64-bit"
  },
  "interpreter": {
   "hash": "aee8b7b246df8f9039afb4144a1f6fd8d2ca17a180786b69acc140d282b71a49"
  }
 },
 "nbformat": 4,
 "nbformat_minor": 2
}