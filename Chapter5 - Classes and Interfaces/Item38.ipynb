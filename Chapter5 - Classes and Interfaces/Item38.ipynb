{
 "cells": [
  {
   "cell_type": "markdown",
   "source": [
    "# Item 38: Accept Functions Instead of Classes for Simple Interfaces"
   ],
   "metadata": {}
  },
  {
   "cell_type": "code",
   "execution_count": 1,
   "source": [
    "# Many of Python's built-in APIs allow us to customize behavior by passing in a function. These hooks, \n",
    "# are used by APIs to call back our code while they execute. For example, the list type's sort method \n",
    "# takes an optional key argument that's used to determine each index's value for sorting.\n",
    "names = ['Socrates', 'Archimedes', 'Plato', 'Aristotle']\n",
    "names.sort(key=len)\n",
    "print(names)"
   ],
   "outputs": [
    {
     "output_type": "stream",
     "name": "stdout",
     "text": [
      "['Plato', 'Socrates', 'Aristotle', 'Archimedes']\n"
     ]
    }
   ],
   "metadata": {}
  },
  {
   "cell_type": "code",
   "execution_count": 3,
   "source": [
    "# Say that we want to customize the behavior of the defaultdict class. This data structure allows us to supply\n",
    "# a function that will be called with no arguments each time a missing key is accesed\n",
    "from collections import defaultdict\n",
    "\n",
    "def log_missing():\n",
    "    print('Key added')\n",
    "    return 0\n",
    "\n",
    "current = {'green': 12, 'blue': 3}\n",
    "increments = [\n",
    "    ('red', 5),\n",
    "    ('blue', 17),\n",
    "    ('orange', 9)\n",
    "]\n",
    "result = defaultdict(log_missing, current)\n",
    "print('Before:', dict(result))\n",
    "for key, amount in increments:\n",
    "    result[key] += amount\n",
    "print('After:', dict(result))"
   ],
   "outputs": [
    {
     "output_type": "stream",
     "name": "stdout",
     "text": [
      "Before: {'green': 12, 'blue': 3}\n",
      "Key added\n",
      "Key added\n",
      "After: {'green': 12, 'blue': 20, 'red': 5, 'orange': 9}\n"
     ]
    }
   ],
   "metadata": {}
  },
  {
   "cell_type": "markdown",
   "source": [
    "Supplying funcitons like `log_missing` makes APIs easy to build and test because it separates side effects from deterministic behavior."
   ],
   "metadata": {}
  },
  {
   "cell_type": "code",
   "execution_count": 4,
   "source": [
    "# Say we now want the default value hook passed to defaultdict to count the total  number of keys that were\n",
    "# missing. One way to do this is by using a stateful closure\n",
    "def increment_with_report(current, increments):\n",
    "    added_count = 0\n",
    "    def missing():\n",
    "        nonlocal added_count # Stateful closure\n",
    "        added_count += 1\n",
    "        return 0\n",
    "    result = defaultdict(missing, current)\n",
    "    for key, amount in increments:\n",
    "        result[key] += amount\n",
    "    \n",
    "    return result, added_count"
   ],
   "outputs": [],
   "metadata": {}
  },
  {
   "cell_type": "markdown",
   "source": [
    "Running the above function produces the expected result (2), even though the `defaultdict` has no idea that the missing hook maintains state. Another benefit of accepting simple functions for interfaces is that it's easy to add functionality later by hiding state in a closure:"
   ],
   "metadata": {}
  },
  {
   "cell_type": "code",
   "execution_count": 5,
   "source": [
    "result, count = increment_with_report(current, increments)\n",
    "assert count == 2"
   ],
   "outputs": [],
   "metadata": {}
  },
  {
   "cell_type": "markdown",
   "source": [
    "The problem wit defining a closure with stateful hooks is that it's harder to read than the stateless function example."
   ],
   "metadata": {}
  },
  {
   "cell_type": "code",
   "execution_count": 6,
   "source": [
    "# Another approach is to define a small class that encapsulates the state you want to track\n",
    "class CountMissing:\n",
    "    def __init__(self):\n",
    "        self.added = 0\n",
    "\n",
    "    def missing(self):\n",
    "        self.added += 1\n",
    "        return 0"
   ],
   "outputs": [],
   "metadata": {}
  },
  {
   "cell_type": "markdown",
   "source": [
    "In other languages, we might expect that `defaultdict` would have to be modified to accomodate the `CountMissing` interface. But, in Python, thanks to first-class functions, we can reference the `CountMissing.missing` method directly on an object and pass it to `defaultdict` as the default value hook. It's trivial to have an oject instance's method satisfy a function interface:"
   ],
   "metadata": {}
  },
  {
   "cell_type": "code",
   "execution_count": 7,
   "source": [
    "counter = CountMissing()\n",
    "result = defaultdict(counter.missing, current) # Method reference\n",
    "for key, amount in increments:\n",
    "    result[key] += amount\n",
    "assert counter.added == 2"
   ],
   "outputs": [],
   "metadata": {}
  },
  {
   "cell_type": "markdown",
   "source": [
    "Using a helper class like this to provide the behavior of a stateful closure is clearer than using the `increment_with_report` function, as above. But it is still not very clear what the purpose of the `CountMissing` class is.\n",
    "\n",
    "To clarify this situtation, Python allows classes to define the `__call__` special method. `__call__` allows an `object` to be called just like a function. These are called *callables*."
   ],
   "metadata": {}
  },
  {
   "cell_type": "code",
   "execution_count": 8,
   "source": [
    "class BetterCountMissing():\n",
    "    def __init__(self):\n",
    "        self.added = 0\n",
    "\n",
    "    def __call__(self):\n",
    "        self.added += 1\n",
    "        return 0\n",
    "\n",
    "counter = BetterCountMissing()\n",
    "assert counter() == 0\n",
    "assert callable(counter)"
   ],
   "outputs": [],
   "metadata": {}
  },
  {
   "cell_type": "code",
   "execution_count": 9,
   "source": [
    "# Here we use a BetterCountMissing instance as the default value hook for a defaultdict to track the number of\n",
    "# missing keys that were added\n",
    "counter = BetterCountMissing()\n",
    "result = defaultdict(counter, current) # Relies on __call__\n",
    "for key, amount in increments:\n",
    "    result[key] += amount\n",
    "assert counter.added == 2"
   ],
   "outputs": [],
   "metadata": {}
  },
  {
   "cell_type": "code",
   "execution_count": null,
   "source": [],
   "outputs": [],
   "metadata": {}
  }
 ],
 "metadata": {
  "orig_nbformat": 4,
  "language_info": {
   "name": "python",
   "version": "3.9.4",
   "mimetype": "text/x-python",
   "codemirror_mode": {
    "name": "ipython",
    "version": 3
   },
   "pygments_lexer": "ipython3",
   "nbconvert_exporter": "python",
   "file_extension": ".py"
  },
  "kernelspec": {
   "name": "python3",
   "display_name": "Python 3.9.4 64-bit"
  },
  "interpreter": {
   "hash": "aee8b7b246df8f9039afb4144a1f6fd8d2ca17a180786b69acc140d282b71a49"
  }
 },
 "nbformat": 4,
 "nbformat_minor": 2
}