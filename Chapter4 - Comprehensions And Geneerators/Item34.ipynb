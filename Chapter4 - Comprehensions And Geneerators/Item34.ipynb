{
 "cells": [
  {
   "cell_type": "markdown",
   "source": [
    "# Item 34: Avoid Injecting Data Into Generators with `send`"
   ],
   "metadata": {}
  },
  {
   "cell_type": "markdown",
   "source": [
    "`yield` expressions provide generator functinons with a way to produce an iterable series of output values. But, this channel appears to be unidirectional: There's no immediately obvious way to stream data in and out of a generator as it runs. Having this could valuable for various use cases."
   ],
   "metadata": {}
  },
  {
   "cell_type": "code",
   "execution_count": 1,
   "source": [
    "# Program to transmit signals using software-defined radio. The function generates an approximation of sine waves\n",
    "import math\n",
    "\n",
    "def wave(amplitue, steps):\n",
    "    step_size = 2 * math.pi / steps\n",
    "    for step in range(steps):\n",
    "        radians = step * step_size\n",
    "        fraction = math.sin(radians)\n",
    "        output = amplitue * fraction\n",
    "        yield output"
   ],
   "outputs": [],
   "metadata": {}
  },
  {
   "cell_type": "code",
   "execution_count": 3,
   "source": [
    "# Now, we can transmit the wave signal at a single specified amplitude by iterating over the wave generator\n",
    "def transmit(output):\n",
    "    if output is None:\n",
    "        print('Output is None')\n",
    "    else:\n",
    "        print(f'Output: {output:>5.1f}')\n",
    "\n",
    "def run(it):\n",
    "    for output in it:\n",
    "        transmit(output)\n",
    "\n",
    "run(wave(3.0, 8))"
   ],
   "outputs": [
    {
     "output_type": "stream",
     "name": "stdout",
     "text": [
      "Output:   0.0\n",
      "Output:   2.1\n",
      "Output:   3.0\n",
      "Output:   2.1\n",
      "Output:   0.0\n",
      "Output:  -2.1\n",
      "Output:  -3.0\n",
      "Output:  -2.1\n"
     ]
    }
   ],
   "metadata": {}
  },
  {
   "cell_type": "markdown",
   "source": [
    "The code above works fine for producing basic waveforms, but it can't be used to constantly vary the amplitude of the wave based on a separate input. We need a way to modify the amplitude in each iteration of the generator.\n",
    "\n",
    "Python generatos support the `send` method, which upgrades `yield` expressions into a two-way channel. The `send` method can be used to provide streaming inputs to a generator at the same, time it's yielding outputs. Normally, when iterating a generator, the value of the `yield` expression is `None`:"
   ],
   "metadata": {}
  },
  {
   "cell_type": "code",
   "execution_count": 4,
   "source": [
    "def my_generator():\n",
    "    received = yield 1\n",
    "    print(f'received = {received}')\n",
    "\n",
    "it = iter(my_generator())\n",
    "output = next(it)\n",
    "print(f'output = {output}')\n",
    "\n",
    "try:\n",
    "    next(it) # Run generator until it exists\n",
    "except StopIteration:\n",
    "    pass"
   ],
   "outputs": [
    {
     "output_type": "stream",
     "name": "stdout",
     "text": [
      "output = 1\n",
      "received = None\n"
     ]
    }
   ],
   "metadata": {}
  },
  {
   "cell_type": "markdown",
   "source": [
    "When we call the `send` method instead of iterating the generator with a `for` loop or the `next` built-in function, the supplied parameter becomes the value of the `yield` expression when the generator is resumed. However, when the generator first starts, a `yield` expression has not been encountered yet, so the only valid value for calling `send` initially is `None` (any other argument would raise an exception at runtime):"
   ],
   "metadata": {}
  },
  {
   "cell_type": "code",
   "execution_count": 5,
   "source": [
    "it = iter(my_generator())\n",
    "output = it.send(None) # Get first generator output\n",
    "print(f'output = {output}')\n",
    "\n",
    "try:\n",
    "    it.send('hello!') # Send value into the generator\n",
    "except StopIteration:\n",
    "    pass"
   ],
   "outputs": [
    {
     "output_type": "stream",
     "name": "stdout",
     "text": [
      "output = 1\n",
      "received = hello!\n"
     ]
    }
   ],
   "metadata": {}
  },
  {
   "cell_type": "code",
   "execution_count": 6,
   "source": [
    "# We can take advante of this behavior in order to modulate the amplitude of the sine wave based on an input\n",
    "# signal. First, we need to change the wave generator to save the amplitude returned by the yield expression and\n",
    "# use it to calulate the next generated output\n",
    "def wave_modulating(steps):\n",
    "    step_size = 2 * math.pi / steps\n",
    "    amplitude = yield # Receive initial amplitude\n",
    "    for step in range(steps):\n",
    "        radians = step * step_size\n",
    "        fraction = math.sin(radians)\n",
    "        output = amplitude * fraction\n",
    "        amplitude = yield output # Receive next amplitude"
   ],
   "outputs": [],
   "metadata": {}
  },
  {
   "cell_type": "code",
   "execution_count": 7,
   "source": [
    "# Then we update the run function to stream the modulating amplitude into the wave_modulating generator on each\n",
    "# iteration. The first output to send must be None, since a yield expression would not have occurred within\n",
    "# a generator yet\n",
    "def run_modulating(it):\n",
    "    amplitudes = [None, 7, 7, 7, 2, 2, 2, 2, 10, 10, 10, 10, 10]\n",
    "    for amplitude in amplitudes:\n",
    "        output = it.send(amplitude)\n",
    "        transmit(output)\n",
    "\n",
    "run_modulating(wave_modulating(12))"
   ],
   "outputs": [
    {
     "output_type": "stream",
     "name": "stdout",
     "text": [
      "Output is None\n",
      "Output:   0.0\n",
      "Output:   3.5\n",
      "Output:   6.1\n",
      "Output:   2.0\n",
      "Output:   1.7\n",
      "Output:   1.0\n",
      "Output:   0.0\n",
      "Output:  -5.0\n",
      "Output:  -8.7\n",
      "Output: -10.0\n",
      "Output:  -8.7\n",
      "Output:  -5.0\n"
     ]
    }
   ],
   "metadata": {}
  },
  {
   "cell_type": "markdown",
   "source": [
    "The above code has one problem, it is difficult for new readers to understand: `yield` expression on the right side, its hard knowing the connection between `yield` and `send` without previous knowledge of both."
   ],
   "metadata": {}
  },
  {
   "cell_type": "code",
   "execution_count": 8,
   "source": [
    "# Requirements changed, now instead of using a single waveform, we need to use a complex waveform consisting of\n",
    "# multiple signals in sequence. We can implement this by composing multiple generators together with yield from\n",
    "def complex_wave():\n",
    "    yield from wave(7.0, 3)\n",
    "    yield from wave(2.0, 4)\n",
    "    yield from wave(10.0, 5)\n",
    "\n",
    "run(complex_wave())"
   ],
   "outputs": [
    {
     "output_type": "stream",
     "name": "stdout",
     "text": [
      "Output:   0.0\n",
      "Output:   6.1\n",
      "Output:  -6.1\n",
      "Output:   0.0\n",
      "Output:   2.0\n",
      "Output:   0.0\n",
      "Output:  -2.0\n",
      "Output:   0.0\n",
      "Output:   9.5\n",
      "Output:   5.9\n",
      "Output:  -5.9\n",
      "Output:  -9.5\n"
     ]
    }
   ],
   "metadata": {}
  },
  {
   "cell_type": "markdown",
   "source": [
    "`yield from` expression handles the simpler case, so expect it to alos work properly along with the generator `send` method."
   ],
   "metadata": {}
  },
  {
   "cell_type": "code",
   "execution_count": 10,
   "source": [
    "def complex_wave_modulating():\n",
    "    yield from wave_modulating(3)\n",
    "    yield from wave_modulating(4)\n",
    "    yield from wave_modulating(5)\n",
    "\n",
    "run_modulating(complex_wave_modulating())"
   ],
   "outputs": [
    {
     "output_type": "stream",
     "name": "stdout",
     "text": [
      "Output is None\n",
      "Output:   0.0\n",
      "Output:   6.1\n",
      "Output:  -6.1\n",
      "Output is None\n",
      "Output:   0.0\n",
      "Output:   2.0\n",
      "Output:   0.0\n",
      "Output: -10.0\n",
      "Output is None\n",
      "Output:   0.0\n",
      "Output:   9.5\n",
      "Output:   5.9\n"
     ]
    }
   ],
   "metadata": {}
  },
  {
   "cell_type": "markdown",
   "source": [
    "Works but we have `None` values in the output. This happens because when each `yield from` expression finishes iterating over a nested generator, it moves on to the next one. Each nested generator starts with a bare `yield` expression-one without a value-in order to receive the initial amplitude from a generator `send` method call. This causes the parent generator to output a `None` value when it transitions between child generators.\n",
    "\n",
    "This means that assumptions about how the `yield from` and `send` features behave individually will be broken of you try to use them together. \n",
    "\n",
    "The author recommends to avoid the `send` method entirely and go with a simpler approach."
   ],
   "metadata": {}
  },
  {
   "cell_type": "code",
   "execution_count": 14,
   "source": [
    "# A simple solution to the above proble is to pass an iterator into the wave function. The iterator should \n",
    "# return an input amplitude each time the next function is called on it. This arrangement ensures that each\n",
    "# generator is progressed in a cascade as inputs and outputs are processed\n",
    "def wave_cascading(amplitude_it, steps):\n",
    "    step_size = 2 * math.pi / steps\n",
    "    for step in range(steps):\n",
    "        radians = step * step_size\n",
    "        fraction = math.sin(radians)\n",
    "        amplitude = next(amplitude_it) # Get next input\n",
    "        output = amplitude * fraction\n",
    "        yield output"
   ],
   "outputs": [],
   "metadata": {}
  },
  {
   "cell_type": "code",
   "execution_count": 15,
   "source": [
    "# We can then pass the same iterator into each of the generator functions that we're trying to compose together\n",
    "def complex_wave_cascading(amplitude_it):\n",
    "    yield from wave_cascading(amplitude_it, 3)\n",
    "    yield from wave_cascading(amplitude_it, 4)\n",
    "    yield from wave_cascading(amplitude_it, 5)"
   ],
   "outputs": [],
   "metadata": {}
  },
  {
   "cell_type": "code",
   "execution_count": 18,
   "source": [
    "# Now we can run the composed generator by passing in an iterator from the amplitudes list\n",
    "def run_cascading():\n",
    "    amplitudes = [7, 7, 7, 2, 2, 2, 2, 10, 10, 10, 10, 10]\n",
    "    it = complex_wave_cascading(iter(amplitudes))\n",
    "    for amplitude in amplitudes:\n",
    "        output = next(it)\n",
    "        transmit(output)\n",
    "\n",
    "run_cascading()"
   ],
   "outputs": [
    {
     "output_type": "stream",
     "name": "stdout",
     "text": [
      "Output:   0.0\n",
      "Output:   6.1\n",
      "Output:  -6.1\n",
      "Output:   0.0\n",
      "Output:   2.0\n",
      "Output:   0.0\n",
      "Output:  -2.0\n",
      "Output:   0.0\n",
      "Output:   9.5\n",
      "Output:   5.9\n",
      "Output:  -5.9\n",
      "Output:  -9.5\n"
     ]
    }
   ],
   "metadata": {}
  },
  {
   "cell_type": "code",
   "execution_count": null,
   "source": [],
   "outputs": [],
   "metadata": {}
  }
 ],
 "metadata": {
  "orig_nbformat": 4,
  "language_info": {
   "name": "python",
   "version": "3.9.4",
   "mimetype": "text/x-python",
   "codemirror_mode": {
    "name": "ipython",
    "version": 3
   },
   "pygments_lexer": "ipython3",
   "nbconvert_exporter": "python",
   "file_extension": ".py"
  },
  "kernelspec": {
   "name": "python3",
   "display_name": "Python 3.9.4 64-bit"
  },
  "interpreter": {
   "hash": "aee8b7b246df8f9039afb4144a1f6fd8d2ca17a180786b69acc140d282b71a49"
  }
 },
 "nbformat": 4,
 "nbformat_minor": 2
}