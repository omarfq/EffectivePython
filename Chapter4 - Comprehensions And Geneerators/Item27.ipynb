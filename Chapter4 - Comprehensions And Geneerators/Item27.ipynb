{
 "cells": [
  {
   "cell_type": "markdown",
   "source": [
    "# Item 27: Use Comprehensions Instead of `map` and `filter`"
   ],
   "metadata": {}
  },
  {
   "cell_type": "code",
   "execution_count": 1,
   "source": [
    "# Python provides compact syntax for deriving a new list from another sequence or iterable. They're called\n",
    "# List Comprehensions\n",
    "a = [1, 2, 3, 4, 5, 6, 7, 8, 9, 10]\n",
    "squares = []\n",
    "for x in a:\n",
    "    squares.append(x**2)\n",
    "print(squares)"
   ],
   "outputs": [
    {
     "output_type": "stream",
     "name": "stdout",
     "text": [
      "[1, 4, 9, 16, 25, 36, 49, 64, 81, 100]\n"
     ]
    }
   ],
   "metadata": {}
  },
  {
   "cell_type": "code",
   "execution_count": 2,
   "source": [
    "# We can achieve the same as the code above with a list comprehension\n",
    "squares = [x**2 for x in a] # List comprehension\n",
    "print(squares)"
   ],
   "outputs": [
    {
     "output_type": "stream",
     "name": "stdout",
     "text": [
      "[1, 4, 9, 16, 25, 36, 49, 64, 81, 100]\n"
     ]
    }
   ],
   "metadata": {}
  },
  {
   "cell_type": "code",
   "execution_count": 8,
   "source": [
    "# List comprehensions are cleaner than the default map function for simple cases. map requires the use of a lambda\n",
    "# function for its computation which is a bit visually noisy\n",
    "alt = map(lambda x: x**2, a)"
   ],
   "outputs": [],
   "metadata": {}
  },
  {
   "cell_type": "code",
   "execution_count": 9,
   "source": [
    "# Unlike map, list comprehensions let us easily filter items from the input list, removing corresponding outputs\n",
    "# from the result\n",
    "even_squares = [x**2 for x in a if x % 2 == 0]\n",
    "print(even_squares)"
   ],
   "outputs": [
    {
     "output_type": "stream",
     "name": "stdout",
     "text": [
      "[4, 16, 36, 64, 100]\n"
     ]
    }
   ],
   "metadata": {}
  },
  {
   "cell_type": "code",
   "execution_count": 11,
   "source": [
    "# The filter built-in function can be used along with map to achieve the same outcome, but it is much harder to read\n",
    "alt = map(lambda x: x**2, filter(lambda x: x % 2 == 0, a)) \n",
    "assert even_squares == list(alt)"
   ],
   "outputs": [],
   "metadata": {}
  },
  {
   "cell_type": "code",
   "execution_count": 12,
   "source": [
    "# Dictionaries and sets have their own equivalents of list comprehensions (called dictionary and set comprehensions \n",
    "# respectively)\n",
    "even_squares_dict = {x: x**2 for x in a if x % 2 == 0}\n",
    "threes_cubed_set = {x**3 for x in a if x % 3 == 0}\n",
    "print(even_squares_dict)\n",
    "print(threes_cubed_set)"
   ],
   "outputs": [
    {
     "output_type": "stream",
     "name": "stdout",
     "text": [
      "{2: 4, 4: 16, 6: 36, 8: 64, 10: 100}\n",
      "{216, 729, 27}\n"
     ]
    }
   ],
   "metadata": {}
  },
  {
   "cell_type": "code",
   "execution_count": 13,
   "source": [
    "# Achieving the same outcome is possible with map and filter if we wrap each call with a corresponding constructor.\n",
    "# These statements get so long that we have to break them up across multiple lines, which is even noisier and \n",
    "# should be avoided\n",
    "alt_dict = dict(map(lambda x: (x, x**2), \n",
    "                filter(lambda x: x % 2 == 0, a)))\n",
    "\n",
    "alt_set = set(map(lambda x: x**3,\n",
    "              filter(lambda x: x % 3 == 0, a)))"
   ],
   "outputs": [],
   "metadata": {}
  }
 ],
 "metadata": {
  "orig_nbformat": 4,
  "language_info": {
   "name": "python",
   "version": "3.9.4",
   "mimetype": "text/x-python",
   "codemirror_mode": {
    "name": "ipython",
    "version": 3
   },
   "pygments_lexer": "ipython3",
   "nbconvert_exporter": "python",
   "file_extension": ".py"
  },
  "kernelspec": {
   "name": "python3",
   "display_name": "Python 3.9.4 64-bit"
  },
  "interpreter": {
   "hash": "aee8b7b246df8f9039afb4144a1f6fd8d2ca17a180786b69acc140d282b71a49"
  }
 },
 "nbformat": 4,
 "nbformat_minor": 2
}