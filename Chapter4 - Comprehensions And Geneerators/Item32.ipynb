{
 "cells": [
  {
   "cell_type": "markdown",
   "source": [
    "# Item 32: Consider Generator Expressions for Large List Comprehensions"
   ],
   "metadata": {}
  },
  {
   "cell_type": "markdown",
   "source": [
    "The problem with list comprehensions is that may create new `list` instances containing one item for each value in input sequences. This is fine for small inputs, but for large inputs, this behavior could consume significant amounts of memory and cause a program to crash.\n",
    "\n",
    "Say, for example, that we want to read from a file and return the number of characters on each line. Doing this with a list comprehension would require holding the length of every line of the file in memory. If the file is enormous, or perhaps a never-ending network socket, usig list comprehensions would be problematic. "
   ],
   "metadata": {}
  },
  {
   "cell_type": "code",
   "execution_count": 1,
   "source": [
    "# Here we use a list comprehension in a way that can only handle small input values\n",
    "value = [len(x) for x in open('my_file.txt')]\n",
    "print(value)"
   ],
   "outputs": [
    {
     "output_type": "stream",
     "name": "stdout",
     "text": [
      "[85, 31, 31, 2, 87, 3, 86, 59, 59, 142]\n"
     ]
    }
   ],
   "metadata": {}
  },
  {
   "cell_type": "markdown",
   "source": [
    "To solve this issue, Python providses *generator expressions*, which are a generalization of list comprehensions and generators. Generator expressions don't materialize the whole output sequence when they're run. Instead, generator expressions evaluate to an iterator that yields one item at a time from the expression\n",
    "\n",
    "You create a generator expression by putting list-comprehension-like syntax between `()` characters."
   ],
   "metadata": {}
  },
  {
   "cell_type": "code",
   "execution_count": 4,
   "source": [
    "# Here we use a generator expression that is equivalent to the code above. The only thing to note here is that\n",
    "# generator expressions immediately evaluate to iterators and do not make forward progress\n",
    "it = (len(x) for x in open('my_file.txt'))\n",
    "print(it)"
   ],
   "outputs": [
    {
     "output_type": "stream",
     "name": "stdout",
     "text": [
      "<generator object <genexpr> at 0x7ff4b03f1510>\n"
     ]
    }
   ],
   "metadata": {}
  },
  {
   "cell_type": "code",
   "execution_count": 5,
   "source": [
    "# The returned iterator can be advanced one step at time to produce the next output from the generator expression,\n",
    "# as needed (using the next built-in function). We can consume as much as we want from the generator without risking\n",
    "# a blowup in memory usage\n",
    "print(next(it))\n",
    "print(next(it))\n",
    "print(next(it))"
   ],
   "outputs": [
    {
     "output_type": "stream",
     "name": "stdout",
     "text": [
      "85\n",
      "31\n",
      "31\n"
     ]
    }
   ],
   "metadata": {}
  },
  {
   "cell_type": "markdown",
   "source": [
    "Another powerful outcome of generator expressions is that they can be composed together."
   ],
   "metadata": {}
  },
  {
   "cell_type": "code",
   "execution_count": 6,
   "source": [
    "# Here, we take the iterator returned by the generator expression above and use it as the input for another generator\n",
    "# expression\n",
    "roots = ((x, x**0.5) for x in it)"
   ],
   "outputs": [],
   "metadata": {}
  },
  {
   "cell_type": "code",
   "execution_count": 7,
   "source": [
    "# Each time we advance the iterator, it also advances the interior iterator, creating a domino effect of looping, \n",
    "# evaluating conditional expressions, and passing around inputs and outputs, all while being as memory efficient\n",
    "# as possible\n",
    "print(next(roots))\n",
    "print(next(roots))\n",
    "print(next(roots))"
   ],
   "outputs": [
    {
     "output_type": "stream",
     "name": "stdout",
     "text": [
      "(2, 1.4142135623730951)\n",
      "(87, 9.327379053088816)\n",
      "(3, 1.7320508075688772)\n"
     ]
    }
   ],
   "metadata": {}
  },
  {
   "cell_type": "markdown",
   "source": [
    "Chaining generator together like this, executes very quickly in Python. When we're looking for a way to compose that's on a large stream of input, generator expressions are a great choice. The only gotcha is that iterators returned by generator expressions are stateful, so we must be carefl not to use these iterators more than once."
   ],
   "metadata": {}
  }
 ],
 "metadata": {
  "orig_nbformat": 4,
  "language_info": {
   "name": "python",
   "version": "3.9.4",
   "mimetype": "text/x-python",
   "codemirror_mode": {
    "name": "ipython",
    "version": 3
   },
   "pygments_lexer": "ipython3",
   "nbconvert_exporter": "python",
   "file_extension": ".py"
  },
  "kernelspec": {
   "name": "python3",
   "display_name": "Python 3.9.4 64-bit"
  },
  "interpreter": {
   "hash": "aee8b7b246df8f9039afb4144a1f6fd8d2ca17a180786b69acc140d282b71a49"
  }
 },
 "nbformat": 4,
 "nbformat_minor": 2
}