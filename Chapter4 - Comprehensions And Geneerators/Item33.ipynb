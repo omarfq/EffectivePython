{
 "cells": [
  {
   "cell_type": "markdown",
   "source": [
    "# Item 33: Compose Multiple Generators with `yield from`"
   ],
   "metadata": {}
  },
  {
   "cell_type": "markdown",
   "source": [
    "Generators are so useful that many programs start lo look like layers of generators strung together."
   ],
   "metadata": {}
  },
  {
   "cell_type": "code",
   "execution_count": 1,
   "source": [
    "# Say that we have a graphical program that's using generators to animate the movements of images onscreen\n",
    "def move(period, speed):\n",
    "    for _ in range(period):\n",
    "        yield speed\n",
    "\n",
    "def pause(delay):\n",
    "    for _ in range(delay):\n",
    "        yield 0"
   ],
   "outputs": [],
   "metadata": {}
  },
  {
   "cell_type": "code",
   "execution_count": 2,
   "source": [
    "# To create the final animation, we need to combine move and pause to produce a single sequence of onscreen deltas. \n",
    "# Here, we do this by calling a generator for each step of the animation, iterating over each generator in turn, and\n",
    "# yielding the delta of all from them in sequence\n",
    "def animate():\n",
    "    for delta in move(4, 5.0):\n",
    "        yield delta\n",
    "    for delta in pause(3):\n",
    "        yield delta\n",
    "    for delta in move(2, 3.0):\n",
    "        yield delta"
   ],
   "outputs": [],
   "metadata": {}
  },
  {
   "cell_type": "code",
   "execution_count": 3,
   "source": [
    "# Now we can render those deltas onscreen as they're produced by the single animation generator\n",
    "def render(delta):\n",
    "    print(f'Delta: {delta:.1f}')\n",
    "    # Move the images onscreen\n",
    "    # ...\n",
    "\n",
    "def run(func):\n",
    "    for delta in func():\n",
    "        render(delta)\n",
    "\n",
    "run(animate)"
   ],
   "outputs": [
    {
     "output_type": "stream",
     "name": "stdout",
     "text": [
      "Delta: 5.0\n",
      "Delta: 5.0\n",
      "Delta: 5.0\n",
      "Delta: 5.0\n",
      "Delta: 0.0\n",
      "Delta: 0.0\n",
      "Delta: 0.0\n",
      "Delta: 3.0\n",
      "Delta: 3.0\n"
     ]
    }
   ],
   "metadata": {}
  },
  {
   "cell_type": "markdown",
   "source": [
    "The problem with the code above is the repetitive nature of the animate function. The redundancy of the `for` statements and `yield` expressions for each generator adds noise and reduces readability. This example only includes three nested generators and it's already hurting clarity; a complex animation with a dozen or more would be extremely difficult to follow.\n",
    "\n",
    "The solution to this proble is to use the `yield from` expression. This advanced generator feature allows us to yield all values from a nested generator before returning control to the parent generator. "
   ],
   "metadata": {}
  },
  {
   "cell_type": "code",
   "execution_count": 4,
   "source": [
    "# Here, we implement the animation function by using yield from\n",
    "def animate_composed():\n",
    "    yield from move(4, 5.0)\n",
    "    yield from pause(3)\n",
    "    yield from move(2, 3.0)\n",
    "\n",
    "run(animate_composed)"
   ],
   "outputs": [
    {
     "output_type": "stream",
     "name": "stdout",
     "text": [
      "Delta: 5.0\n",
      "Delta: 5.0\n",
      "Delta: 5.0\n",
      "Delta: 5.0\n",
      "Delta: 0.0\n",
      "Delta: 0.0\n",
      "Delta: 0.0\n",
      "Delta: 3.0\n",
      "Delta: 3.0\n"
     ]
    }
   ],
   "metadata": {}
  },
  {
   "cell_type": "markdown",
   "source": [
    "As we can see, the result is the same as before, but now the code is clearer and more intuitive. `yield from` essentially causes the Python interpreter to handle the nested `for` loop and yield expression boilerplate for you, which results in better performance."
   ],
   "metadata": {}
  },
  {
   "cell_type": "code",
   "execution_count": 5,
   "source": [
    "# Here, we verify the speedup by using the timeit built-in module to run a micro-benchmark\n",
    "import timeit\n",
    "\n",
    "def child():\n",
    "    for i in range(1_000_000):\n",
    "        yield i\n",
    "    \n",
    "def slow():\n",
    "    for i in child():\n",
    "        yield i\n",
    "\n",
    "def fast():\n",
    "    yield from child()\n",
    "\n",
    "baseline = timeit.timeit(\n",
    "    stmt='for _ in slow(): pass',\n",
    "    globals=globals(),\n",
    "    number=50\n",
    ")\n",
    "print(f'Manual nesting {baseline:.2f}s')\n",
    "\n",
    "comparison = timeit.timeit(\n",
    "    stmt='for _ in fast(): pass',\n",
    "    globals=globals(),\n",
    "    number=50\n",
    ")\n",
    "print(f'Composed nesting {comparison:.2f}s')\n",
    "\n",
    "reduction = -(comparison - baseline) / baseline\n",
    "print(f'{reduction:.1%} less time')"
   ],
   "outputs": [
    {
     "output_type": "stream",
     "name": "stdout",
     "text": [
      "Manual nesting 3.61s\n",
      "Composed nesting 3.13s\n",
      "13.2% less time\n"
     ]
    }
   ],
   "metadata": {}
  },
  {
   "cell_type": "markdown",
   "source": [
    "The author strongly recommends that, if we find ourselves composing generators, we should use `yield from` when possible."
   ],
   "metadata": {}
  }
 ],
 "metadata": {
  "orig_nbformat": 4,
  "language_info": {
   "name": "python",
   "version": "3.9.4",
   "mimetype": "text/x-python",
   "codemirror_mode": {
    "name": "ipython",
    "version": 3
   },
   "pygments_lexer": "ipython3",
   "nbconvert_exporter": "python",
   "file_extension": ".py"
  },
  "kernelspec": {
   "name": "python3",
   "display_name": "Python 3.9.4 64-bit"
  },
  "interpreter": {
   "hash": "aee8b7b246df8f9039afb4144a1f6fd8d2ca17a180786b69acc140d282b71a49"
  }
 },
 "nbformat": 4,
 "nbformat_minor": 2
}