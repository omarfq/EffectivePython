{
  "cells": [
    {
      "cell_type": "markdown",
      "metadata": {},
      "source": [
        "# Item 45: Consider `@property` Instead of Refactoring Attributes"
      ]
    },
    {
      "cell_type": "markdown",
      "metadata": {},
      "source": [
        "The `@property` decortor lets us migrate all existing usage of a classto have new behaviors without requiring any of the call sites to be written (which is especially important if there's calling code that we don't have control over). It also provides an important stopgap for improving interfaces overtime."
      ]
    },
    {
      "cell_type": "code",
      "execution_count": 5,
      "metadata": {},
      "outputs": [],
      "source": [
        "from datetime import datetime, timedelta\n",
        "\n",
        "# Leaky bucket quota object\n",
        "class Bucket:\n",
        "    def __init__(self, period):\n",
        "        self.period_delta = timedelta(seconds=period)\n",
        "        self.reset_time = datetime.now()\n",
        "        self.quota = 0\n",
        "\n",
        "    def __repr__(self):\n",
        "        return f'Bucket(quota={self.quota})'"
      ]
    },
    {
      "cell_type": "code",
      "execution_count": 6,
      "metadata": {},
      "outputs": [],
      "source": [
        "# Leaky Bucket Algorithm: ensures that whenever the bucket is filled, the amount if quota does not carry\n",
        "# over from one period to the next\n",
        "def fill(bucket, amount):\n",
        "    now = datetime.now()\n",
        "    if (now - bucket.reset_time) > bucket.period_delta:\n",
        "        bucket.quota = 0\n",
        "        bucket.reset_time = now\n",
        "    bucket.quota += amount"
      ]
    },
    {
      "cell_type": "code",
      "execution_count": 7,
      "metadata": {},
      "outputs": [],
      "source": [
        "# Each time a quota consumer wants to do something, it ust first ensure that it can deduse the amount\n",
        "# of quota it needs to use\n",
        "def deduct(bucket, amount):\n",
        "    now = datetime.now()\n",
        "    if (now - bucket.reset_time) > bucket.period_delta:\n",
        "        return False # Bucket hasn't been filled this period\n",
        "    if bucket.quota - amount < 0:\n",
        "        return False # Bucket was filled, but not enough\n",
        "    bucket.quota -= amount\n",
        "    return True # Bucket had enough, quota consumed"
      ]
    },
    {
      "cell_type": "code",
      "execution_count": 11,
      "metadata": {},
      "outputs": [
        {
          "name": "stdout",
          "output_type": "stream",
          "text": [
            "Bucket(quota=100)\n"
          ]
        }
      ],
      "source": [
        "# Using the above class\n",
        "bucket = Bucket(60)\n",
        "fill(bucket, 100)\n",
        "print(bucket)"
      ]
    },
    {
      "cell_type": "code",
      "execution_count": 12,
      "metadata": {},
      "outputs": [
        {
          "name": "stdout",
          "output_type": "stream",
          "text": [
            "Had 99 quota\n",
            "Bucket(quota=1)\n"
          ]
        }
      ],
      "source": [
        "# Then, we deduct the quota that we need\n",
        "if deduct(bucket, 99):\n",
        "    print('Had 99 quota')\n",
        "else:\n",
        "    print('Not enough for 99 quota')\n",
        "print(bucket)"
      ]
    },
    {
      "cell_type": "code",
      "execution_count": 14,
      "metadata": {},
      "outputs": [
        {
          "name": "stdout",
          "output_type": "stream",
          "text": [
            "Not enough for 3 quota\n",
            "Bucket(quota=1)\n"
          ]
        }
      ],
      "source": [
        "# Eventually, we're prevented from making progress because we try to deduct more quota than is available.\n",
        "# In this case, the bucket's quota level remains unchanged\n",
        "if deduct(bucket, 3):\n",
        "    print('Had 3 quota')\n",
        "else:\n",
        "    print('Not enough for 3 quota')\n",
        "print(bucket)"
      ]
    },
    {
      "cell_type": "markdown",
      "metadata": {},
      "source": [
        "Problem: we never know what quota level the bucket started with. \n",
        "Fix: change class to keep track of the `max_quota` issued in the period and the `quota_consumed` in the period:"
      ]
    },
    {
      "cell_type": "code",
      "execution_count": 21,
      "metadata": {},
      "outputs": [],
      "source": [
        "class NewBucket:\n",
        "    def __init__(self, period):\n",
        "        self.period_delta = timedelta(seconds=period)\n",
        "        self.reset_time = datetime.now()\n",
        "        self.max_quota = 0\n",
        "        self.quota_consumed = 0\n",
        "\n",
        "    def __repr__(self):\n",
        "        return (f'NewBucket(max_quota={self.max_quota}, quota_consumed={self.quota_consumed})')\n",
        "    \n",
        "    # To match the previous interface of the original Bucket class, I use a @property method to compute the\n",
        "    # current level of quota on-the-fly using these new attributes\n",
        "    @property\n",
        "    def quota(self):\n",
        "        return self.max_quota - self.quota_consumed\n",
        "\n",
        "    # When the quota attribute is assigned, we take special action to be compatible with the current usage\n",
        "    # of the class by the fill and deduct functions\n",
        "    @quota.setter\n",
        "    def quota(self, amount):\n",
        "        delta = self.max_quota - amount\n",
        "        if amount == 0:\n",
        "            # Quota being reset for a new period\n",
        "            self.quota_consumed = 0\n",
        "            self.max_quota = 0\n",
        "        elif delta < 0:\n",
        "            # Quota being filled for the new period\n",
        "            assert self.quota_consumed == 0\n",
        "            self.max_quota = amount\n",
        "        else:\n",
        "            # Quota being consumed during the period\n",
        "            assert self.max_quota >= self.quota_consumed\n",
        "            self.quota_consumed += delta\n"
      ]
    },
    {
      "cell_type": "code",
      "execution_count": 22,
      "metadata": {},
      "outputs": [
        {
          "name": "stdout",
          "output_type": "stream",
          "text": [
            "Initial NewBucket(max_quota=0, quota_consumed=0)\n",
            "Filled NewBucket(max_quota=100, quota_consumed=0)\n",
            "Had 99 quota\n",
            "Now NewBucket(max_quota=100, quota_consumed=99)\n",
            "Not enough for 3 quota\n",
            "NewBucket(max_quota=100, quota_consumed=99)\n",
            "Still NewBucket(max_quota=100, quota_consumed=99)\n"
          ]
        }
      ],
      "source": [
        "# Demo code from above produces the same reuslts\n",
        "bucket = NewBucket(60)\n",
        "print('Initial', bucket)\n",
        "fill(bucket, 100)\n",
        "print('Filled', bucket)\n",
        "\n",
        "if deduct(bucket, 99):\n",
        "    print('Had 99 quota')\n",
        "else:\n",
        "    print('Not enough for 99 quota')\n",
        "\n",
        "print('Now', bucket)\n",
        "\n",
        "if deduct(bucket, 3):\n",
        "    print('Had 3 quota')\n",
        "else:\n",
        "    print('Not enough for 3 quota')\n",
        "print(bucket)\n",
        "\n",
        "print('Still', bucket)"
      ]
    },
    {
      "cell_type": "code",
      "execution_count": null,
      "metadata": {},
      "outputs": [],
      "source": []
    }
  ],
  "metadata": {
    "interpreter": {
      "hash": "aee8b7b246df8f9039afb4144a1f6fd8d2ca17a180786b69acc140d282b71a49"
    },
    "kernelspec": {
      "display_name": "Python 3.9.4 64-bit",
      "name": "python3"
    },
    "language_info": {
      "codemirror_mode": {
        "name": "ipython",
        "version": 3
      },
      "file_extension": ".py",
      "mimetype": "text/x-python",
      "name": "python",
      "nbconvert_exporter": "python",
      "pygments_lexer": "ipython3",
      "version": "3.9.4"
    },
    "orig_nbformat": 4
  },
  "nbformat": 4,
  "nbformat_minor": 2
}
