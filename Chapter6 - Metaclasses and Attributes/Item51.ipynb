{
 "cells": [
  {
   "cell_type": "markdown",
   "metadata": {},
   "source": [
    "# Item 51: Prefer Class Decorators Over Metaclasses for Composable Class Extensions"
   ]
  },
  {
   "cell_type": "markdown",
   "metadata": {},
   "source": [
    "Although metaclasses allow us to customize class creation in multiple ways, they still fall short of handling every situation that may arise."
   ]
  },
  {
   "cell_type": "code",
   "execution_count": 2,
   "metadata": {},
   "outputs": [],
   "source": [
    "# Here we define the debugging Decorator\n",
    "from functools import wraps\n",
    "\n",
    "def trace_func(func):\n",
    "    if hasattr(func, 'tracing'): # Only decorate once\n",
    "        return func\n",
    "\n",
    "    @wraps(func)\n",
    "    def wrapper(*args, **kwargs):\n",
    "        result = None\n",
    "        try:\n",
    "            result = func(*args, **kwargs)\n",
    "            return result\n",
    "        except Exception as e:\n",
    "            result = e\n",
    "            raise\n",
    "        finally:\n",
    "            print(f'{func.__name__} ({args!r}, {kwargs!r}) -> {result!r}')\n",
    "\n",
    "    wrapper.tracing = True\n",
    "    return wrapper\n"
   ]
  },
  {
   "cell_type": "code",
   "execution_count": 3,
   "metadata": {},
   "outputs": [],
   "source": [
    "# We can apply this decorator to varios special methods in our new dict subclass\n",
    "class TraceDict(dict):\n",
    "    @trace_func\n",
    "    def __init__(self, *args, **kwargs):\n",
    "        super().__init__(*args, **kwargs)\n",
    "\n",
    "    @trace_func\n",
    "    def __setitem__(self, *args, **kwargs):\n",
    "        return super().__setitem__(*args, **kwargs)\n",
    "\n",
    "    @trace_func\n",
    "    def __getitem__(self, *args, **kwargs):\n",
    "        return super().__getitem__(*args, **kwargs)\n",
    "\n",
    "    # ...\n"
   ]
  },
  {
   "cell_type": "code",
   "execution_count": 5,
   "metadata": {},
   "outputs": [
    {
     "name": "stdout",
     "output_type": "stream",
     "text": [
      "__init__ (({'hi': 1}, [('hi', 1)]), {}) -> None\n",
      "__setitem__ (({'hi': 1, 'there': 2}, 'there', 2), {}) -> None\n",
      "__getitem__ (({'hi': 1, 'there': 2}, 'hi'), {}) -> 1\n",
      "__getitem__ (({'hi': 1, 'there': 2}, 'does not exist'), {}) -> KeyError('does not exist')\n"
     ]
    }
   ],
   "source": [
    "# We can verify that these methods are decorated by interacting with an instance of the class\n",
    "trace_dict = TraceDict([('hi', 1)])\n",
    "trace_dict['there'] = 2\n",
    "trace_dict['hi']\n",
    "try:\n",
    "    trace_dict['does not exist']\n",
    "except:\n",
    "    pass # Expected"
   ]
  },
  {
   "cell_type": "markdown",
   "metadata": {},
   "source": [
    "The problem with this code is that we had to redefine all of the methods that we wanted to decorate with `@trace_func`. This is redundant boiler that's hard to read and error prone. Further, if a new method is later added to the `dict` superclass, it won't be decorated unless we alse define it in `TraceDict`.\n",
    "\n",
    "One way to solve this problem is to use a metaclass to automatically decorate all methods of a class."
   ]
  },
  {
   "cell_type": "code",
   "execution_count": 11,
   "metadata": {},
   "outputs": [],
   "source": [
    "import types\n",
    "\n",
    "trace_types = (\n",
    "    types.MethodType,\n",
    "    types.FunctionType,\n",
    "    types.BuiltinFunctionType,\n",
    "    types.BuiltinMethodType,\n",
    "    types.MethodDescriptorType,\n",
    "    types.ClassMethodDescriptorType\n",
    ")\n",
    "\n",
    "class TraceMeta(type):\n",
    "    def __new__(meta, name, bases, class_dict):\n",
    "        klass = super().__new__(meta, name, bases, class_dict)\n",
    "\n",
    "        for key in dir(klass):\n",
    "            value = getattr(klass, key)\n",
    "            if isinstance(value, trace_types):\n",
    "                wrapped = trace_func(value)\n",
    "                setattr(klass, key, wrapped)\n",
    "\n",
    "        return klass"
   ]
  },
  {
   "cell_type": "code",
   "execution_count": 12,
   "metadata": {},
   "outputs": [
    {
     "name": "stdout",
     "output_type": "stream",
     "text": [
      "__new__ ((<class '__main__.TraceDict'>, [('hi', 1)]), {}) -> {}\n",
      "__getitem__ (({'hi': 1, 'there': 2}, 'hi'), {}) -> 1\n",
      "__getitem__ (({'hi': 1, 'there': 2}, 'does not exist'), {}) -> KeyError('does not exist')\n"
     ]
    }
   ],
   "source": [
    "# Now, we can declare my dict subclass by using the TraceMeta metaclass and verify that it works\n",
    "class TraceDict(dict, metaclass=TraceMeta):\n",
    "    pass\n",
    "\n",
    "trace_dict = TraceDict([('hi', 1)])\n",
    "trace_dict['there'] = 2\n",
    "trace_dict['hi']\n",
    "try:\n",
    "    trace_dict['does not exist']\n",
    "except KeyError:\n",
    "    pass  # Expected\n"
   ]
  },
  {
   "cell_type": "code",
   "execution_count": 13,
   "metadata": {},
   "outputs": [
    {
     "ename": "TypeError",
     "evalue": "metaclass conflict: the metaclass of a derived class must be a (non-strict) subclass of the metaclasses of all its bases",
     "output_type": "error",
     "traceback": [
      "\u001b[0;31m---------------------------------------------------------------------------\u001b[0m",
      "\u001b[0;31mTypeError\u001b[0m                                 Traceback (most recent call last)",
      "\u001b[0;32m/var/folders/z0/r2_8k6953pq5sqg15yclzhxh0000gn/T/ipykernel_16839/3271954628.py\u001b[0m in \u001b[0;36m<module>\u001b[0;34m\u001b[0m\n\u001b[1;32m      6\u001b[0m     \u001b[0;32mpass\u001b[0m\u001b[0;34m\u001b[0m\u001b[0;34m\u001b[0m\u001b[0m\n\u001b[1;32m      7\u001b[0m \u001b[0;34m\u001b[0m\u001b[0m\n\u001b[0;32m----> 8\u001b[0;31m \u001b[0;32mclass\u001b[0m \u001b[0mTraceDict\u001b[0m\u001b[0;34m(\u001b[0m\u001b[0mSimpleDict\u001b[0m\u001b[0;34m,\u001b[0m \u001b[0mmetaclass\u001b[0m\u001b[0;34m=\u001b[0m\u001b[0mTraceMeta\u001b[0m\u001b[0;34m)\u001b[0m\u001b[0;34m:\u001b[0m\u001b[0;34m\u001b[0m\u001b[0;34m\u001b[0m\u001b[0m\n\u001b[0m\u001b[1;32m      9\u001b[0m     \u001b[0;32mpass\u001b[0m\u001b[0;34m\u001b[0m\u001b[0;34m\u001b[0m\u001b[0m\n",
      "\u001b[0;31mTypeError\u001b[0m: metaclass conflict: the metaclass of a derived class must be a (non-strict) subclass of the metaclasses of all its bases"
     ]
    }
   ],
   "source": [
    "# What happens if we try to use TraceMeta when a superclass already has specified a metaclass?\n",
    "class OtherMeta(type):\n",
    "    pass\n",
    "\n",
    "class SimpleDict(dict, metaclass=OtherMeta):\n",
    "    pass\n",
    "\n",
    "class TraceDict(SimpleDict, metaclass=TraceMeta):\n",
    "    pass"
   ]
  },
  {
   "cell_type": "code",
   "execution_count": 14,
   "metadata": {},
   "outputs": [
    {
     "name": "stdout",
     "output_type": "stream",
     "text": [
      "__init_subclass__ ((), {}) -> None\n",
      "__new__ ((<class '__main__.TraceDict'>, [('hi', 1)]), {}) -> {}\n",
      "__getitem__ (({'hi': 1, 'there': 2}, 'hi'), {}) -> 1\n",
      "__getitem__ (({'hi': 1, 'there': 2}, 'does not exist'), {}) -> KeyError('does not exist')\n"
     ]
    }
   ],
   "source": [
    "# This fails because TraceMeta does not inherit from OtherMeta. In theory, we can use metaclass inheritance \n",
    "# to solve this problem by having OtherMeta inherit from TraceMeta\n",
    "class TraceMeta(type):\n",
    "    def __new__(meta, name, bases, class_dict):\n",
    "        klass = super().__new__(meta, name, bases, class_dict)\n",
    "\n",
    "        for key in dir(klass):\n",
    "            value = getattr(klass, key)\n",
    "            if isinstance(value, trace_types):\n",
    "                wrapped = trace_func(value)\n",
    "                setattr(klass, key, wrapped)\n",
    "\n",
    "        return klass\n",
    "\n",
    "class OtherMeta(TraceMeta):\n",
    "    pass\n",
    "\n",
    "\n",
    "class SimpleDict(dict, metaclass=OtherMeta):\n",
    "    pass\n",
    "\n",
    "\n",
    "class TraceDict(SimpleDict, metaclass=TraceMeta):\n",
    "    pass\n",
    "\n",
    "\n",
    "trace_dict = TraceDict([('hi', 1)])\n",
    "trace_dict['there'] = 2\n",
    "trace_dict['hi']\n",
    "try:\n",
    "    trace_dict['does not exist']\n",
    "except KeyError:\n",
    "    pass  # Expected\n"
   ]
  },
  {
   "cell_type": "markdown",
   "metadata": {},
   "source": [
    "But, the above won't work if the metaclass is from a library that we can't modify, or if we want to use multiple utility classes like `TraceMeta` at the same time. The metaclass approach puts too many constraints on the class that's being modified.\n",
    "\n",
    "To solve this, Python supports *class decorators*. Class decorators work just like function decorators: They're applied with the `@` symbol prefixing a function before the class declaration. The function is expected to modify or re-create the class accordingly and then return it:"
   ]
  },
  {
   "cell_type": "code",
   "execution_count": 15,
   "metadata": {},
   "outputs": [
    {
     "name": "stdout",
     "output_type": "stream",
     "text": [
      "<class '__main__.MyClass'>\n",
      "hello\n"
     ]
    }
   ],
   "source": [
    "def my_class_decorator(klass):\n",
    "    klass.extra_param = 'hello'\n",
    "    return klass\n",
    "\n",
    "@my_class_decorator\n",
    "class MyClass:\n",
    "    pass\n",
    "\n",
    "print(MyClass)\n",
    "print(MyClass.extra_param)"
   ]
  },
  {
   "cell_type": "code",
   "execution_count": 16,
   "metadata": {},
   "outputs": [],
   "source": [
    "# We can implement a class decorator to apply trace_func to all methods and functions of a class by moving\n",
    "# the core of the TraceMeta.__new__ method above into a stand-alone fucntion. This implementation is much \n",
    "# shorter that the metaclass version\n",
    "def trace(klass):\n",
    "    for key in dir(klass):\n",
    "        value = getattr(klass, key)\n",
    "        if isinstance(value, trace_types):\n",
    "            wrapped = trace_func(value)\n",
    "            setattr(klass, key, wrapped)\n",
    "    return klass"
   ]
  },
  {
   "cell_type": "code",
   "execution_count": 17,
   "metadata": {},
   "outputs": [
    {
     "name": "stdout",
     "output_type": "stream",
     "text": [
      "__new__ ((<class '__main__.TraceDict'>, [('hi', 1)]), {}) -> {}\n",
      "__getitem__ (({'hi': 1, 'there': 2}, 'hi'), {}) -> 1\n",
      "__getitem__ (({'hi': 1, 'there': 2}, 'does not exist'), {}) -> KeyError('does not exist')\n"
     ]
    }
   ],
   "source": [
    "# We can apply this decorator to our dict subclass to get the same behavior as we get by using the metaclass \n",
    "# approach above\n",
    "@trace\n",
    "class TraceDict(dict):\n",
    "    pass\n",
    "\n",
    "\n",
    "trace_dict = TraceDict([('hi', 1)])\n",
    "trace_dict['there'] = 2\n",
    "trace_dict['hi']\n",
    "try:\n",
    "    trace_dict['does not exist']\n",
    "except KeyError:\n",
    "    pass  # Expected\n"
   ]
  },
  {
   "cell_type": "code",
   "execution_count": 18,
   "metadata": {},
   "outputs": [
    {
     "name": "stdout",
     "output_type": "stream",
     "text": [
      "__new__ ((<class '__main__.TraceDict'>, [('hi', 1)]), {}) -> {}\n",
      "__getitem__ (({'hi': 1, 'there': 2}, 'hi'), {}) -> 1\n",
      "__getitem__ (({'hi': 1, 'there': 2}, 'does not exist'), {}) -> KeyError('does not exist')\n"
     ]
    }
   ],
   "source": [
    "# Class decorators also work when the class being decorated already has a metaclass\n",
    "class OtherMeta(type):\n",
    "    pass\n",
    "\n",
    "@trace\n",
    "class TraceDict(dict, metaclass=OtherMeta):\n",
    "    pass\n",
    "\n",
    "\n",
    "trace_dict = TraceDict([('hi', 1)])\n",
    "trace_dict['there'] = 2\n",
    "trace_dict['hi']\n",
    "try:\n",
    "    trace_dict['does not exist']\n",
    "except KeyError:\n",
    "    pass  # Expected\n"
   ]
  },
  {
   "cell_type": "markdown",
   "metadata": {},
   "source": [
    "When we're looking for composable ways to extend classes, class decorators are the best tool for the job."
   ]
  },
  {
   "cell_type": "markdown",
   "metadata": {},
   "source": []
  }
 ],
 "metadata": {
  "interpreter": {
   "hash": "aee8b7b246df8f9039afb4144a1f6fd8d2ca17a180786b69acc140d282b71a49"
  },
  "kernelspec": {
   "display_name": "Python 3.9.4 64-bit",
   "name": "python3"
  },
  "language_info": {
   "codemirror_mode": {
    "name": "ipython",
    "version": 3
   },
   "file_extension": ".py",
   "mimetype": "text/x-python",
   "name": "python",
   "nbconvert_exporter": "python",
   "pygments_lexer": "ipython3",
   "version": "3.9.4"
  },
  "orig_nbformat": 4
 },
 "nbformat": 4,
 "nbformat_minor": 2
}
