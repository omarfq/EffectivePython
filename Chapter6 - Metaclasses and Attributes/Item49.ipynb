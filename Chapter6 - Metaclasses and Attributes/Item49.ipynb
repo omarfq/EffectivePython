{
 "cells": [
  {
   "cell_type": "markdown",
   "metadata": {},
   "source": [
    "# Item 49: Register Class Existence with `__init_subclass__`"
   ]
  },
  {
   "cell_type": "code",
   "execution_count": 1,
   "metadata": {},
   "outputs": [],
   "source": [
    "# Say we want to implement our own serialized representation of a Python object using JSON\n",
    "import json\n",
    "\n",
    "class Serializable:\n",
    "    def __init__(self, *args):\n",
    "        self.args = args\n",
    "\n",
    "    def serialize(self):\n",
    "        return json.dumps({'args': self.args})"
   ]
  },
  {
   "cell_type": "code",
   "execution_count": 2,
   "metadata": {},
   "outputs": [
    {
     "name": "stdout",
     "output_type": "stream",
     "text": [
      "Object:     Point2D(5, 3)\n",
      "Serialized: {\"args\": [5, 3]}\n"
     ]
    }
   ],
   "source": [
    "# This class makes it easy to serialize a simple, immutable data structures like Point2D to a string\n",
    "class Point2D(Serializable):\n",
    "    def __init__(self, x, y):\n",
    "        super().__init__(x, y)\n",
    "        self.x = x\n",
    "        self.y = y\n",
    "\n",
    "    def __repr__(self):\n",
    "        return f'Point2D({self.x}, {self.y})'\n",
    "\n",
    "point = Point2D(5, 3)\n",
    "print('Object:    ', point)\n",
    "print('Serialized:', point.serialize())"
   ]
  },
  {
   "cell_type": "code",
   "execution_count": 4,
   "metadata": {},
   "outputs": [],
   "source": [
    "# We now need to deserialize this JSON string and construct the Point2D object it represents.\n",
    "class Deserializable(Serializable):\n",
    "    @classmethod\n",
    "    def deserialize(cls, json_data):\n",
    "        params = json.loads(json_data)\n",
    "        return cls(*params['args'])"
   ]
  },
  {
   "cell_type": "code",
   "execution_count": 5,
   "metadata": {},
   "outputs": [
    {
     "name": "stdout",
     "output_type": "stream",
     "text": [
      "Before:     Point2D(5, 3)\n",
      "Serialized: {\"args\": [5, 3]}\n",
      "After:      Point2D(5, 3)\n"
     ]
    }
   ],
   "source": [
    "# Using Deserializable makes it easy to serialize and deserialize simple, immutable objects in a generic\n",
    "# way\n",
    "class BetterPoint2D(Deserializable):\n",
    "    def __init__(self, x, y):\n",
    "        super().__init__(x, y)\n",
    "        self.x = x\n",
    "        self.y = y\n",
    "\n",
    "    def __repr__(self):\n",
    "        return f'Point2D({self.x}, {self.y})'\n",
    "\n",
    "before = BetterPoint2D(5, 3)\n",
    "print('Before:    ', before)\n",
    "data = before.serialize()\n",
    "print('Serialized:', data)\n",
    "after = BetterPoint2D.deserialize(data)\n",
    "print('After:     ', after)"
   ]
  },
  {
   "cell_type": "markdown",
   "metadata": {},
   "source": [
    "The problem with this approach is that it only works if we know the intended type of the serialized data ahead of time (e.g., `Point2D`, `BetterPoint2D`). Ideally, we would have a large number of classe serializing to JSON and one common function that could deserialize any if them back to a corresponding Pyhton `object`."
   ]
  },
  {
   "cell_type": "code",
   "execution_count": 6,
   "metadata": {},
   "outputs": [],
   "source": [
    "# We do the above by including a serialized object's class name in the JSON data\n",
    "class BetterSerializable:\n",
    "    def __init__(self, *args):\n",
    "        self.args = args\n",
    "\n",
    "    def serialize(self):\n",
    "        return json.dumps({\n",
    "            'class': self.__class__.__name__,\n",
    "            'args': self.args\n",
    "        })\n",
    "\n",
    "    def __repr__(self):\n",
    "        name = self.__class__.__name__\n",
    "        args_str = ', '.join(str(x) for x in self.args)\n",
    "        return f'{name}({args_str})'"
   ]
  },
  {
   "cell_type": "code",
   "execution_count": 7,
   "metadata": {},
   "outputs": [],
   "source": [
    "# Then we can maintain a mapping of class names back to constructors for those objects\n",
    "registry = {}\n",
    "\n",
    "def register_class(target_class):\n",
    "    registry[target_class.__name__] = target_class\n",
    "\n",
    "def deserialize(data):\n",
    "    params = json.loads(data)\n",
    "    name = params['class']\n",
    "    target_class = registry[name]\n",
    "    return target_class(*params['args'])"
   ]
  },
  {
   "cell_type": "code",
   "execution_count": 8,
   "metadata": {},
   "outputs": [],
   "source": [
    "# To enusre that deserialize alwas works properly, we mus call register_class for every class we may\n",
    "# want to deserialize in the future\n",
    "class EvenBetterPoint2D(BetterSerializable):\n",
    "    def __init__(self, x, y):\n",
    "        super().__init__(x, y)\n",
    "        self.x = x\n",
    "        self.y = y\n",
    "\n",
    "register_class(EvenBetterPoint2D)"
   ]
  },
  {
   "cell_type": "code",
   "execution_count": 9,
   "metadata": {},
   "outputs": [
    {
     "name": "stdout",
     "output_type": "stream",
     "text": [
      "Before:     EvenBetterPoint2D(5, 3)\n",
      "Serialized: {\"class\": \"EvenBetterPoint2D\", \"args\": [5, 3]}\n",
      "After:      EvenBetterPoint2D(5, 3)\n"
     ]
    }
   ],
   "source": [
    "# Now we can serialize an arbitrary JSON string without having to know which class it contains\n",
    "before = EvenBetterPoint2D(5, 3)\n",
    "print('Before:    ', before)\n",
    "data = before.serialize()\n",
    "print('Serialized:', data)\n",
    "after = deserialize(data)\n",
    "print('After:     ', after)\n"
   ]
  },
  {
   "cell_type": "code",
   "execution_count": 11,
   "metadata": {},
   "outputs": [],
   "source": [
    "# The problem with the previous approach is that its possible to forget to call register_class\n",
    "class Point3D(BetterSerializable):\n",
    "    def __init__(self, x, y, z):\n",
    "        super().__init__(x, y, z)\n",
    "        self.x = x\n",
    "        self.y = y\n",
    "        self.z = z\n",
    "\n",
    "# Forgot to call register_class! Whoops!"
   ]
  },
  {
   "cell_type": "code",
   "execution_count": 13,
   "metadata": {},
   "outputs": [
    {
     "ename": "KeyError",
     "evalue": "'Point3D'",
     "output_type": "error",
     "traceback": [
      "\u001b[0;31m---------------------------------------------------------------------------\u001b[0m",
      "\u001b[0;31mKeyError\u001b[0m                                  Traceback (most recent call last)",
      "\u001b[0;32m/var/folders/z0/r2_8k6953pq5sqg15yclzhxh0000gn/T/ipykernel_92364/1483229331.py\u001b[0m in \u001b[0;36m<module>\u001b[0;34m\u001b[0m\n\u001b[1;32m      3\u001b[0m \u001b[0mpoint\u001b[0m \u001b[0;34m=\u001b[0m \u001b[0mPoint3D\u001b[0m\u001b[0;34m(\u001b[0m\u001b[0;36m5\u001b[0m\u001b[0;34m,\u001b[0m \u001b[0;36m9\u001b[0m\u001b[0;34m,\u001b[0m \u001b[0;34m-\u001b[0m\u001b[0;36m4\u001b[0m\u001b[0;34m)\u001b[0m\u001b[0;34m\u001b[0m\u001b[0;34m\u001b[0m\u001b[0m\n\u001b[1;32m      4\u001b[0m \u001b[0mdata\u001b[0m \u001b[0;34m=\u001b[0m \u001b[0mpoint\u001b[0m\u001b[0;34m.\u001b[0m\u001b[0mserialize\u001b[0m\u001b[0;34m(\u001b[0m\u001b[0;34m)\u001b[0m\u001b[0;34m\u001b[0m\u001b[0;34m\u001b[0m\u001b[0m\n\u001b[0;32m----> 5\u001b[0;31m \u001b[0mdeserialize\u001b[0m\u001b[0;34m(\u001b[0m\u001b[0mdata\u001b[0m\u001b[0;34m)\u001b[0m\u001b[0;34m\u001b[0m\u001b[0;34m\u001b[0m\u001b[0m\n\u001b[0m",
      "\u001b[0;32m/var/folders/z0/r2_8k6953pq5sqg15yclzhxh0000gn/T/ipykernel_92364/1462495044.py\u001b[0m in \u001b[0;36mdeserialize\u001b[0;34m(data)\u001b[0m\n\u001b[1;32m      8\u001b[0m     \u001b[0mparams\u001b[0m \u001b[0;34m=\u001b[0m \u001b[0mjson\u001b[0m\u001b[0;34m.\u001b[0m\u001b[0mloads\u001b[0m\u001b[0;34m(\u001b[0m\u001b[0mdata\u001b[0m\u001b[0;34m)\u001b[0m\u001b[0;34m\u001b[0m\u001b[0;34m\u001b[0m\u001b[0m\n\u001b[1;32m      9\u001b[0m     \u001b[0mname\u001b[0m \u001b[0;34m=\u001b[0m \u001b[0mparams\u001b[0m\u001b[0;34m[\u001b[0m\u001b[0;34m'class'\u001b[0m\u001b[0;34m]\u001b[0m\u001b[0;34m\u001b[0m\u001b[0;34m\u001b[0m\u001b[0m\n\u001b[0;32m---> 10\u001b[0;31m     \u001b[0mtarget_class\u001b[0m \u001b[0;34m=\u001b[0m \u001b[0mregistry\u001b[0m\u001b[0;34m[\u001b[0m\u001b[0mname\u001b[0m\u001b[0;34m]\u001b[0m\u001b[0;34m\u001b[0m\u001b[0;34m\u001b[0m\u001b[0m\n\u001b[0m\u001b[1;32m     11\u001b[0m     \u001b[0;32mreturn\u001b[0m \u001b[0mtarget_class\u001b[0m\u001b[0;34m(\u001b[0m\u001b[0;34m*\u001b[0m\u001b[0mparams\u001b[0m\u001b[0;34m[\u001b[0m\u001b[0;34m'args'\u001b[0m\u001b[0;34m]\u001b[0m\u001b[0;34m)\u001b[0m\u001b[0;34m\u001b[0m\u001b[0;34m\u001b[0m\u001b[0m\n",
      "\u001b[0;31mKeyError\u001b[0m: 'Point3D'"
     ]
    }
   ],
   "source": [
    "# This causes the code to break at runtime, when we finally try to deserialize an instance of a class\n",
    "# we forgot to register\n",
    "point = Point3D(5, 9, -4)\n",
    "data = point.serialize()\n",
    "deserialize(data)"
   ]
  },
  {
   "cell_type": "markdown",
   "metadata": {},
   "source": [
    "In this intance, if we forget to call `register_call` after the class statement body, we don't get all of its features. Metaclasses, however, enables us to ensure that `register_call` is called in all classes."
   ]
  },
  {
   "cell_type": "code",
   "execution_count": 14,
   "metadata": {},
   "outputs": [],
   "source": [
    "# Here, we use a metaclass to register the new type immediately after the class's body\n",
    "class Meta(type):\n",
    "    def __new__(meta, name, bases, class_dict):\n",
    "        cls = type.__new__(meta, name, bases, class_dict)\n",
    "        register_class(cls)\n",
    "        return cls\n",
    "\n",
    "class RegisteredSerializable(BetterSerializable, metaclass=Meta):\n",
    "    pass"
   ]
  },
  {
   "cell_type": "code",
   "execution_count": 15,
   "metadata": {},
   "outputs": [
    {
     "name": "stdout",
     "output_type": "stream",
     "text": [
      "Before:     Vector3D(10, -7, 3)\n",
      "Serialized: {\"class\": \"Vector3D\", \"args\": [10, -7, 3]}\n",
      "After:      Vector3D(10, -7, 3)\n"
     ]
    }
   ],
   "source": [
    "# When we define a subclass of RegisteredSerializable, we can be confident that the call to register_class\n",
    "# happened and deserialize always works as expected\n",
    "class Vector3D(RegisteredSerializable):\n",
    "    def __init__(self, x, y, z):\n",
    "        super().__init__(x, y, z)\n",
    "        self.x, self.y, self.z = x, y, z\n",
    "\n",
    "before = Vector3D(10, -7, 3)\n",
    "print('Before:    ', before)\n",
    "data = before.serialize()\n",
    "print('Serialized:', data)\n",
    "print('After:     ', deserialize(data))"
   ]
  },
  {
   "cell_type": "markdown",
   "metadata": {},
   "source": [
    "An even better approach is to use the `__init_subclass__` special method, which reduces the visual noise of applying custom logic when a class is defined."
   ]
  },
  {
   "cell_type": "code",
   "execution_count": 17,
   "metadata": {},
   "outputs": [
    {
     "name": "stdout",
     "output_type": "stream",
     "text": [
      "Before:     Vector1D(6)\n",
      "Serialized: {\"class\": \"Vector1D\", \"args\": [6]}\n",
      "After:      Vector1D(6)\n"
     ]
    }
   ],
   "source": [
    "class BetterRegisteredSerializable(BetterSerializable):\n",
    "    def __init_subclass__(cls):\n",
    "        super().__init_subclass__()\n",
    "        register_class(cls)\n",
    "\n",
    "class Vector1D(BetterRegisteredSerializable):\n",
    "    def __init__(self, magnitude):\n",
    "        super().__init__(magnitude)\n",
    "        self.magnitude = magnitude\n",
    "\n",
    "\n",
    "before = Vector1D(6)\n",
    "print('Before:    ', before)\n",
    "data = before.serialize()\n",
    "print('Serialized:', data)\n",
    "print('After:     ', deserialize(data))"
   ]
  },
  {
   "cell_type": "code",
   "execution_count": null,
   "metadata": {},
   "outputs": [],
   "source": []
  }
 ],
 "metadata": {
  "interpreter": {
   "hash": "aee8b7b246df8f9039afb4144a1f6fd8d2ca17a180786b69acc140d282b71a49"
  },
  "kernelspec": {
   "display_name": "Python 3.9.4 64-bit",
   "name": "python3"
  },
  "language_info": {
   "codemirror_mode": {
    "name": "ipython",
    "version": 3
   },
   "file_extension": ".py",
   "mimetype": "text/x-python",
   "name": "python",
   "nbconvert_exporter": "python",
   "pygments_lexer": "ipython3",
   "version": "3.9.4"
  },
  "orig_nbformat": 4
 },
 "nbformat": 4,
 "nbformat_minor": 2
}
