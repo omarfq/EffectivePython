{
 "cells": [
  {
   "cell_type": "markdown",
   "source": [
    "# Item 6: Prefer Multiple Assignment Unpacking Over Indexing"
   ],
   "metadata": {}
  },
  {
   "cell_type": "code",
   "execution_count": 1,
   "source": [
    "# A tuple in Python is a pair of two values, such as keys and values from a dictionary\n",
    "snack_calories = {\n",
    "    'chips': 140,\n",
    "    'popcorn': 80,\n",
    "    'nuts': 190\n",
    "}\n",
    "items = tuple(snack_calories.items())\n",
    "print(items)"
   ],
   "outputs": [
    {
     "output_type": "stream",
     "name": "stdout",
     "text": [
      "(('chips', 140), ('popcorn', 80), ('nuts', 190))\n"
     ]
    }
   ],
   "metadata": {}
  },
  {
   "cell_type": "code",
   "execution_count": 2,
   "source": [
    "# Values in tuples can be accessed through numerical indexes\n",
    "item = ('Peanut butter', 'Jelly')\n",
    "first = item[0]\n",
    "second = item[1]\n",
    "print(first, 'and', second)"
   ],
   "outputs": [
    {
     "output_type": "stream",
     "name": "stdout",
     "text": [
      "Peanut butter and Jelly\n"
     ]
    }
   ],
   "metadata": {}
  },
  {
   "cell_type": "code",
   "execution_count": 3,
   "source": [
    "# Tuples are immutable so we can't modify them by assigning anew value to an index\n",
    "pair = ('Chocolate', 'Peanut butter')\n",
    "pair[0] = 'Honey'"
   ],
   "outputs": [
    {
     "output_type": "error",
     "ename": "TypeError",
     "evalue": "'tuple' object does not support item assignment",
     "traceback": [
      "\u001b[0;31m---------------------------------------------------------------------------\u001b[0m",
      "\u001b[0;31mTypeError\u001b[0m                                 Traceback (most recent call last)",
      "\u001b[0;32m<ipython-input-3-bad6069dcd72>\u001b[0m in \u001b[0;36m<module>\u001b[0;34m\u001b[0m\n\u001b[1;32m      1\u001b[0m \u001b[0;31m# Tuples are immutable so we can't modify them by assigning anew value to an index\u001b[0m\u001b[0;34m\u001b[0m\u001b[0;34m\u001b[0m\u001b[0;34m\u001b[0m\u001b[0m\n\u001b[1;32m      2\u001b[0m \u001b[0mpair\u001b[0m \u001b[0;34m=\u001b[0m \u001b[0;34m(\u001b[0m\u001b[0;34m'Chocolate'\u001b[0m\u001b[0;34m,\u001b[0m \u001b[0;34m'Peanut butter'\u001b[0m\u001b[0;34m)\u001b[0m\u001b[0;34m\u001b[0m\u001b[0;34m\u001b[0m\u001b[0m\n\u001b[0;32m----> 3\u001b[0;31m \u001b[0mpair\u001b[0m\u001b[0;34m[\u001b[0m\u001b[0;36m0\u001b[0m\u001b[0;34m]\u001b[0m \u001b[0;34m=\u001b[0m \u001b[0;34m'Honey'\u001b[0m\u001b[0;34m\u001b[0m\u001b[0;34m\u001b[0m\u001b[0m\n\u001b[0m",
      "\u001b[0;31mTypeError\u001b[0m: 'tuple' object does not support item assignment"
     ]
    }
   ],
   "metadata": {}
  },
  {
   "cell_type": "code",
   "execution_count": 4,
   "source": [
    "# Python has syntax for unpacking, which allows for assigning multiple values in a single statement\n",
    "item = ('Peanut butter', 'Jelly')\n",
    "first, second = item # Unpacking\n",
    "print(first, 'and', second)"
   ],
   "outputs": [
    {
     "output_type": "stream",
     "name": "stdout",
     "text": [
      "Peanut butter and Jelly\n"
     ]
    }
   ],
   "metadata": {}
  },
  {
   "cell_type": "code",
   "execution_count": 5,
   "source": [
    "# The use of this code is not recommended\n",
    "favorite_snacks = {\n",
    "    'salty': ('pretzels', 100),\n",
    "    'sweet': ('cookies', 180),\n",
    "    'veggie': ('carrots', 20)\n",
    "}\n",
    "\n",
    "((type1, (name1, cals1)),\n",
    "(type2, (name2, cals2)),\n",
    "(type3, (name3, cals3))) = favorite_snacks.items()\n",
    "\n",
    "print(f'Favorite {type1} is {name1} with {cals1} calories')\n",
    "print(f'Favorite {type2} is {name2} with {cals2} calories')\n",
    "print(f'Favorite {type3} is {name3} with {cals3} calories')"
   ],
   "outputs": [
    {
     "output_type": "stream",
     "name": "stdout",
     "text": [
      "Favorite salty is pretzels with 100 calories\n",
      "Favorite sweet is cookies with 180 calories\n",
      "Favorite veggie is carrots with 20 calories\n"
     ]
    }
   ],
   "metadata": {}
  },
  {
   "cell_type": "code",
   "execution_count": 6,
   "source": [
    "def bubble_sort(a):\n",
    "    for _ in range(len(a)):\n",
    "        for i in range(1, len(a)):\n",
    "            if a[i] < a[i-1]:\n",
    "                temp = a[i]\n",
    "                a[i] = a[i-1]\n",
    "                a[i-1] = temp\n",
    "\n",
    "names = ['pretzels', 'carrots', 'arugula', 'bacon']\n",
    "bubble_sort(names)\n",
    "print(names)"
   ],
   "outputs": [
    {
     "output_type": "stream",
     "name": "stdout",
     "text": [
      "['arugula', 'bacon', 'carrots', 'pretzels']\n"
     ]
    }
   ],
   "metadata": {}
  },
  {
   "cell_type": "code",
   "execution_count": 9,
   "source": [
    "# With Unpacking Syntax its possible to swap indexes in a single line without having to use a temp variable\n",
    "def bubble_sort(a):\n",
    "    for _ in range(len(a)):\n",
    "        for i in range(1, len(a)):\n",
    "            if a[i] < a[i-1]:\n",
    "                a[i], a[i-1] = a[i-1], a[i] # Swap\n",
    "\n",
    "names = ['pretzels', 'carrots', 'arugula', 'bacon']\n",
    "bubble_sort(names)\n",
    "print(names)"
   ],
   "outputs": [
    {
     "output_type": "stream",
     "name": "stdout",
     "text": [
      "['arugula', 'bacon', 'carrots', 'pretzels']\n"
     ]
    }
   ],
   "metadata": {}
  },
  {
   "cell_type": "code",
   "execution_count": 10,
   "source": [
    "# Iterate over a list of snacks without using unpacking\n",
    "snacks = [('bacon', 350), ('donut', 240), ('muffin', 190)]\n",
    "for i in range(len(snacks)):\n",
    "    item = snacks[i]\n",
    "    name = item[0]\n",
    "    calories = item[1]\n",
    "    print(f'#{i+1}: {name} has {calories} calories')"
   ],
   "outputs": [
    {
     "output_type": "stream",
     "name": "stdout",
     "text": [
      "#1: bacon has 350 calories\n",
      "#2: donut has 240 calories\n",
      "#3: muffin has 190 calories\n"
     ]
    }
   ],
   "metadata": {}
  },
  {
   "cell_type": "code",
   "execution_count": 12,
   "source": [
    "# Here's the same for loop from above but simplified by using unpacking\n",
    "for rank, (name, calories) in enumerate(snacks, 1):\n",
    "    print(f'#{rank}: {name} has {calories} calories')"
   ],
   "outputs": [
    {
     "output_type": "stream",
     "name": "stdout",
     "text": [
      "#1: bacon has 350 calories\n",
      "#2: donut has 240 calories\n",
      "#3: muffin has 190 calories\n"
     ]
    }
   ],
   "metadata": {}
  },
  {
   "cell_type": "code",
   "execution_count": null,
   "source": [],
   "outputs": [],
   "metadata": {}
  }
 ],
 "metadata": {
  "orig_nbformat": 4,
  "language_info": {
   "name": "python",
   "version": "3.9.4",
   "mimetype": "text/x-python",
   "codemirror_mode": {
    "name": "ipython",
    "version": 3
   },
   "pygments_lexer": "ipython3",
   "nbconvert_exporter": "python",
   "file_extension": ".py"
  },
  "kernelspec": {
   "name": "python3",
   "display_name": "Python 3.9.4 64-bit"
  },
  "interpreter": {
   "hash": "aee8b7b246df8f9039afb4144a1f6fd8d2ca17a180786b69acc140d282b71a49"
  }
 },
 "nbformat": 4,
 "nbformat_minor": 2
}