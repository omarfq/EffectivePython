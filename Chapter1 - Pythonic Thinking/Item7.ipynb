{
 "cells": [
  {
   "cell_type": "markdown",
   "source": [
    "# Item 7: Prefer *enumerate* Over *range*"
   ],
   "metadata": {}
  },
  {
   "cell_type": "code",
   "execution_count": 2,
   "source": [
    "# The range function is useful for loops that iterate over a set of integers\n",
    "from random import randint\n",
    "\n",
    "random_bits = 0\n",
    "for i in range(32):\n",
    "    if randint(0,1):\n",
    "        random_bits |= 1 << i\n",
    "\n",
    "print(bin(random_bits))"
   ],
   "outputs": [
    {
     "output_type": "stream",
     "name": "stdout",
     "text": [
      "0b1001101110001100011100011101010\n"
     ]
    }
   ],
   "metadata": {}
  },
  {
   "cell_type": "code",
   "execution_count": 3,
   "source": [
    "# When we have a data structure to iterate over we can loop directly over the sequence\n",
    "flavor_list = ['vanilla', 'chocolate', 'pecan', 'strawberry']\n",
    "for flavor in flavor_list:\n",
    "    print(f'{flavor} is delicious')"
   ],
   "outputs": [
    {
     "output_type": "stream",
     "name": "stdout",
     "text": [
      "vanilla is delicious\n",
      "chocolate is delicious\n",
      "pecan is delicious\n",
      "strawberry is delicious\n"
     ]
    }
   ],
   "metadata": {}
  },
  {
   "cell_type": "code",
   "execution_count": 4,
   "source": [
    "# Often we'll want to iterate over a list and also know the index of the current item in the list. One way to do this\n",
    "# is by using the rane() function\n",
    "for i in range(len(flavor_list)):\n",
    "    flavor = flavor_list[i]\n",
    "    print(f'{i+1}: {flavor}')\n"
   ],
   "outputs": [
    {
     "output_type": "stream",
     "name": "stdout",
     "text": [
      "1: vanilla\n",
      "2: chocolate\n",
      "3: pecan\n",
      "4: strawberry\n"
     ]
    }
   ],
   "metadata": {}
  },
  {
   "cell_type": "code",
   "execution_count": 5,
   "source": [
    "it = enumerate(flavor_list)\n",
    "print(next(it))\n",
    "print(next(it))"
   ],
   "outputs": [
    {
     "output_type": "stream",
     "name": "stdout",
     "text": [
      "(0, 'vanilla')\n",
      "(1, 'chocolate')\n"
     ]
    }
   ],
   "metadata": {}
  },
  {
   "cell_type": "code",
   "execution_count": 7,
   "source": [
    "# Each pair yielded by enumerate() can be succicntly unpacked in a for statement\n",
    "for i, flavor in enumerate(flavor_list):\n",
    "    print(f'{i+1}: {flavor}')"
   ],
   "outputs": [
    {
     "output_type": "stream",
     "name": "stdout",
     "text": [
      "1: vanilla\n",
      "2: chocolate\n",
      "3: pecan\n",
      "4: strawberry\n"
     ]
    }
   ],
   "metadata": {}
  },
  {
   "cell_type": "code",
   "execution_count": 9,
   "source": [
    "# We can make the above even shorter by specifying the number from which enumerate() should begin counting\n",
    "for i, flavor in enumerate(flavor_list, 1):\n",
    "    print(f'{i}: {flavor}')"
   ],
   "outputs": [
    {
     "output_type": "stream",
     "name": "stdout",
     "text": [
      "1: vanilla\n",
      "2: chocolate\n",
      "3: pecan\n",
      "4: strawberry\n"
     ]
    }
   ],
   "metadata": {}
  },
  {
   "cell_type": "code",
   "execution_count": null,
   "source": [],
   "outputs": [],
   "metadata": {}
  }
 ],
 "metadata": {
  "orig_nbformat": 4,
  "language_info": {
   "name": "python",
   "version": "3.9.4",
   "mimetype": "text/x-python",
   "codemirror_mode": {
    "name": "ipython",
    "version": 3
   },
   "pygments_lexer": "ipython3",
   "nbconvert_exporter": "python",
   "file_extension": ".py"
  },
  "kernelspec": {
   "name": "python3",
   "display_name": "Python 3.9.4 64-bit"
  },
  "interpreter": {
   "hash": "aee8b7b246df8f9039afb4144a1f6fd8d2ca17a180786b69acc140d282b71a49"
  }
 },
 "nbformat": 4,
 "nbformat_minor": 2
}