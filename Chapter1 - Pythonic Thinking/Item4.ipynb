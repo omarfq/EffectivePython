{
 "cells": [
  {
   "cell_type": "markdown",
   "source": [
    "# Item 4: Prefer Interpolated F-Strings Over C-Style Format Strings and str.format"
   ],
   "metadata": {}
  },
  {
   "cell_type": "code",
   "execution_count": 1,
   "source": [
    "a = 0b10111011\n",
    "b = 0xc5f\n",
    "print('Binary is %d, hex is %d' % (a,b))"
   ],
   "outputs": [
    {
     "output_type": "stream",
     "name": "stdout",
     "text": [
      "Binary is 187, hex is 3167\n"
     ]
    }
   ],
   "metadata": {}
  },
  {
   "cell_type": "code",
   "execution_count": 9,
   "source": [
    "# Problem #1 of C-Style Format String: \n",
    "# #This formatting expression works\n",
    "key = 'my_var'\n",
    "value = 1.234\n",
    "formatted = '%-10s %.2f' % (key, value)\n",
    "print(formatted)"
   ],
   "outputs": [
    {
     "output_type": "stream",
     "name": "stdout",
     "text": [
      "my_var     1.23\n"
     ]
    }
   ],
   "metadata": {}
  },
  {
   "cell_type": "code",
   "execution_count": 2,
   "source": [
    "# But if we swap the key and value, we get an exception at runtime\n",
    "key = 'my_var'\n",
    "value = 1.234\n",
    "formatted = '%-10s %.2f' % (value, key)\n",
    "print(formatted)"
   ],
   "outputs": [
    {
     "output_type": "error",
     "ename": "TypeError",
     "evalue": "must be real number, not str",
     "traceback": [
      "\u001b[0;31m---------------------------------------------------------------------------\u001b[0m",
      "\u001b[0;31mTypeError\u001b[0m                                 Traceback (most recent call last)",
      "\u001b[0;32m<ipython-input-2-90808aaf9ca8>\u001b[0m in \u001b[0;36m<module>\u001b[0;34m\u001b[0m\n\u001b[1;32m      2\u001b[0m \u001b[0mkey\u001b[0m \u001b[0;34m=\u001b[0m \u001b[0;34m'my_var'\u001b[0m\u001b[0;34m\u001b[0m\u001b[0;34m\u001b[0m\u001b[0m\n\u001b[1;32m      3\u001b[0m \u001b[0mvalue\u001b[0m \u001b[0;34m=\u001b[0m \u001b[0;36m1.234\u001b[0m\u001b[0;34m\u001b[0m\u001b[0;34m\u001b[0m\u001b[0m\n\u001b[0;32m----> 4\u001b[0;31m \u001b[0mformatted\u001b[0m \u001b[0;34m=\u001b[0m \u001b[0;34m'%-10s %.2f'\u001b[0m \u001b[0;34m%\u001b[0m \u001b[0;34m(\u001b[0m\u001b[0mvalue\u001b[0m\u001b[0;34m,\u001b[0m \u001b[0mkey\u001b[0m\u001b[0;34m)\u001b[0m\u001b[0;34m\u001b[0m\u001b[0;34m\u001b[0m\u001b[0m\n\u001b[0m\u001b[1;32m      5\u001b[0m \u001b[0mprint\u001b[0m\u001b[0;34m(\u001b[0m\u001b[0mformatted\u001b[0m\u001b[0;34m)\u001b[0m\u001b[0;34m\u001b[0m\u001b[0;34m\u001b[0m\u001b[0m\n",
      "\u001b[0;31mTypeError\u001b[0m: must be real number, not str"
     ]
    }
   ],
   "metadata": {}
  },
  {
   "cell_type": "code",
   "execution_count": 14,
   "source": [
    "# Problem #2 of C-Style Format String: \n",
    "# Not so complicated print formatting\n",
    "pantry = [\n",
    "    ('avocados', 1.25),\n",
    "    ('bananas', 2.5),\n",
    "    ('cherries', 15),\n",
    "]\n",
    "for i, (item, count) in enumerate(pantry):\n",
    "    print('#%d: %-10s = %.2f' % (i, item, count))"
   ],
   "outputs": [
    {
     "output_type": "stream",
     "name": "stdout",
     "text": [
      "#0: avocados   = 1.25\n",
      "#1: bananas    = 2.50\n",
      "#2: cherries   = 15.00\n"
     ]
    }
   ],
   "metadata": {}
  },
  {
   "cell_type": "code",
   "execution_count": 15,
   "source": [
    "# Supper complicated string formatting (so long that it had to be split across multiple lines)\n",
    "pantry = [\n",
    "    ('avocados', 1.25),\n",
    "    ('bananas', 2.5),\n",
    "    ('cherries', 15),\n",
    "]\n",
    "for i, (item, count) in enumerate(pantry):\n",
    "    print('#%d: %-10s = %d' % (\n",
    "        i + 1, \n",
    "        item.title(), \n",
    "        round(count)))"
   ],
   "outputs": [
    {
     "output_type": "stream",
     "name": "stdout",
     "text": [
      "#1: Avocados   = 1\n",
      "#2: Bananas    = 2\n",
      "#3: Cherries   = 15\n"
     ]
    }
   ],
   "metadata": {}
  },
  {
   "cell_type": "code",
   "execution_count": 16,
   "source": [
    "# # Problem #3 of C-Style Format String: \n",
    "#If you want to use the same valu in a format string multiple times, we have to repeat it in the right side tuple\n",
    "template = '%s loves food. See %s cook.'\n",
    "name = 'Max'\n",
    "formatted = template % (name, name)\n",
    "print(formatted) "
   ],
   "outputs": [
    {
     "output_type": "stream",
     "name": "stdout",
     "text": [
      "Max loves food. See Max cook.\n"
     ]
    }
   ],
   "metadata": {}
  },
  {
   "cell_type": "code",
   "execution_count": 18,
   "source": [
    "# Here I remembered to use .title() in both name references but if I were to forget one of them it would cause a \n",
    "# mismatched output\n",
    "name = 'brad'\n",
    "formatted = template % (name.title(), name)\n",
    "print(formatted)"
   ],
   "outputs": [
    {
     "output_type": "stream",
     "name": "stdout",
     "text": [
      "Brad loves food. See brad cook.\n"
     ]
    }
   ],
   "metadata": {}
  },
  {
   "cell_type": "code",
   "execution_count": 20,
   "source": [
    "# Python allows us to do formatting with dictionaries instead of tuples\n",
    "# The keys from the dictionary are matched with format specifiers with the corresponding name, sucas %(key)s.\n",
    "# This helps us solve problem #1 of using C-style format strings (types or order of data)\n",
    "key = 'my_var'\n",
    "value = 1.234\n",
    "\n",
    "old_way = '%-10s = %.2f' % (key, value)\n",
    "\n",
    "new_way = '%(key)-10s = %(value).2f' % {\n",
    "    'key': key, 'value': value # Original\n",
    "}\n",
    "\n",
    "reordered = '%(key)-10s = %(value).2f' % {\n",
    "    'value': value, 'key': key  # Swapped\n",
    "}\n",
    "\n",
    "assert old_way == new_way == reordered\n",
    "print(old_way == new_way == reordered)"
   ],
   "outputs": [
    {
     "output_type": "stream",
     "name": "stdout",
     "text": [
      "True\n"
     ]
    }
   ],
   "metadata": {}
  },
  {
   "cell_type": "code",
   "execution_count": 23,
   "source": [
    "# Using dictionaries also solves problem #3 (using the same reference multiple times)\n",
    "name = 'Max'\n",
    "\n",
    "template = '%s loves food. See %s cook.'\n",
    "before = template % (name, name) # Tuple\n",
    "\n",
    "template = '%(name)s loves food. See %(name)s cook.'\n",
    "after = template % {'name': name} # Dictionary\n",
    "\n",
    "assert before == after\n",
    "print(before == after)"
   ],
   "outputs": [
    {
     "output_type": "stream",
     "name": "stdout",
     "text": [
      "True\n"
     ]
    }
   ],
   "metadata": {}
  },
  {
   "cell_type": "code",
   "execution_count": 25,
   "source": [
    "# Using dictionaries does not solve problem #2 tho, because formatting expressions become longer and more visually\n",
    "# noisy\n",
    "pantry = [\n",
    "    ('avocados', 1.25),\n",
    "    ('bananas', 2.5),\n",
    "    ('cherries', 15),\n",
    "]\n",
    "for i, (item, count) in enumerate(pantry):\n",
    "    before = '#%d: %-10s = %d' % (\n",
    "        i + 1, \n",
    "        item.title(), \n",
    "        round(count))\n",
    "\n",
    "    after = '#%(loop)d: %(item)-10s = %(count)d' % {\n",
    "        'loop': i + 1,\n",
    "        'item': item.title(),\n",
    "        'count': round(count)\n",
    "    }\n",
    "\n",
    "assert before == after\n",
    "print(before == after)"
   ],
   "outputs": [
    {
     "output_type": "stream",
     "name": "stdout",
     "text": [
      "True\n"
     ]
    }
   ],
   "metadata": {}
  },
  {
   "cell_type": "code",
   "execution_count": 26,
   "source": [
    "# Problem #4 with C-style formatting expressions is it increases verbosity\n",
    "soup = 'lentil'\n",
    "formatted = 'Today\\'s soup is %(soup)s.' % {'soup': soup}\n",
    "print(formatted)"
   ],
   "outputs": [
    {
     "output_type": "stream",
     "name": "stdout",
     "text": [
      "Today's soup is lentil.\n"
     ]
    }
   ],
   "metadata": {}
  },
  {
   "cell_type": "code",
   "execution_count": 27,
   "source": [
    "# Sometimes these expressions often must span multiple lines\n",
    "menu = {\n",
    "    'soup': 'lentil',\n",
    "    'oyster': 'kumamoto',\n",
    "    'special': 'schnitzel',\n",
    "}\n",
    "template = ('Today\\'s soup is %(soup)s, '\n",
    "            'buy one get two %(oyster)s oysters, '\n",
    "            'and our special entrée is %(special)s.')\n",
    "formatted = template % menu\n",
    "print(formatted)"
   ],
   "outputs": [
    {
     "output_type": "stream",
     "name": "stdout",
     "text": [
      "Today's soup is lentil, buy one get two kumamoto oysters, and our special entrée is schnitzel.\n"
     ]
    }
   ],
   "metadata": {}
  },
  {
   "cell_type": "code",
   "execution_count": 31,
   "source": [
    "# Another way to format strings with Python is by using the built-in format method\n",
    "a = 1234.5678\n",
    "formatted = format(a, ',.2f')\n",
    "print(formatted)\n",
    "\n",
    "b = 'my string'\n",
    "formatted = format(b, '^20s')\n",
    "print('*', formatted, '*')"
   ],
   "outputs": [
    {
     "output_type": "stream",
     "name": "stdout",
     "text": [
      "1,234.57\n",
      "*      my string       *\n"
     ]
    }
   ],
   "metadata": {}
  },
  {
   "cell_type": "code",
   "execution_count": 32,
   "source": [
    "key = 'my_var'\n",
    "value = 1.234\n",
    "\n",
    "formatted = '{} = {}'.format(key, value)\n",
    "print(formatted)"
   ],
   "outputs": [
    {
     "output_type": "stream",
     "name": "stdout",
     "text": [
      "my_var = 1.234\n"
     ]
    }
   ],
   "metadata": {}
  },
  {
   "cell_type": "code",
   "execution_count": 33,
   "source": [
    "formatted = '{:<10} = {:.2f}'.format(key, value)\n",
    "print(formatted)"
   ],
   "outputs": [
    {
     "output_type": "stream",
     "name": "stdout",
     "text": [
      "my_var     = 1.23\n"
     ]
    }
   ],
   "metadata": {}
  },
  {
   "cell_type": "code",
   "execution_count": 34,
   "source": [
    "# Both in C-style formatting and using the format() method we need to escape the % character\n",
    "print('%.2f%%' % 12.5)\n",
    "print('{} replaces {{}}'.format(1.23))"
   ],
   "outputs": [
    {
     "output_type": "stream",
     "name": "stdout",
     "text": [
      "12.50%\n",
      "1.23 replaces {}\n"
     ]
    }
   ],
   "metadata": {}
  },
  {
   "cell_type": "code",
   "execution_count": 35,
   "source": [
    "# By indexing the postions of arguments passed to the format() method we are able to solve problem #1\n",
    "formatted = '{1} = {0}'.format(key, value)\n",
    "print(formatted)"
   ],
   "outputs": [
    {
     "output_type": "stream",
     "name": "stdout",
     "text": [
      "1.234 = my_var\n"
     ]
    }
   ],
   "metadata": {}
  },
  {
   "cell_type": "code",
   "execution_count": 36,
   "source": [
    "# Positional index may also be used multiple times without the need to pass the value to the format method, thus\n",
    "# solving problem #3\n",
    "formatted = '{0} loved food. Seek {0} cook.'.format(name)\n",
    "print(formatted)"
   ],
   "outputs": [
    {
     "output_type": "stream",
     "name": "stdout",
     "text": [
      "Max loved food. Seek Max cook.\n"
     ]
    }
   ],
   "metadata": {}
  },
  {
   "cell_type": "code",
   "execution_count": 40,
   "source": [
    "# The format() method does not solve problem #2, because it makes your code difficult to read\n",
    "for i, (item, count) in enumerate(pantry):\n",
    "    old_style = '#%d: %-10s = %d' % (\n",
    "        i + 1, \n",
    "        item.title(), \n",
    "        round(count))\n",
    "\n",
    "    new_style = '#{}: {:<10s} = {}'.format(\n",
    "        i + 1,\n",
    "        item.title(), \n",
    "        round(count)\n",
    "    )\n",
    "assert old_style == new_style\n",
    "print(old_style == new_style)"
   ],
   "outputs": [
    {
     "output_type": "stream",
     "name": "stdout",
     "text": [
      "True\n"
     ]
    }
   ],
   "metadata": {}
  },
  {
   "cell_type": "code",
   "execution_count": 41,
   "source": [
    "# There are more advanced options for the specifiers used with str.format method, such as using combinations of\n",
    "# dictionary keys and list indexes in placeholders, and coercing values to Unicode and repr strings\n",
    "formatted = 'First letter is {menu[oyster][0]!r}'.format(menu=menu)\n",
    "print(formatted)"
   ],
   "outputs": [
    {
     "output_type": "stream",
     "name": "stdout",
     "text": [
      "First letter is 'k'\n"
     ]
    }
   ],
   "metadata": {}
  },
  {
   "cell_type": "code",
   "execution_count": 42,
   "source": [
    "# These features of format() dont solve problem #4 (redundancy and verbosity)\n",
    "old_template = ('Today\\'s soup is %(soup)s, '\n",
    "            'buy one get two %(oyster)s oysters, '\n",
    "            'and our special entrée is %(special)s.')\n",
    "old_formatted = template % {\n",
    "    'soup': 'lentil',\n",
    "    'oyster': 'kumamoto',\n",
    "    'special': 'schnitzel',\n",
    "}\n",
    "\n",
    "new_template = ('Today\\'s soup is {soup}, '\n",
    "            'buy one get two {oyster} oysters, '\n",
    "            'and our special entrée is {special}.')\n",
    "new_formatted = new_template.format(\n",
    "    soup = 'lentil',\n",
    "    oyster = 'kumamoto',\n",
    "    special = 'schnitzel',\n",
    ")\n",
    "\n",
    "assert old_formatted == new_formatted\n",
    "print(old_formatted == new_formatted)"
   ],
   "outputs": [
    {
     "output_type": "stream",
     "name": "stdout",
     "text": [
      "True\n"
     ]
    }
   ],
   "metadata": {}
  },
  {
   "cell_type": "code",
   "execution_count": 43,
   "source": [
    "# Enter F-Strings\n",
    "key = 'my_var'\n",
    "value = 1.234\n",
    "\n",
    "formatted = f'{key} = {value}'\n",
    "print(formatted)"
   ],
   "outputs": [
    {
     "output_type": "stream",
     "name": "stdout",
     "text": [
      "my_var = 1.234\n"
     ]
    }
   ],
   "metadata": {}
  },
  {
   "cell_type": "code",
   "execution_count": 45,
   "source": [
    "# All of the same options from the new format built-in method are available after the colon in the placeholder within\n",
    "# an f-string. As well as the ability to coerce values to Unicode and repr strings\n",
    "formatted = f'{key!r:<10} = {value:.2f}'\n",
    "print(formatted)"
   ],
   "outputs": [
    {
     "output_type": "stream",
     "name": "stdout",
     "text": [
      "'my_var'   = 1.23\n"
     ]
    }
   ],
   "metadata": {}
  },
  {
   "cell_type": "code",
   "execution_count": 46,
   "source": [
    "# Formatting with f-strings is always shorter than using C-style format strings with the % operator and the str.format\n",
    "f_string = f'{key:<10} = {value:.2f}'\n",
    "\n",
    "c_tuple = '%-10s = %.2f' % (key, value)\n",
    "\n",
    "str_args = '{:<10} = {:.2f}'.format(key, value)\n",
    "\n",
    "str_kw = '{key:<10} = {value:.2f}'.format(key=key, value=value)\n",
    "\n",
    "c_dict = '%(key)-10s = %(value).2f' % {'key': key, 'value': value}\n",
    "\n",
    "assert c_tuple == c_dict == f_string\n",
    "assert str_args == str_kw == f_string"
   ],
   "outputs": [],
   "metadata": {}
  },
  {
   "cell_type": "code",
   "execution_count": 47,
   "source": [
    "# F-strings solve problem #2 by enabling us to put a full Python expression within the placeholder braces\n",
    "for i, (item, count) in enumerate(pantry):\n",
    "    old_style = '#%d: %-10s = %d' % (\n",
    "        i + 1, \n",
    "        item.title(), \n",
    "        round(count))\n",
    "    \n",
    "    new_style = '#{}: {:<10s} = {}'.format(\n",
    "        i + 1,\n",
    "        item.title(), \n",
    "        round(count)\n",
    "    )\n",
    "\n",
    "f_string = f'#{i+1}: {item.title():<10s} = {round(count)}'\n",
    "\n",
    "assert old_style == new_style == f_string"
   ],
   "outputs": [],
   "metadata": {}
  },
  {
   "cell_type": "code",
   "execution_count": 48,
   "source": [
    "# You can split an f-string over multiple lines by relying on adjacent-string concatenation\n",
    "for i, (item, count) in enumerate(pantry):\n",
    "    print(f'#{i+1}: '\n",
    "          f'{item.title():<10s} = '\n",
    "          f'{round(count)}')"
   ],
   "outputs": [
    {
     "output_type": "stream",
     "name": "stdout",
     "text": [
      "#1: Avocados   = 1\n",
      "#2: Bananas    = 2\n",
      "#3: Cherries   = 15\n"
     ]
    }
   ],
   "metadata": {}
  },
  {
   "cell_type": "code",
   "execution_count": 49,
   "source": [
    "# Python expressions may also appear within the format specifier options\n",
    "places = 3\n",
    "number = 1.23456\n",
    "print(f'My number is {number:.{places}f}')"
   ],
   "outputs": [
    {
     "output_type": "stream",
     "name": "stdout",
     "text": [
      "My number is 1.235\n"
     ]
    }
   ],
   "metadata": {}
  },
  {
   "cell_type": "code",
   "execution_count": null,
   "source": [],
   "outputs": [],
   "metadata": {}
  }
 ],
 "metadata": {
  "orig_nbformat": 4,
  "language_info": {
   "name": "python",
   "version": "3.9.4",
   "mimetype": "text/x-python",
   "codemirror_mode": {
    "name": "ipython",
    "version": 3
   },
   "pygments_lexer": "ipython3",
   "nbconvert_exporter": "python",
   "file_extension": ".py"
  },
  "kernelspec": {
   "name": "python3",
   "display_name": "Python 3.9.4 64-bit"
  },
  "interpreter": {
   "hash": "aee8b7b246df8f9039afb4144a1f6fd8d2ca17a180786b69acc140d282b71a49"
  }
 },
 "nbformat": 4,
 "nbformat_minor": 2
}