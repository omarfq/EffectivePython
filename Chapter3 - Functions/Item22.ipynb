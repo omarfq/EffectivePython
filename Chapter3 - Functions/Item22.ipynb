{
 "cells": [
  {
   "cell_type": "markdown",
   "source": [
    "# Item 22: Reduce Visual Noise with Variable Positional Arguments"
   ],
   "metadata": {}
  },
  {
   "cell_type": "code",
   "execution_count": 1,
   "source": [
    "# Accepting a variable number of positional arguments can make a function call clearer and reduce visual noise\n",
    "# Say we want to log some debugging info. With a fixed number of arguments, we would need a functio that takes a \n",
    "# message and a list of values\n",
    "def log(message, values):\n",
    "    if not values:\n",
    "        print(message)\n",
    "    else:\n",
    "        values_str = ', '.join(str(x) for x in values)\n",
    "        print(f'{message}: {values_str}')\n",
    "\n",
    "log('My numbers are', [1, 2])\n",
    "log('Hi there', [])"
   ],
   "outputs": [
    {
     "output_type": "stream",
     "name": "stdout",
     "text": [
      "My numbers are: 1, 2\n",
      "Hi there\n"
     ]
    }
   ],
   "metadata": {}
  },
  {
   "cell_type": "markdown",
   "source": [
    "Having to pass an empty list when we have no values to log is cumbersome an noisy. It'd be better to leave out the second argment entirely. We can do this in Python by prefixing the last positional parameter name with `*`."
   ],
   "metadata": {}
  },
  {
   "cell_type": "code",
   "execution_count": 2,
   "source": [
    "# The first parameter for the log message is required, whereas any number of subsequent positional arguments are\n",
    "# optional. The function body doesn't need to change, only the callers do\n",
    "def log(message, *values): #The only difference\n",
    "    if not values:\n",
    "        print(message)\n",
    "    else:\n",
    "        values_str = ', '.join(str(x) for x in values)\n",
    "        print(f'{message}: {values_str}')\n",
    "\n",
    "log('My numbers are', 1, 2)\n",
    "log('Hi there') # Much better"
   ],
   "outputs": [
    {
     "output_type": "stream",
     "name": "stdout",
     "text": [
      "My numbers are: 1, 2\n",
      "Hi there\n"
     ]
    }
   ],
   "metadata": {}
  },
  {
   "cell_type": "code",
   "execution_count": 5,
   "source": [
    "# If we already have a sequence (like a list) and want to call a variadic function like log, we can do this by\n",
    "# using the * operator. This instructs Python to pass items from the sequence as positional a to the function\n",
    "favorites = [7, 33, 99]\n",
    "log('Favorite colors', *favorites)"
   ],
   "outputs": [
    {
     "output_type": "stream",
     "name": "stdout",
     "text": [
      "Favorite colors: 7, 33, 99\n"
     ]
    }
   ],
   "metadata": {}
  },
  {
   "cell_type": "markdown",
   "source": [
    "There are two problems with accepting a variable number of positional arguments:\n",
    "\n",
    "The first issue is that these positional arguments are always turned into a tuple before they are passed to a function. This means that if a caller of the function uses the `*` operator on a generator, it will be iterated until its exhausted. The resulting tuple includes every value from the generator, which could consume a lot of memory and cause the program to crash"
   ],
   "metadata": {}
  },
  {
   "cell_type": "code",
   "execution_count": 6,
   "source": [
    "def my_generator():\n",
    "    for i in range(10):\n",
    "        yield i\n",
    "\n",
    "def my_func(*args):\n",
    "    print(args)\n",
    "\n",
    "it = my_generator()\n",
    "my_func(*it)"
   ],
   "outputs": [
    {
     "output_type": "stream",
     "name": "stdout",
     "text": [
      "(0, 1, 2, 3, 4, 5, 6, 7, 8, 9)\n"
     ]
    }
   ],
   "metadata": {}
  },
  {
   "cell_type": "markdown",
   "source": [
    "Functions that accept `*args` is best for situations where you know the number of inputs in the argument list will be reasonably small. `*args` is ideal for function calls that pass many literals or variable names together. It's primarily for the convinience of the programmer and the readablity of the code."
   ],
   "metadata": {}
  },
  {
   "cell_type": "markdown",
   "source": [
    "The second issue with `*args` is that you can't add new positional arguments to a function in the future without migrating every caller. If we try to add a new positional argument in the front of the argument list, existing callers will subtly break if they aren't updated."
   ],
   "metadata": {}
  },
  {
   "cell_type": "code",
   "execution_count": 7,
   "source": [
    "def log(sequence, message, *values):\n",
    "    if not values:\n",
    "        print(f'{sequence} - {message}')\n",
    "    else:\n",
    "        values_str = ', '.join(str(x) for x in values)\n",
    "        print(f'{sequence} - {message}: {values_str}')\n",
    "\n",
    "log(1, 'Favorites', 7, 33)     # New with *args OK\n",
    "log(1, 'Hi there')             # New message only\n",
    "log('Favorite numbers', 7, 33) # Old usage breaks"
   ],
   "outputs": [
    {
     "output_type": "stream",
     "name": "stdout",
     "text": [
      "1 - Favorites: 7, 33\n",
      "1 - Hi there\n",
      "Favorite numbers - 7: 33\n"
     ]
    }
   ],
   "metadata": {}
  },
  {
   "cell_type": "markdown",
   "source": [
    "The problem with code above is that third call to `log` used `7` as the `message` parameter because a `sequence` argument was not given. To avoid this possibility entirely, we should use keyword-only arguments when we want to extend functions that accept `*args`. To be more defensive, use type annotations as well."
   ],
   "metadata": {}
  }
 ],
 "metadata": {
  "orig_nbformat": 4,
  "language_info": {
   "name": "python",
   "version": "3.9.4",
   "mimetype": "text/x-python",
   "codemirror_mode": {
    "name": "ipython",
    "version": 3
   },
   "pygments_lexer": "ipython3",
   "nbconvert_exporter": "python",
   "file_extension": ".py"
  },
  "kernelspec": {
   "name": "python3",
   "display_name": "Python 3.9.4 64-bit"
  },
  "interpreter": {
   "hash": "aee8b7b246df8f9039afb4144a1f6fd8d2ca17a180786b69acc140d282b71a49"
  }
 },
 "nbformat": 4,
 "nbformat_minor": 2
}