{
 "cells": [
  {
   "cell_type": "markdown",
   "source": [
    "# Item 23: Provide Optional Behavior with Keyword Arguments"
   ],
   "metadata": {}
  },
  {
   "cell_type": "code",
   "execution_count": 1,
   "source": [
    "# In Python, we may pass arguments by position when calling a function\n",
    "def remainder(number, divisor):\n",
    "    return number % divisor\n",
    "\n",
    "assert remainder(20, 7) == 6"
   ],
   "outputs": [],
   "metadata": {}
  },
  {
   "cell_type": "markdown",
   "source": [
    "All normal arguments to Python functions can also be passed by keyword, where the name of the argument is used as an assignment within the parenthesis of the function call. Keyword arguments can be passed in any order to the function as long as all of the required positional arguments are specified. We can mix and match keyword and positional arguments."
   ],
   "metadata": {}
  },
  {
   "cell_type": "code",
   "execution_count": 3,
   "source": [
    "# These calls are equivalent\n",
    "remainder(20, 7)\n",
    "remainder(20, divisor=7)\n",
    "remainder(number=20, divisor=7)\n",
    "remainder(divisor=7, number=20)"
   ],
   "outputs": [
    {
     "output_type": "execute_result",
     "data": {
      "text/plain": [
       "6"
      ]
     },
     "metadata": {},
     "execution_count": 3
    }
   ],
   "metadata": {}
  },
  {
   "cell_type": "code",
   "execution_count": 4,
   "source": [
    "# Important: positional arguments must be specified before keyword arguments\n",
    "remainder(number=20, 7)"
   ],
   "outputs": [
    {
     "output_type": "error",
     "ename": "SyntaxError",
     "evalue": "positional argument follows keyword argument (1163618325.py, line 2)",
     "traceback": [
      "\u001b[0;36m  File \u001b[0;32m\"/var/folders/z0/r2_8k6953pq5sqg15yclzhxh0000gn/T/ipykernel_38410/1163618325.py\"\u001b[0;36m, line \u001b[0;32m2\u001b[0m\n\u001b[0;31m    remainder(number=20, 7)\u001b[0m\n\u001b[0m                          ^\u001b[0m\n\u001b[0;31mSyntaxError\u001b[0m\u001b[0;31m:\u001b[0m positional argument follows keyword argument\n"
     ]
    }
   ],
   "metadata": {}
  },
  {
   "cell_type": "code",
   "execution_count": 5,
   "source": [
    "# Each argument can be specified only once\n",
    "remainder(20, number=7)"
   ],
   "outputs": [
    {
     "output_type": "error",
     "ename": "TypeError",
     "evalue": "remainder() got multiple values for argument 'number'",
     "traceback": [
      "\u001b[0;31m---------------------------------------------------------------------------\u001b[0m",
      "\u001b[0;31mTypeError\u001b[0m                                 Traceback (most recent call last)",
      "\u001b[0;32m/var/folders/z0/r2_8k6953pq5sqg15yclzhxh0000gn/T/ipykernel_38410/1730920636.py\u001b[0m in \u001b[0;36m<module>\u001b[0;34m\u001b[0m\n\u001b[1;32m      1\u001b[0m \u001b[0;31m# Each argument can be specified only once\u001b[0m\u001b[0;34m\u001b[0m\u001b[0;34m\u001b[0m\u001b[0;34m\u001b[0m\u001b[0m\n\u001b[0;32m----> 2\u001b[0;31m \u001b[0mremainder\u001b[0m\u001b[0;34m(\u001b[0m\u001b[0;36m20\u001b[0m\u001b[0;34m,\u001b[0m \u001b[0mnumber\u001b[0m\u001b[0;34m=\u001b[0m\u001b[0;36m7\u001b[0m\u001b[0;34m)\u001b[0m\u001b[0;34m\u001b[0m\u001b[0;34m\u001b[0m\u001b[0m\n\u001b[0m",
      "\u001b[0;31mTypeError\u001b[0m: remainder() got multiple values for argument 'number'"
     ]
    }
   ],
   "metadata": {}
  },
  {
   "cell_type": "markdown",
   "source": [
    "If we already have a dictionary, and we want to use its contents to call a function like remainder, we can use the `**` operator. This tells Python to pass the values from the dictionary as the corresponding arguments of the function."
   ],
   "metadata": {}
  },
  {
   "cell_type": "code",
   "execution_count": 6,
   "source": [
    "my_kwargs = {\n",
    "    'number': 20,\n",
    "    'divisor': 7\n",
    "}\n",
    "\n",
    "assert remainder(**my_kwargs) == 6"
   ],
   "outputs": [],
   "metadata": {}
  },
  {
   "cell_type": "code",
   "execution_count": 9,
   "source": [
    "# We can also use the ** operator multiple times if you know that the dictionaries don't contain overlapping keys\n",
    "my_kwargs = {\n",
    "    'number': 20\n",
    "}\n",
    "\n",
    "other_kwargs = {\n",
    "    'divisor': 7\n",
    "}\n",
    "\n",
    "assert remainder(**my_kwargs, **other_kwargs) == 6"
   ],
   "outputs": [],
   "metadata": {}
  },
  {
   "cell_type": "code",
   "execution_count": 11,
   "source": [
    "# If we'd like for a function to receive any named keyword argument, we can use the `**kwargs` catch-all \n",
    "# parameters to collect those arguments into a `dict` that we can then process\n",
    "def print_parameters(**kwargs):\n",
    "    for key, value in kwargs.items():\n",
    "        print(f'{key} = {value}')\n",
    "\n",
    "print_parameters(alpha=1.5, beta=9, gamma=4)"
   ],
   "outputs": [
    {
     "output_type": "stream",
     "name": "stdout",
     "text": [
      "alpha = 1.5\n",
      "beta = 9\n",
      "gamma = 4\n"
     ]
    }
   ],
   "metadata": {}
  },
  {
   "cell_type": "markdown",
   "source": [
    "The flexibility of keyword arguments provides three significant benefits:\n",
    "1. They make function call clearer to new readers of the code.\n",
    "2. The can have default values specified in the function definition. This allows a function to provide additional capabilities when we need them, but we can accept the default behavior most of the time. This eliminates repetitive code and reduces noise.\n",
    "3. They provide a powerful way to extend a function's parameters while remaining backwards compatible with existing callers. This means we can provide additional functionality without having to migrate a lot of existing code, which reduces the chance of introducing bugs."
   ],
   "metadata": {}
  },
  {
   "cell_type": "code",
   "execution_count": null,
   "source": [],
   "outputs": [],
   "metadata": {}
  }
 ],
 "metadata": {
  "orig_nbformat": 4,
  "language_info": {
   "name": "python",
   "version": "3.9.4",
   "mimetype": "text/x-python",
   "codemirror_mode": {
    "name": "ipython",
    "version": 3
   },
   "pygments_lexer": "ipython3",
   "nbconvert_exporter": "python",
   "file_extension": ".py"
  },
  "kernelspec": {
   "name": "python3",
   "display_name": "Python 3.9.4 64-bit"
  },
  "interpreter": {
   "hash": "aee8b7b246df8f9039afb4144a1f6fd8d2ca17a180786b69acc140d282b71a49"
  }
 },
 "nbformat": 4,
 "nbformat_minor": 2
}