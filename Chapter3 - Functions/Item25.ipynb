{
 "cells": [
  {
   "cell_type": "markdown",
   "source": [
    "# Item 25: Enforce Clarity with Keyword-Ony and Positional-Only Arguments"
   ],
   "metadata": {}
  },
  {
   "cell_type": "code",
   "execution_count": 5,
   "source": [
    "# The flexibity of keyword arguments enables us to write function that will be clear to new readers of our code\n",
    "# for many use cases. For example, sya that we want to divide  one number by another but know that we need to be\n",
    "# very careful about special cases\n",
    "def safe_division(number, divisor, ignore_overflow, ignore_zero_division):\n",
    "    try:\n",
    "        return number / divisor\n",
    "    except OverflowError:\n",
    "        if ignore_overflow:\n",
    "            return 0\n",
    "        else:\n",
    "            raise\n",
    "    except ZeroDivisionError:\n",
    "        if ignore_zero_division:\n",
    "            return float('inf')\n",
    "        else:\n",
    "            raise"
   ],
   "outputs": [],
   "metadata": {}
  },
  {
   "cell_type": "code",
   "execution_count": 6,
   "source": [
    "# This call ignores the float overflow\n",
    "result = safe_division(1.0, 10**500, True, False)\n",
    "print(result)"
   ],
   "outputs": [
    {
     "output_type": "stream",
     "name": "stdout",
     "text": [
      "0\n"
     ]
    }
   ],
   "metadata": {}
  },
  {
   "cell_type": "code",
   "execution_count": 7,
   "source": [
    "# This call ignores division by zero\n",
    "result = safe_division(1.0, 0, False, True)\n",
    "print(result)"
   ],
   "outputs": [
    {
     "output_type": "stream",
     "name": "stdout",
     "text": [
      "inf\n"
     ]
    }
   ],
   "metadata": {}
  },
  {
   "cell_type": "markdown",
   "source": [
    "The problem with the code above is that it's easy to confuse the position of the two Boolean arguments. This can cause bugs that are hard to track down. We can mitigate this by using keyword arguments."
   ],
   "metadata": {}
  },
  {
   "cell_type": "code",
   "execution_count": 19,
   "source": [
    "def safe_division_b(number, divisor, \n",
    "                  ignore_overflow=False, # Changed\n",
    "                  ignore_zero_division=False): # Changed\n",
    "    try:\n",
    "        return number / divisor\n",
    "    except OverflowError:\n",
    "        if ignore_overflow:\n",
    "            return 0\n",
    "        else:\n",
    "            raise\n",
    "    except ZeroDivisionError:\n",
    "        if ignore_zero_division:\n",
    "            return float('inf')\n",
    "        else:\n",
    "            raise"
   ],
   "outputs": [],
   "metadata": {}
  },
  {
   "cell_type": "code",
   "execution_count": 20,
   "source": [
    "# Then, calers can use keyword arguments which of the ignore flags the want to set for specific operations,\n",
    "# overriding the default behavior\n",
    "result1 = safe_division_b(1.0, 10**500, ignore_overflow=True)\n",
    "print(result1)\n",
    "\n",
    "result2 = safe_division_b(1.0, 0, ignore_zero_division=True)\n",
    "print(result2)"
   ],
   "outputs": [
    {
     "output_type": "stream",
     "name": "stdout",
     "text": [
      "0\n",
      "inf\n"
     ]
    }
   ],
   "metadata": {}
  },
  {
   "cell_type": "markdown",
   "source": [
    "The problem with `safe_division_b` is that there is nothing forcing callers to use keyword arguments (they are still optional). "
   ],
   "metadata": {}
  },
  {
   "cell_type": "code",
   "execution_count": 23,
   "source": [
    "# Even with the new definition of safe_division_b, we can still call the function the old way with positional\n",
    "# arguments\n",
    "assert safe_division_b(1.0, 10**500, True, False) == 0"
   ],
   "outputs": [],
   "metadata": {}
  },
  {
   "cell_type": "markdown",
   "source": [
    "With complex functions like `safe_division` its better to require that callers are clear about their intentions by defining functions with *keyword-only* arguments. These arguments can only be supplied by keyword, never by position."
   ],
   "metadata": {}
  },
  {
   "cell_type": "code",
   "execution_count": 24,
   "source": [
    "# Here we redefine the safe_division function to accept keyword-only arguments. The * symbol in the arguments\n",
    "# list indicates the end of positional arguments and the beginning of keyword-only arguments\n"
   ],
   "outputs": [],
   "metadata": {}
  },
  {
   "cell_type": "code",
   "execution_count": 25,
   "source": [
    "def safe_division_c(number, divisor, *,  # Changed\n",
    "                  ignore_overflow=False,\n",
    "                  ignore_zero_division=False):\n",
    "    try:\n",
    "        return number / divisor\n",
    "    except OverflowError:\n",
    "        if ignore_overflow:\n",
    "            return 0\n",
    "        else:\n",
    "            raise\n",
    "    except ZeroDivisionError:\n",
    "        if ignore_zero_division:\n",
    "            return float('inf')\n",
    "        else:\n",
    "            raise"
   ],
   "outputs": [],
   "metadata": {}
  },
  {
   "cell_type": "code",
   "execution_count": 26,
   "source": [
    "# Now calling the function with positional arguments for the keyword arguments won't work\n",
    "safe_division_c(1.0, 10**500, True, False)"
   ],
   "outputs": [
    {
     "output_type": "error",
     "ename": "TypeError",
     "evalue": "safe_division_c() takes 2 positional arguments but 4 were given",
     "traceback": [
      "\u001b[0;31m---------------------------------------------------------------------------\u001b[0m",
      "\u001b[0;31mTypeError\u001b[0m                                 Traceback (most recent call last)",
      "\u001b[0;32m/var/folders/z0/r2_8k6953pq5sqg15yclzhxh0000gn/T/ipykernel_43835/1397538285.py\u001b[0m in \u001b[0;36m<module>\u001b[0;34m\u001b[0m\n\u001b[1;32m      1\u001b[0m \u001b[0;31m# Now calling the function with positional arguments for the keyword arguments won't work\u001b[0m\u001b[0;34m\u001b[0m\u001b[0;34m\u001b[0m\u001b[0;34m\u001b[0m\u001b[0m\n\u001b[0;32m----> 2\u001b[0;31m \u001b[0msafe_division_c\u001b[0m\u001b[0;34m(\u001b[0m\u001b[0;36m1.0\u001b[0m\u001b[0;34m,\u001b[0m \u001b[0;36m10\u001b[0m\u001b[0;34m**\u001b[0m\u001b[0;36m500\u001b[0m\u001b[0;34m,\u001b[0m \u001b[0;32mTrue\u001b[0m\u001b[0;34m,\u001b[0m \u001b[0;32mFalse\u001b[0m\u001b[0;34m)\u001b[0m\u001b[0;34m\u001b[0m\u001b[0;34m\u001b[0m\u001b[0m\n\u001b[0m",
      "\u001b[0;31mTypeError\u001b[0m: safe_division_c() takes 2 positional arguments but 4 were given"
     ]
    }
   ],
   "metadata": {}
  },
  {
   "cell_type": "code",
   "execution_count": 30,
   "source": [
    "# But keyword arguments and their default values will work as expected\n",
    "result = safe_division_c(1.0, 0, ignore_zero_division=True)\n",
    "assert result == float('inf')\n",
    "\n",
    "try:\n",
    "    result = safe_division_c(1.0, 0)\n",
    "except ZeroDivisionError:\n",
    "    pass # Expected"
   ],
   "outputs": [],
   "metadata": {}
  },
  {
   "cell_type": "code",
   "execution_count": 31,
   "source": [
    "# However, a problem still remains with the safe_division_c version of this function: Callers may specify the\n",
    "# first two required arguments (number and divisor) with a mix of positions and keywords\n",
    "assert safe_division_c(number=2, divisor=5) == 0.4\n",
    "assert safe_division_c(divisor=5,number=2) == 0.4\n",
    "assert safe_division_c(2, divisor=5) == 0.4"
   ],
   "outputs": [],
   "metadata": {}
  },
  {
   "cell_type": "code",
   "execution_count": 33,
   "source": [
    "# If we later decide to change the name of these two arguments for whatever reason, it will break break all\n",
    "# subsequent calls to the function where number and divisor were specified using keyword arguments\n",
    "def safe_division_c(numerator, denomitor, *,  # Changed\n",
    "                  ignore_overflow=False,\n",
    "                  ignore_zero_division=False):\n",
    "    try:\n",
    "        return numerator / denomitor\n",
    "    except OverflowError:\n",
    "        if ignore_overflow:\n",
    "            return 0\n",
    "        else:\n",
    "            raise\n",
    "    except ZeroDivisionError:\n",
    "        if ignore_zero_division:\n",
    "            return float('inf')\n",
    "        else:\n",
    "            raise\n",
    "\n",
    "safe_division_c(number=2, divisor=5)"
   ],
   "outputs": [
    {
     "output_type": "error",
     "ename": "TypeError",
     "evalue": "safe_division_c() got an unexpected keyword argument 'number'",
     "traceback": [
      "\u001b[0;31m---------------------------------------------------------------------------\u001b[0m",
      "\u001b[0;31mTypeError\u001b[0m                                 Traceback (most recent call last)",
      "\u001b[0;32m/var/folders/z0/r2_8k6953pq5sqg15yclzhxh0000gn/T/ipykernel_43835/1808263348.py\u001b[0m in \u001b[0;36m<module>\u001b[0;34m\u001b[0m\n\u001b[1;32m     17\u001b[0m             \u001b[0;32mraise\u001b[0m\u001b[0;34m\u001b[0m\u001b[0;34m\u001b[0m\u001b[0m\n\u001b[1;32m     18\u001b[0m \u001b[0;34m\u001b[0m\u001b[0m\n\u001b[0;32m---> 19\u001b[0;31m \u001b[0msafe_division_c\u001b[0m\u001b[0;34m(\u001b[0m\u001b[0mnumber\u001b[0m\u001b[0;34m=\u001b[0m\u001b[0;36m2\u001b[0m\u001b[0;34m,\u001b[0m \u001b[0mdivisor\u001b[0m\u001b[0;34m=\u001b[0m\u001b[0;36m5\u001b[0m\u001b[0;34m)\u001b[0m\u001b[0;34m\u001b[0m\u001b[0;34m\u001b[0m\u001b[0m\n\u001b[0m",
      "\u001b[0;31mTypeError\u001b[0m: safe_division_c() got an unexpected keyword argument 'number'"
     ]
    }
   ],
   "metadata": {}
  },
  {
   "cell_type": "markdown",
   "source": [
    "The situation above is specifically problematic because we never intended for `number` and `divisor` to be part of an explicit interface for this function. These were just convinient parameters names that we chose for our implementation, and we didn't expect anyone to rely on them explicitly.\n",
    "\n",
    "Thankfully, Python 3.8 introduces a solution to this problem, called *positional-only arguments*. These arguments shall be supplied only by position and never by keyword (the opposite of keyword-only arguments)."
   ],
   "metadata": {}
  },
  {
   "cell_type": "code",
   "execution_count": 34,
   "source": [
    "# Here we redefine the safe_division function to use positional-only arguments for the first two required\n",
    "# parameters. The / symbol indicates where positional-only arguments end.\n",
    "def safe_division_d(numerator, denomitor, /, *, # Changed\n",
    "                  ignore_overflow=False,\n",
    "                  ignore_zero_division=False):\n",
    "    try:\n",
    "        return numerator / denomitor\n",
    "    except OverflowError:\n",
    "        if ignore_overflow:\n",
    "            return 0\n",
    "        else:\n",
    "            raise\n",
    "    except ZeroDivisionError:\n",
    "        if ignore_zero_division:\n",
    "            return float('inf')\n",
    "        else:\n",
    "            raise"
   ],
   "outputs": [],
   "metadata": {}
  },
  {
   "cell_type": "code",
   "execution_count": 35,
   "source": [
    "# We can verify that this function works when the required arguments are provided positionally\n",
    "assert safe_division_d(2, 5) == 0.4"
   ],
   "outputs": [],
   "metadata": {}
  },
  {
   "cell_type": "code",
   "execution_count": 36,
   "source": [
    "# But an exception is raised if keyword arguments are used for the positional-only parameters\n",
    "assert safe_division_d(numerator=2, denominator=5) == 0.4"
   ],
   "outputs": [
    {
     "output_type": "error",
     "ename": "TypeError",
     "evalue": "safe_division_d() got some positional-only arguments passed as keyword arguments: 'numerator'",
     "traceback": [
      "\u001b[0;31m---------------------------------------------------------------------------\u001b[0m",
      "\u001b[0;31mTypeError\u001b[0m                                 Traceback (most recent call last)",
      "\u001b[0;32m/var/folders/z0/r2_8k6953pq5sqg15yclzhxh0000gn/T/ipykernel_43835/3649622062.py\u001b[0m in \u001b[0;36m<module>\u001b[0;34m\u001b[0m\n\u001b[1;32m      1\u001b[0m \u001b[0;31m# But an exception is raised if keyword arguments are used for the positional-only parameters\u001b[0m\u001b[0;34m\u001b[0m\u001b[0;34m\u001b[0m\u001b[0;34m\u001b[0m\u001b[0m\n\u001b[0;32m----> 2\u001b[0;31m \u001b[0;32massert\u001b[0m \u001b[0msafe_division_d\u001b[0m\u001b[0;34m(\u001b[0m\u001b[0mnumerator\u001b[0m\u001b[0;34m=\u001b[0m\u001b[0;36m2\u001b[0m\u001b[0;34m,\u001b[0m \u001b[0mdenominator\u001b[0m\u001b[0;34m=\u001b[0m\u001b[0;36m5\u001b[0m\u001b[0;34m)\u001b[0m \u001b[0;34m==\u001b[0m \u001b[0;36m0.4\u001b[0m\u001b[0;34m\u001b[0m\u001b[0;34m\u001b[0m\u001b[0m\n\u001b[0m",
      "\u001b[0;31mTypeError\u001b[0m: safe_division_d() got some positional-only arguments passed as keyword arguments: 'numerator'"
     ]
    }
   ],
   "metadata": {}
  },
  {
   "cell_type": "markdown",
   "source": [
    "One notable consequence of keyword-and positional-only argumentsis that any parameter names between the `/` and the `*` symbols in the arguments list may be passed by either position or by keyword (which is the default for all functions in Python). Depending on our API's styles and needs, allowing both types of arguments can increase readability and reduce noise. "
   ],
   "metadata": {}
  },
  {
   "cell_type": "code",
   "execution_count": 37,
   "source": [
    "def safe_division_e(numerator, denomitor, /, \n",
    "                    ndigits=10, *, # Changed\n",
    "                    ignore_overflow=False,\n",
    "                    ignore_zero_division=False):\n",
    "    try:\n",
    "        fraction = numerator / denomitor # Changed\n",
    "        return round(fraction, ndigits) # Changed\n",
    "    except OverflowError:\n",
    "        if ignore_overflow:\n",
    "            return 0\n",
    "        else:\n",
    "            raise\n",
    "    except ZeroDivisionError:\n",
    "        if ignore_zero_division:\n",
    "            return float('inf')\n",
    "        else:\n",
    "            raise"
   ],
   "outputs": [],
   "metadata": {}
  },
  {
   "cell_type": "code",
   "execution_count": 38,
   "source": [
    "# Now we can call this new version of the function in all these different ways, since digits is an optional\n",
    "# parameter that may be passed either by position or by keyword\n",
    "result = safe_division_e(22, 7)\n",
    "print(result)\n",
    "\n",
    "result = safe_division_e(22, 7, 5)\n",
    "print(result)\n",
    "\n",
    "result = safe_division_e(22, 7, ndigits=2)\n",
    "print(result)"
   ],
   "outputs": [
    {
     "output_type": "stream",
     "name": "stdout",
     "text": [
      "3.1428571429\n",
      "3.14286\n",
      "3.14\n"
     ]
    }
   ],
   "metadata": {}
  },
  {
   "cell_type": "code",
   "execution_count": null,
   "source": [],
   "outputs": [],
   "metadata": {}
  }
 ],
 "metadata": {
  "orig_nbformat": 4,
  "language_info": {
   "name": "python",
   "version": "3.9.4",
   "mimetype": "text/x-python",
   "codemirror_mode": {
    "name": "ipython",
    "version": 3
   },
   "pygments_lexer": "ipython3",
   "nbconvert_exporter": "python",
   "file_extension": ".py"
  },
  "kernelspec": {
   "name": "python3",
   "display_name": "Python 3.9.4 64-bit"
  },
  "interpreter": {
   "hash": "aee8b7b246df8f9039afb4144a1f6fd8d2ca17a180786b69acc140d282b71a49"
  }
 },
 "nbformat": 4,
 "nbformat_minor": 2
}