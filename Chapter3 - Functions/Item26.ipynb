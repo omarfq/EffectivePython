{
 "cells": [
  {
   "cell_type": "markdown",
   "source": [
    "# Item 26: Define Function Decorators with `functools.wraps`"
   ],
   "metadata": {}
  },
  {
   "cell_type": "code",
   "execution_count": 1,
   "source": [
    "# A decorator has the ability to run additional code before and after each call to a function it wraps.\n",
    "# For example, say that we want to print the arguments and return the value of a function call\n",
    "def trace(func):\n",
    "    def wrapper(*args, **kwargs):\n",
    "        result = func(*args, **kwargs)\n",
    "        print(f'{func.__name__} ({args!r}, {kwargs!r}) '\n",
    "              f'-> {result!r}')\n",
    "        return result\n",
    "    return wrapper"
   ],
   "outputs": [],
   "metadata": {}
  },
  {
   "cell_type": "code",
   "execution_count": 5,
   "source": [
    "# We can apply this decorator to a function using the @ symbol\n",
    "@trace\n",
    "def fibonacci(n):\n",
    "    \"\"\"Returns the n-th Fibonacci number\"\"\"\n",
    "    if n in (0, 1):\n",
    "        return n\n",
    "    return (fibonacci(n - 2) + fibonacci(n -1))"
   ],
   "outputs": [],
   "metadata": {}
  },
  {
   "cell_type": "markdown",
   "source": [
    "Using the `@` symbol is equivalent to calling the decorator on the function it wraps and assigning the return value to the original name in the same scope:\n",
    "\n",
    "`fibonacci = trace(fibonacci)`"
   ],
   "metadata": {}
  },
  {
   "cell_type": "code",
   "execution_count": 6,
   "source": [
    "# The decorated function runs the wrapper code before and after fibonacci runs\n",
    "fibonacci(4)"
   ],
   "outputs": [
    {
     "output_type": "stream",
     "name": "stdout",
     "text": [
      "fibonacci ((0,), {}) -> 0\n",
      "fibonacci ((1,), {}) -> 1\n",
      "fibonacci ((2,), {}) -> 1\n",
      "fibonacci ((1,), {}) -> 1\n",
      "fibonacci ((0,), {}) -> 0\n",
      "fibonacci ((1,), {}) -> 1\n",
      "fibonacci ((2,), {}) -> 1\n",
      "fibonacci ((3,), {}) -> 2\n",
      "fibonacci ((4,), {}) -> 3\n"
     ]
    },
    {
     "output_type": "execute_result",
     "data": {
      "text/plain": [
       "3"
      ]
     },
     "metadata": {},
     "execution_count": 6
    }
   ],
   "metadata": {}
  },
  {
   "cell_type": "code",
   "execution_count": 7,
   "source": [
    "# This works well, but it has an unintended side effect. The value returned by the decorator doesn't think it's\n",
    "# named fibonacci\n",
    "print(fibonacci)"
   ],
   "outputs": [
    {
     "output_type": "stream",
     "name": "stdout",
     "text": [
      "<function trace.<locals>.wrapper at 0x7fc5185831f0>\n"
     ]
    }
   ],
   "metadata": {}
  },
  {
   "cell_type": "markdown",
   "source": [
    "The reason this happens is because the `trace` function returns the wrapper defined within its body. The `wrapper` functions is what's assigned to the fibonacci name in the containing module. This behavior is problematic because it undermines tools that do introspection. "
   ],
   "metadata": {}
  },
  {
   "cell_type": "code",
   "execution_count": 8,
   "source": [
    "# For example, the help() built-in function is useless when called in the decorated fibonacci function. It should\n",
    "# instead print out the docstring defined above ('Returns the n-th Fibonacci number')\n",
    "help(fibonacci)"
   ],
   "outputs": [
    {
     "output_type": "stream",
     "name": "stdout",
     "text": [
      "Help on function wrapper in module __main__:\n",
      "\n",
      "wrapper(*args, **kwargs)\n",
      "\n"
     ]
    }
   ],
   "metadata": {}
  },
  {
   "cell_type": "code",
   "execution_count": 9,
   "source": [
    "# Objects serializers break because they cant determnine the location of the original function that was decorated\n",
    "import pickle\n",
    "\n",
    "pickle.dumps(fibonacci)"
   ],
   "outputs": [
    {
     "output_type": "error",
     "ename": "AttributeError",
     "evalue": "Can't pickle local object 'trace.<locals>.wrapper'",
     "traceback": [
      "\u001b[0;31m---------------------------------------------------------------------------\u001b[0m",
      "\u001b[0;31mAttributeError\u001b[0m                            Traceback (most recent call last)",
      "\u001b[0;32m/var/folders/z0/r2_8k6953pq5sqg15yclzhxh0000gn/T/ipykernel_44696/1822552229.py\u001b[0m in \u001b[0;36m<module>\u001b[0;34m\u001b[0m\n\u001b[1;32m      2\u001b[0m \u001b[0;32mimport\u001b[0m \u001b[0mpickle\u001b[0m\u001b[0;34m\u001b[0m\u001b[0;34m\u001b[0m\u001b[0m\n\u001b[1;32m      3\u001b[0m \u001b[0;34m\u001b[0m\u001b[0m\n\u001b[0;32m----> 4\u001b[0;31m \u001b[0mpickle\u001b[0m\u001b[0;34m.\u001b[0m\u001b[0mdumps\u001b[0m\u001b[0;34m(\u001b[0m\u001b[0mfibonacci\u001b[0m\u001b[0;34m)\u001b[0m\u001b[0;34m\u001b[0m\u001b[0;34m\u001b[0m\u001b[0m\n\u001b[0m",
      "\u001b[0;31mAttributeError\u001b[0m: Can't pickle local object 'trace.<locals>.wrapper'"
     ]
    }
   ],
   "metadata": {}
  },
  {
   "cell_type": "markdown",
   "source": [
    "The solution to this is to use the `wraps` helper function from the `functools`  built-in module. This is a decorator that helps you write decorators. When we apply it to the `wrapper` function, it copies all of the important metadata abut the inner function to the outer function."
   ],
   "metadata": {}
  },
  {
   "cell_type": "code",
   "execution_count": 24,
   "source": [
    "from functools import wraps\n",
    "\n",
    "def trace(func):\n",
    "    @wraps(func)\n",
    "    def wrapper(*args, **kwargs):\n",
    "        result = func(*args, **kwargs)\n",
    "        print(f'{func.__name__} ({args!r}, {kwargs!r}) '\n",
    "              f'-> {result!r}')\n",
    "        return result\n",
    "    return wrapper\n",
    "\n",
    "@trace\n",
    "def fibonacci(n):\n",
    "    \"\"\"Returns the n-th Fibonacci number\"\"\"\n",
    "    if n in (0, 1):\n",
    "        return n\n",
    "    return (fibonacci(n - 2) + fibonacci(n -1))"
   ],
   "outputs": [],
   "metadata": {}
  },
  {
   "cell_type": "code",
   "execution_count": 25,
   "source": [
    "help(fibonacci)"
   ],
   "outputs": [
    {
     "output_type": "stream",
     "name": "stdout",
     "text": [
      "Help on function fibonacci in module __main__:\n",
      "\n",
      "fibonacci(n)\n",
      "    Returns the n-th Fibonacci number\n",
      "\n"
     ]
    }
   ],
   "metadata": {}
  },
  {
   "cell_type": "code",
   "execution_count": 26,
   "source": [
    "# The pickle object serializer also works\n",
    "print(pickle.dumps(fibonacci))"
   ],
   "outputs": [
    {
     "output_type": "stream",
     "name": "stdout",
     "text": [
      "b'\\x80\\x04\\x95\\x1a\\x00\\x00\\x00\\x00\\x00\\x00\\x00\\x8c\\x08__main__\\x94\\x8c\\tfibonacci\\x94\\x93\\x94.'\n"
     ]
    }
   ],
   "metadata": {}
  },
  {
   "cell_type": "code",
   "execution_count": null,
   "source": [],
   "outputs": [],
   "metadata": {}
  }
 ],
 "metadata": {
  "orig_nbformat": 4,
  "language_info": {
   "name": "python",
   "version": "3.9.4",
   "mimetype": "text/x-python",
   "codemirror_mode": {
    "name": "ipython",
    "version": 3
   },
   "pygments_lexer": "ipython3",
   "nbconvert_exporter": "python",
   "file_extension": ".py"
  },
  "kernelspec": {
   "name": "python3",
   "display_name": "Python 3.9.4 64-bit"
  },
  "interpreter": {
   "hash": "aee8b7b246df8f9039afb4144a1f6fd8d2ca17a180786b69acc140d282b71a49"
  }
 },
 "nbformat": 4,
 "nbformat_minor": 2
}